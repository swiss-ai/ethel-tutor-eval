{
 "cells": [
  {
   "cell_type": "code",
   "id": "initial_id",
   "metadata": {
    "collapsed": true,
    "ExecuteTime": {
     "end_time": "2024-11-18T14:12:26.007564Z",
     "start_time": "2024-11-18T14:12:25.999308Z"
    }
   },
   "source": [
    "import random\n",
    "\n",
    "def nshot_chats(nshot_data: list, n: int, question: str) -> dict:\n",
    "\n",
    "    def question_prompt(s):\n",
    "        return f'Question: {s}'\n",
    "\n",
    "    def answer_prompt(s):\n",
    "        return f'Answer: {s}'\n",
    "\n",
    "    chats = []\n",
    "\n",
    "    random.seed(42)\n",
    "    for qna in random.sample(nshot_data, n):\n",
    "        chats.append(\n",
    "            {\"role\": \"user\", \"content\": question_prompt(qna[\"question\"])})\n",
    "        chats.append(\n",
    "            {\"role\": \"assistant\", \"content\": answer_prompt(qna[\"answer\"])})\n",
    "\n",
    "    chats.append({\"role\": \"user\", \"content\": question_prompt(question)+\n",
    "                                             \" Let's think step by step. At the end, you MUST write the answer as an integer after '####'.\"})\n",
    "\n",
    "    return chats\n",
    "\n",
    "\n",
    "def extract_ans_from_response(answer: str, eos=None):\n",
    "    if eos:\n",
    "        answer = answer.split(eos)[0].strip()\n",
    "\n",
    "    answer = answer.split('####')[-1].strip()\n",
    "\n",
    "    for remove_char in [',', '$', '%', 'g']:\n",
    "        answer = answer.replace(remove_char, '')\n",
    "\n",
    "    try:\n",
    "        return int(answer)\n",
    "    except ValueError:\n",
    "        return answer"
   ],
   "outputs": [],
   "execution_count": 4
  },
  {
   "metadata": {
    "ExecuteTime": {
     "end_time": "2024-11-18T14:14:15.420076Z",
     "start_time": "2024-11-18T14:14:15.416777Z"
    }
   },
   "cell_type": "code",
   "source": [
    "import json\n",
    "def read_jsonl(path: str):\n",
    "    with open(path) as fh:\n",
    "        return [json.loads(line) for line in fh.readlines() if line]"
   ],
   "id": "6b8c7d8e3e1c2ad7",
   "outputs": [],
   "execution_count": 5
  },
  {
   "metadata": {
    "ExecuteTime": {
     "end_time": "2024-11-18T14:14:24.085890Z",
     "start_time": "2024-11-18T14:14:24.052839Z"
    }
   },
   "cell_type": "code",
   "source": [
    "train_data = read_jsonl('../data/gsm8k/train.jsonl')\n",
    "test_data = read_jsonl('../data/gsm8k/test.jsonl')"
   ],
   "id": "9d9267fa4b4ab5dd",
   "outputs": [],
   "execution_count": 6
  },
  {
   "metadata": {
    "ExecuteTime": {
     "end_time": "2024-11-18T14:14:35.917438Z",
     "start_time": "2024-11-18T14:14:35.915184Z"
    }
   },
   "cell_type": "code",
   "source": "",
   "id": "de76f05374a531d4",
   "outputs": [],
   "execution_count": null
  },
  {
   "metadata": {
    "ExecuteTime": {
     "end_time": "2024-11-18T14:50:04.915611Z",
     "start_time": "2024-11-18T14:50:04.908337Z"
    }
   },
   "cell_type": "code",
   "source": [
    "N_SHOT = 8\n",
    "\n",
    "messages = nshot_chats(nshot_data=train_data, n=N_SHOT, question=test_data[0]['question'])  # 8-shot prompt\n"
   ],
   "id": "81e181189ef000f",
   "outputs": [],
   "execution_count": 10
  },
  {
   "metadata": {
    "ExecuteTime": {
     "end_time": "2024-11-18T14:50:07.196276Z",
     "start_time": "2024-11-18T14:50:07.190371Z"
    }
   },
   "cell_type": "code",
   "source": "messages",
   "id": "fbabb24d3d5035a1",
   "outputs": [
    {
     "data": {
      "text/plain": [
       "[{'role': 'user',\n",
       "  'content': 'Question: For every 12 cans you recycle, you receive $0.50, and for every 5 kilograms of newspapers, you receive $1.50. If your family collected 144 cans and 20 kilograms of newspapers, how much money would you receive?'},\n",
       " {'role': 'assistant',\n",
       "  'content': 'Answer: There are 144/12 = <<144/12=12>>12 sets of 12 cans that the family collected.\\nSo, the family would receive $0.50 x 12 = $<<0.50*12=6>>6 for the cans.\\nThere are 20/5 = <<20/5=4>>4 sets of 5 kilograms of newspapers that the family collected.\\nSo, the family would receive $1.50 x 4 = $<<1.50*4=6>>6 for the newspapers.\\nTherefore, the family would receive a total of $6 + $6 = $<<6+6=12>>12.\\n#### 12'},\n",
       " {'role': 'user',\n",
       "  'content': 'Question: Betty picked 16 strawberries. Matthew picked 20 more strawberries than Betty and twice as many as Natalie. They used their strawberries to make jam. One jar of jam used 7 strawberries and they sold each jar at $4. How much money were they able to make from the strawberries they picked?'},\n",
       " {'role': 'assistant',\n",
       "  'content': 'Answer: Matthew picked 16 + 20 = <<16+20=36>>36 strawberries.\\nNatalie picked 36/2 = <<36/2=18>>18 strawberries.\\nAll together, they have 16 + 36 + 18 = <<16+36+18=70>>70 strawberries.\\nThey can make 70/7 = <<70/7=10>>10 jars of strawberries.\\nThey earn 10 x $4 = $<<10*4=40>>40 from the strawberries they picked.\\n#### 40'},\n",
       " {'role': 'user',\n",
       "  'content': 'Question: Jack has a stack of books that is 12 inches thick. He knows from experience that 80 pages is one inch thick. If he has 6 books, how many pages is each one on average?'},\n",
       " {'role': 'assistant',\n",
       "  'content': 'Answer: There are 960 pages because 80 x 12 = <<80*12=960>>960\\nEach book is 160 pages because 960 / 6 = <<960/6=160>>160\\n#### 160'},\n",
       " {'role': 'user',\n",
       "  'content': \"Question: James dumps his whole collection of 500 Legos on the floor and starts building a castle out of them.  He uses half the pieces before finishing and is told to put the rest away.  He puts all of the leftover pieces back in the box they came from, except for 5 missing pieces that he can't find.  How many Legos are in the box at the end?\"},\n",
       " {'role': 'assistant',\n",
       "  'content': \"Answer: James starts with 500 Legos and uses half of them, leaving 500/2=<<500/2=250>>250 Legos unused.\\nHe puts those unused Legos away but since he's missing 5 he only puts 250-5=<<250-5=245>>245 Legos away.\\n#### 245\"},\n",
       " {'role': 'user',\n",
       "  'content': 'Question: Ines had $20 in her purse. She bought 3 pounds of peaches, which are $2 per pound at the local farmers’ market. How much did she have left?'},\n",
       " {'role': 'assistant',\n",
       "  'content': 'Answer: Ines bought 3 pounds of peaches for 3 peaches * $2/peach = $<<3*2=6>>6.\\nInes has $20 - $6 = $<<20-6=14>>14 left.\\n#### 14'},\n",
       " {'role': 'user',\n",
       "  'content': 'Question: Aaron pays his actuary membership fees each year. The membership fee increases yearly by $10. If he pays $80 in the first year, how much does his membership cost, in dollars, in the sixth year?'},\n",
       " {'role': 'assistant',\n",
       "  'content': 'Answer: In year 2 he pays 80+10=$<<80+10=90>>90.\\nIn year 3 he pays 90+10=$<<90+10=100>>100.\\nIn year 4 he pays 100+10=$<<100+10=110>>110.\\nIn year 5 he pays 110+10=$<<110+10=120>>120.\\nIn year 6 he pays 120+10=$<<120+10=130>>130.\\n#### 130'},\n",
       " {'role': 'user',\n",
       "  'content': 'Question: Joseph invested $1000 into a hedge fund. The fund promised a yearly interest rate of 10%. If he deposited an additional $100 every month into the account to add to his initial investment of $1000, how much money will he have in the fund after two years?'},\n",
       " {'role': 'assistant',\n",
       "  'content': \"Answer: For the first year, Joseph will have invested $1000 + ($100 * 12) = $<<1000+100*12=2200>>2200.\\nThe interest calculated for the first year will be $2200 * 10% = $<<2200*10*.01=220>>220.\\nThe total value of the investment for the first year will be $2200 + $220 = $<<2200+220=2420>>2420.\\nFor the second year, the total invested will be $2420 + ($100 * 12) = $<<2420+100*12=3620>>3620.\\nThe interest calculated after the second year will be $3620 * 10% = $<<3620*10*.01=362>>362.\\nTherefore, Joseph's investment in the mutual fund will be worth $3620 + $362 = $<<3620+362=3982>>3982.\\n#### 3982\"},\n",
       " {'role': 'user',\n",
       "  'content': 'Question: The price of buying a wooden toy at the new Craftee And Best store is $20, and the cost of buying a hat is $10. If Kendra went to the shop with a $100 bill and bought two wooden toys and three hats, calculate the change she received.'},\n",
       " {'role': 'assistant',\n",
       "  'content': 'Answer: When Kendra bought 2 toys, she paid 2*$20 = $<<2*20=40>>40\\nSince the price of a hat is $10, when Kendra bought 3 hats, she paid 3*$10 = $<<3*10=30>>30\\nThe total costs for the hats and wooden toys Kendra bought is $40+$30 = $<<40+30=70>>70\\nFrom the $100 bill, Kendra received change worth $100-$70 =$<<100-70=30>>30\\n#### 30'},\n",
       " {'role': 'user',\n",
       "  'content': \"Question: Janet’s ducks lay 16 eggs per day. She eats three for breakfast every morning and bakes muffins for her friends every day with four. She sells the remainder at the farmers' market daily for $2 per fresh duck egg. How much in dollars does she make every day at the farmers' market? Let's think step by step. At the end, you MUST write the answer as an integer after '####'.\"}]"
      ]
     },
     "execution_count": 11,
     "metadata": {},
     "output_type": "execute_result"
    }
   ],
   "execution_count": 11
  },
  {
   "metadata": {
    "ExecuteTime": {
     "end_time": "2024-11-18T14:58:05.577840Z",
     "start_time": "2024-11-18T14:58:05.572784Z"
    }
   },
   "cell_type": "code",
   "source": [
    "import requests\n",
    "\n",
    "def get_llama2_response(messages):\n",
    "\n",
    "    response = requests.post(\n",
    "        \"http://localhost:11434/api/chat\",\n",
    "        json={\n",
    "            \"model\": \"llama3.2\",\n",
    "            \"messages\": messages,\n",
    "            \"stream\": False\n",
    "        }\n",
    "    )\n",
    "\n",
    "    response_data = response.json()\n",
    "    return response_data['message']['content']"
   ],
   "id": "b317a53b0fe6eb44",
   "outputs": [],
   "execution_count": 19
  },
  {
   "metadata": {
    "ExecuteTime": {
     "end_time": "2024-11-18T14:55:53.333775Z",
     "start_time": "2024-11-18T14:55:53.329481Z"
    }
   },
   "cell_type": "code",
   "source": "# extract_ans_from_response(response_daata['message']['content'])",
   "id": "406f61d832840008",
   "outputs": [
    {
     "data": {
      "text/plain": [
       "18"
      ]
     },
     "execution_count": 18,
     "metadata": {},
     "output_type": "execute_result"
    }
   ],
   "execution_count": 18
  },
  {
   "metadata": {
    "ExecuteTime": {
     "end_time": "2024-11-18T14:58:43.971784Z",
     "start_time": "2024-11-18T14:58:43.967349Z"
    }
   },
   "cell_type": "code",
   "source": "",
   "id": "a695ea09b4102cea",
   "outputs": [],
   "execution_count": null
  },
  {
   "metadata": {
    "ExecuteTime": {
     "end_time": "2024-11-18T15:10:10.198937Z",
     "start_time": "2024-11-18T15:00:04.524023Z"
    }
   },
   "cell_type": "code",
   "source": [
    "import os\n",
    "if not os.path.exists('log'):\n",
    "    os.makedirs('log')\n",
    "\n",
    "log_file_path = 'log/errors.txt'\n",
    "with open(log_file_path, 'w') as log_file:\n",
    "    log_file.write('')\n",
    "\n",
    "from tqdm import tqdm\n",
    "total = correct = 0\n",
    "for qna in tqdm(test_data[:100]):\n",
    "\n",
    "    messages = nshot_chats(nshot_data=train_data, n=N_SHOT, question=qna['question'])\n",
    "    response = get_llama2_response(messages)\n",
    "\n",
    "    pred_ans = extract_ans_from_response(response)\n",
    "    true_ans = extract_ans_from_response(qna['answer'])\n",
    "\n",
    "    total += 1\n",
    "    if pred_ans != true_ans:\n",
    "        with open(log_file_path, 'a', encoding='utf-8') as log_file:\n",
    "            log_file.write(f\"{messages}\\n\\n\")\n",
    "            log_file.write(f\"Response: {response}\\n\\n\")\n",
    "            log_file.write(f\"Ground Truth: {qna['answer']}\\n\\n\")\n",
    "            log_file.write(f\"Current Accuracy: {correct/total:.3f}\\n\\n\")\n",
    "            log_file.write('\\n\\n')\n",
    "    else:\n",
    "        correct += 1\n",
    "\n",
    "print(f\"Total Accuracy: {correct/total:.3f}\")"
   ],
   "id": "245b57e9389f9479",
   "outputs": [
    {
     "name": "stderr",
     "output_type": "stream",
     "text": [
      "100%|██████████| 100/100 [10:05<00:00,  6.06s/it]"
     ]
    },
    {
     "name": "stdout",
     "output_type": "stream",
     "text": [
      "Total Accuracy: 0.620\n"
     ]
    },
    {
     "name": "stderr",
     "output_type": "stream",
     "text": [
      "\n"
     ]
    }
   ],
   "execution_count": 22
  },
  {
   "metadata": {},
   "cell_type": "code",
   "outputs": [],
   "execution_count": null,
   "source": "",
   "id": "725bffd1c53931a5"
  }
 ],
 "metadata": {
  "kernelspec": {
   "display_name": "Python 3",
   "language": "python",
   "name": "python3"
  },
  "language_info": {
   "codemirror_mode": {
    "name": "ipython",
    "version": 2
   },
   "file_extension": ".py",
   "mimetype": "text/x-python",
   "name": "python",
   "nbconvert_exporter": "python",
   "pygments_lexer": "ipython2",
   "version": "2.7.6"
  }
 },
 "nbformat": 4,
 "nbformat_minor": 5
}
