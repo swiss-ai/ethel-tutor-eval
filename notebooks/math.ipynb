{
 "cells": [
  {
   "cell_type": "code",
   "id": "initial_id",
   "metadata": {
    "collapsed": true,
    "ExecuteTime": {
     "end_time": "2024-11-18T16:46:48.521763Z",
     "start_time": "2024-11-18T16:46:48.511200Z"
    }
   },
   "source": [
    "import os\n",
    "import json\n",
    "\n",
    "import tqdm"
   ],
   "outputs": [],
   "execution_count": 3
  },
  {
   "metadata": {
    "ExecuteTime": {
     "end_time": "2024-11-18T16:46:49.270796Z",
     "start_time": "2024-11-18T16:46:49.267434Z"
    }
   },
   "cell_type": "code",
   "source": "path = '/Users/vanek/PycharmProjects/tutor-llm/data/math/MATH/test'",
   "id": "3f34199b6a569755",
   "outputs": [],
   "execution_count": 4
  },
  {
   "metadata": {
    "ExecuteTime": {
     "end_time": "2024-11-18T16:46:50.244948Z",
     "start_time": "2024-11-18T16:46:49.960380Z"
    }
   },
   "cell_type": "code",
   "source": [
    "category_data = {}\n",
    "\n",
    "\n",
    "for category in os.listdir(path):\n",
    "    print(category)\n",
    "    category_data[category] = []\n",
    "    for file in os.listdir(os.path.join(path, category)):\n",
    "        with open(os.path.join(path, category, file), 'r') as f:\n",
    "            category_data[category].append(json.load(f))"
   ],
   "id": "270182ddccbe39b9",
   "outputs": [
    {
     "name": "stdout",
     "output_type": "stream",
     "text": [
      "counting_and_probability\n",
      "intermediate_algebra\n",
      "number_theory\n",
      "precalculus\n",
      "prealgebra\n",
      "geometry\n",
      "algebra\n"
     ]
    }
   ],
   "execution_count": 5
  },
  {
   "metadata": {
    "ExecuteTime": {
     "end_time": "2024-11-18T16:46:51.583398Z",
     "start_time": "2024-11-18T16:46:51.579886Z"
    }
   },
   "cell_type": "code",
   "source": [
    "sum_len = 0\n",
    "for c in category_data:\n",
    "    print(c, len(category_data[c]))\n",
    "    sum_len += len(category_data[c])\n",
    "print(sum_len)"
   ],
   "id": "cf446af3e8e70a08",
   "outputs": [
    {
     "name": "stdout",
     "output_type": "stream",
     "text": [
      "counting_and_probability 474\n",
      "intermediate_algebra 903\n",
      "number_theory 540\n",
      "precalculus 546\n",
      "prealgebra 871\n",
      "geometry 479\n",
      "algebra 1187\n",
      "5000\n"
     ]
    }
   ],
   "execution_count": 6
  },
  {
   "metadata": {
    "ExecuteTime": {
     "end_time": "2024-11-18T16:46:52.463336Z",
     "start_time": "2024-11-18T16:46:52.457613Z"
    }
   },
   "cell_type": "code",
   "source": "category_data['precalculus'][-12]",
   "id": "78cb9dde85365abf",
   "outputs": [
    {
     "data": {
      "text/plain": [
       "{'problem': 'The set of vectors $\\\\mathbf{v}$ such that\\n\\\\[\\\\operatorname{proj}_{\\\\begin{pmatrix} 2 \\\\\\\\ 1 \\\\end{pmatrix}} \\\\mathbf{v} = \\\\begin{pmatrix} 0 \\\\\\\\ 0 \\\\end{pmatrix}\\\\]lie on a line.  Enter the equation of this line in the form \"$y = mx + b$\".',\n",
       " 'level': 'Level 3',\n",
       " 'type': 'Precalculus',\n",
       " 'solution': 'Let $\\\\mathbf{v} = \\\\begin{pmatrix} x \\\\\\\\ y \\\\end{pmatrix}.$\\n\\nFrom the formula of a projection,\\n\\\\begin{align*}\\n\\\\operatorname{proj}_{\\\\begin{pmatrix} 2 \\\\\\\\ 1 \\\\end{pmatrix}} \\\\mathbf{v} &= \\\\frac{\\\\mathbf{v} \\\\cdot \\\\begin{pmatrix} 2 \\\\\\\\ 1 \\\\end{pmatrix}}{\\\\left\\\\| \\\\begin{pmatrix} 2 \\\\\\\\ 1 \\\\end{pmatrix} \\\\right\\\\|^2} \\\\begin{pmatrix} 2 \\\\\\\\ 1 \\\\end{pmatrix} \\\\\\\\\\n&= \\\\frac{\\\\begin{pmatrix} x \\\\\\\\ y \\\\end{pmatrix} \\\\cdot \\\\begin{pmatrix} 2 \\\\\\\\ 1 \\\\end{pmatrix}}{5} \\\\begin{pmatrix} 2 \\\\\\\\ 1 \\\\end{pmatrix} \\\\\\\\\\n&= \\\\frac{2x + y}{5} \\\\begin{pmatrix} 2 \\\\\\\\ 1 \\\\end{pmatrix} \\\\\\\\\\n&= \\\\begin{pmatrix} 0 \\\\\\\\ 0 \\\\end{pmatrix}.\\n\\\\end{align*}Then\\n\\\\[\\\\frac{2x + y}{5} = 0,\\\\]so $2x + y = 0.$  Thus, the equation of the line is $\\\\boxed{y = -2x}.$'}"
      ]
     },
     "execution_count": 7,
     "metadata": {},
     "output_type": "execute_result"
    }
   ],
   "execution_count": 7
  },
  {
   "metadata": {
    "ExecuteTime": {
     "end_time": "2024-11-18T16:46:54.253564Z",
     "start_time": "2024-11-18T16:46:54.053689Z"
    }
   },
   "cell_type": "code",
   "source": [
    "from datasets.math_dataset import normalize_final_answer, remove_boxed, last_boxed_only_string\n",
    "\n",
    "doc = category_data['precalculus'][-12]\n",
    "\n",
    "normalize_final_answer(remove_boxed(last_boxed_only_string(doc[\"solution\"])))"
   ],
   "id": "6fad25e880a3e325",
   "outputs": [
    {
     "data": {
      "text/plain": [
       "'-2x'"
      ]
     },
     "execution_count": 8,
     "metadata": {},
     "output_type": "execute_result"
    }
   ],
   "execution_count": 8
  },
  {
   "metadata": {
    "ExecuteTime": {
     "end_time": "2024-11-18T16:46:54.710698Z",
     "start_time": "2024-11-18T16:46:54.707972Z"
    }
   },
   "cell_type": "code",
   "source": "",
   "id": "47b3bf45a7e83f80",
   "outputs": [],
   "execution_count": null
  },
  {
   "metadata": {
    "ExecuteTime": {
     "end_time": "2024-11-18T16:46:55.024030Z",
     "start_time": "2024-11-18T16:46:55.019512Z"
    }
   },
   "cell_type": "code",
   "source": [
    "\n",
    "from datasets.math_dataset import list_fewshot_samples\n",
    "def nshot_chats(question: doc) -> dict:\n",
    "\n",
    "    def question_prompt(s):\n",
    "        return \"Problem:\" + \"\\n\" + s[\"problem\"]\n",
    "\n",
    "    def answer_prompt(s):\n",
    "        return  \"Solution:\" + \"\\n\" + s[\"solution\"]\n",
    "\n",
    "    chats = []\n",
    "\n",
    "    for qna in list_fewshot_samples():\n",
    "        chats.append(\n",
    "            {\"role\": \"user\", \"content\": question_prompt(qna)})\n",
    "        chats.append(\n",
    "            {\"role\": \"assistant\", \"content\": answer_prompt(qna)})\n",
    "\n",
    "    # chats.append({\"role\": \"user\", \"content\": question_prompt(question)+\n",
    "    #                                          \" Let's think step by step. At the end, you MUST write the answer as an integer after '####'.\"})\n",
    "\n",
    "    chats.append(\n",
    "        {\"role\": \"user\", \"content\": question_prompt(question)})\n",
    "\n",
    "    return chats"
   ],
   "id": "fb56b5e014bc63c",
   "outputs": [],
   "execution_count": 9
  },
  {
   "metadata": {
    "ExecuteTime": {
     "end_time": "2024-11-18T16:46:55.988933Z",
     "start_time": "2024-11-18T16:46:55.927652Z"
    }
   },
   "cell_type": "code",
   "source": [
    "import requests\n",
    "\n",
    "def get_llama2_response(messages):\n",
    "\n",
    "    response = requests.post(\n",
    "        \"http://localhost:11434/api/chat\",\n",
    "        json={\n",
    "            \"model\": \"llama3.2\",\n",
    "            \"messages\": messages,\n",
    "            \"stream\": False\n",
    "        }\n",
    "    )\n",
    "\n",
    "    response_data = response.json()\n",
    "    return response_data['message']['content']"
   ],
   "id": "d0b34e2e05fa778f",
   "outputs": [],
   "execution_count": 10
  },
  {
   "metadata": {
    "ExecuteTime": {
     "end_time": "2024-11-18T16:59:38.143937Z",
     "start_time": "2024-11-18T16:48:44.112217Z"
    }
   },
   "cell_type": "code",
   "source": [
    "from datasets.math_dataset import process_results, get_unnormalized_answer\n",
    "# for doc in tqdm.tqdm(category_data['algebra'][:10]):\n",
    "#     prompt = prepare_sample(doc)\n",
    "#\n",
    "\n",
    "\n",
    "import os\n",
    "if not os.path.exists('log'):\n",
    "    os.makedirs('log')\n",
    "\n",
    "log_file_path = 'log/errors_math.txt'\n",
    "with open(log_file_path, 'w') as log_file:\n",
    "    log_file.write('')\n",
    "\n",
    "\n",
    "total = correct = 0\n",
    "for qna in tqdm.tqdm(category_data['algebra'][:10]):\n",
    "\n",
    "    messages = nshot_chats(qna)\n",
    "    response = get_llama2_response(messages)\n",
    "\n",
    "\n",
    "    correct_ans = normalize_final_answer(remove_boxed(last_boxed_only_string(qna[\"solution\"])))\n",
    "    doc = {'answer': correct_ans}\n",
    "\n",
    "    res = process_results(doc, [response])['exact_match']\n",
    "\n",
    "\n",
    "    unnormalized_answer = get_unnormalized_answer(response)\n",
    "    answer = normalize_final_answer(unnormalized_answer)\n",
    "\n",
    "\n",
    "\n",
    "\n",
    "    total += 1\n",
    "    if not res:\n",
    "        with open(log_file_path, 'a', encoding='utf-8') as log_file:\n",
    "            log_file.write(f\"{messages}\\n\\n\")\n",
    "            log_file.write(f\"Response: {response}\\n\\n\")\n",
    "            log_file.write(f\"Ground Truth: {doc['answer']}\\n\\n\")\n",
    "            log_file.write(f\"Current Accuracy: {correct/total:.3f}\\n\\n\")\n",
    "            log_file.write('\\n\\n')\n",
    "    else:\n",
    "        correct += 1\n",
    "\n",
    "print(f\"Total Accuracy: {correct/total:.3f}\")"
   ],
   "id": "770931fd8122b3cf",
   "outputs": [
    {
     "name": "stderr",
     "output_type": "stream",
     "text": [
      " 30%|███       | 3/10 [10:53<25:25, 217.98s/it]\n"
     ]
    },
    {
     "ename": "KeyboardInterrupt",
     "evalue": "",
     "output_type": "error",
     "traceback": [
      "\u001B[0;31m---------------------------------------------------------------------------\u001B[0m",
      "\u001B[0;31mKeyboardInterrupt\u001B[0m                         Traceback (most recent call last)",
      "Cell \u001B[0;32mIn[14], line 20\u001B[0m\n\u001B[1;32m     17\u001B[0m \u001B[38;5;28;01mfor\u001B[39;00m qna \u001B[38;5;129;01min\u001B[39;00m tqdm\u001B[38;5;241m.\u001B[39mtqdm(category_data[\u001B[38;5;124m'\u001B[39m\u001B[38;5;124malgebra\u001B[39m\u001B[38;5;124m'\u001B[39m][:\u001B[38;5;241m10\u001B[39m]):\n\u001B[1;32m     19\u001B[0m     messages \u001B[38;5;241m=\u001B[39m nshot_chats(qna)\n\u001B[0;32m---> 20\u001B[0m     response \u001B[38;5;241m=\u001B[39m get_llama2_response(messages)\n\u001B[1;32m     23\u001B[0m     correct_ans \u001B[38;5;241m=\u001B[39m normalize_final_answer(remove_boxed(last_boxed_only_string(qna[\u001B[38;5;124m\"\u001B[39m\u001B[38;5;124msolution\u001B[39m\u001B[38;5;124m\"\u001B[39m])))\n\u001B[1;32m     24\u001B[0m     doc \u001B[38;5;241m=\u001B[39m {\u001B[38;5;124m'\u001B[39m\u001B[38;5;124manswer\u001B[39m\u001B[38;5;124m'\u001B[39m: correct_ans}\n",
      "Cell \u001B[0;32mIn[10], line 5\u001B[0m, in \u001B[0;36mget_llama2_response\u001B[0;34m(messages)\u001B[0m\n\u001B[1;32m      3\u001B[0m \u001B[38;5;28;01mdef\u001B[39;00m \u001B[38;5;21mget_llama2_response\u001B[39m(messages):\n\u001B[0;32m----> 5\u001B[0m     response \u001B[38;5;241m=\u001B[39m requests\u001B[38;5;241m.\u001B[39mpost(\n\u001B[1;32m      6\u001B[0m         \u001B[38;5;124m\"\u001B[39m\u001B[38;5;124mhttp://localhost:11434/api/chat\u001B[39m\u001B[38;5;124m\"\u001B[39m,\n\u001B[1;32m      7\u001B[0m         json\u001B[38;5;241m=\u001B[39m{\n\u001B[1;32m      8\u001B[0m             \u001B[38;5;124m\"\u001B[39m\u001B[38;5;124mmodel\u001B[39m\u001B[38;5;124m\"\u001B[39m: \u001B[38;5;124m\"\u001B[39m\u001B[38;5;124mllama3.2\u001B[39m\u001B[38;5;124m\"\u001B[39m,\n\u001B[1;32m      9\u001B[0m             \u001B[38;5;124m\"\u001B[39m\u001B[38;5;124mmessages\u001B[39m\u001B[38;5;124m\"\u001B[39m: messages,\n\u001B[1;32m     10\u001B[0m             \u001B[38;5;124m\"\u001B[39m\u001B[38;5;124mstream\u001B[39m\u001B[38;5;124m\"\u001B[39m: \u001B[38;5;28;01mFalse\u001B[39;00m\n\u001B[1;32m     11\u001B[0m         }\n\u001B[1;32m     12\u001B[0m     )\n\u001B[1;32m     14\u001B[0m     response_data \u001B[38;5;241m=\u001B[39m response\u001B[38;5;241m.\u001B[39mjson()\n\u001B[1;32m     15\u001B[0m     \u001B[38;5;28;01mreturn\u001B[39;00m response_data[\u001B[38;5;124m'\u001B[39m\u001B[38;5;124mmessage\u001B[39m\u001B[38;5;124m'\u001B[39m][\u001B[38;5;124m'\u001B[39m\u001B[38;5;124mcontent\u001B[39m\u001B[38;5;124m'\u001B[39m]\n",
      "File \u001B[0;32m~/anaconda3/envs/tutor-llm/lib/python3.12/site-packages/requests/api.py:115\u001B[0m, in \u001B[0;36mpost\u001B[0;34m(url, data, json, **kwargs)\u001B[0m\n\u001B[1;32m    103\u001B[0m \u001B[38;5;28;01mdef\u001B[39;00m \u001B[38;5;21mpost\u001B[39m(url, data\u001B[38;5;241m=\u001B[39m\u001B[38;5;28;01mNone\u001B[39;00m, json\u001B[38;5;241m=\u001B[39m\u001B[38;5;28;01mNone\u001B[39;00m, \u001B[38;5;241m*\u001B[39m\u001B[38;5;241m*\u001B[39mkwargs):\n\u001B[1;32m    104\u001B[0m \u001B[38;5;250m    \u001B[39m\u001B[38;5;124mr\u001B[39m\u001B[38;5;124;03m\"\"\"Sends a POST request.\u001B[39;00m\n\u001B[1;32m    105\u001B[0m \n\u001B[1;32m    106\u001B[0m \u001B[38;5;124;03m    :param url: URL for the new :class:`Request` object.\u001B[39;00m\n\u001B[0;32m   (...)\u001B[0m\n\u001B[1;32m    112\u001B[0m \u001B[38;5;124;03m    :rtype: requests.Response\u001B[39;00m\n\u001B[1;32m    113\u001B[0m \u001B[38;5;124;03m    \"\"\"\u001B[39;00m\n\u001B[0;32m--> 115\u001B[0m     \u001B[38;5;28;01mreturn\u001B[39;00m request(\u001B[38;5;124m\"\u001B[39m\u001B[38;5;124mpost\u001B[39m\u001B[38;5;124m\"\u001B[39m, url, data\u001B[38;5;241m=\u001B[39mdata, json\u001B[38;5;241m=\u001B[39mjson, \u001B[38;5;241m*\u001B[39m\u001B[38;5;241m*\u001B[39mkwargs)\n",
      "File \u001B[0;32m~/anaconda3/envs/tutor-llm/lib/python3.12/site-packages/requests/api.py:59\u001B[0m, in \u001B[0;36mrequest\u001B[0;34m(method, url, **kwargs)\u001B[0m\n\u001B[1;32m     55\u001B[0m \u001B[38;5;66;03m# By using the 'with' statement we are sure the session is closed, thus we\u001B[39;00m\n\u001B[1;32m     56\u001B[0m \u001B[38;5;66;03m# avoid leaving sockets open which can trigger a ResourceWarning in some\u001B[39;00m\n\u001B[1;32m     57\u001B[0m \u001B[38;5;66;03m# cases, and look like a memory leak in others.\u001B[39;00m\n\u001B[1;32m     58\u001B[0m \u001B[38;5;28;01mwith\u001B[39;00m sessions\u001B[38;5;241m.\u001B[39mSession() \u001B[38;5;28;01mas\u001B[39;00m session:\n\u001B[0;32m---> 59\u001B[0m     \u001B[38;5;28;01mreturn\u001B[39;00m session\u001B[38;5;241m.\u001B[39mrequest(method\u001B[38;5;241m=\u001B[39mmethod, url\u001B[38;5;241m=\u001B[39murl, \u001B[38;5;241m*\u001B[39m\u001B[38;5;241m*\u001B[39mkwargs)\n",
      "File \u001B[0;32m~/anaconda3/envs/tutor-llm/lib/python3.12/site-packages/requests/sessions.py:589\u001B[0m, in \u001B[0;36mSession.request\u001B[0;34m(self, method, url, params, data, headers, cookies, files, auth, timeout, allow_redirects, proxies, hooks, stream, verify, cert, json)\u001B[0m\n\u001B[1;32m    584\u001B[0m send_kwargs \u001B[38;5;241m=\u001B[39m {\n\u001B[1;32m    585\u001B[0m     \u001B[38;5;124m\"\u001B[39m\u001B[38;5;124mtimeout\u001B[39m\u001B[38;5;124m\"\u001B[39m: timeout,\n\u001B[1;32m    586\u001B[0m     \u001B[38;5;124m\"\u001B[39m\u001B[38;5;124mallow_redirects\u001B[39m\u001B[38;5;124m\"\u001B[39m: allow_redirects,\n\u001B[1;32m    587\u001B[0m }\n\u001B[1;32m    588\u001B[0m send_kwargs\u001B[38;5;241m.\u001B[39mupdate(settings)\n\u001B[0;32m--> 589\u001B[0m resp \u001B[38;5;241m=\u001B[39m \u001B[38;5;28mself\u001B[39m\u001B[38;5;241m.\u001B[39msend(prep, \u001B[38;5;241m*\u001B[39m\u001B[38;5;241m*\u001B[39msend_kwargs)\n\u001B[1;32m    591\u001B[0m \u001B[38;5;28;01mreturn\u001B[39;00m resp\n",
      "File \u001B[0;32m~/anaconda3/envs/tutor-llm/lib/python3.12/site-packages/requests/sessions.py:703\u001B[0m, in \u001B[0;36mSession.send\u001B[0;34m(self, request, **kwargs)\u001B[0m\n\u001B[1;32m    700\u001B[0m start \u001B[38;5;241m=\u001B[39m preferred_clock()\n\u001B[1;32m    702\u001B[0m \u001B[38;5;66;03m# Send the request\u001B[39;00m\n\u001B[0;32m--> 703\u001B[0m r \u001B[38;5;241m=\u001B[39m adapter\u001B[38;5;241m.\u001B[39msend(request, \u001B[38;5;241m*\u001B[39m\u001B[38;5;241m*\u001B[39mkwargs)\n\u001B[1;32m    705\u001B[0m \u001B[38;5;66;03m# Total elapsed time of the request (approximately)\u001B[39;00m\n\u001B[1;32m    706\u001B[0m elapsed \u001B[38;5;241m=\u001B[39m preferred_clock() \u001B[38;5;241m-\u001B[39m start\n",
      "File \u001B[0;32m~/anaconda3/envs/tutor-llm/lib/python3.12/site-packages/requests/adapters.py:667\u001B[0m, in \u001B[0;36mHTTPAdapter.send\u001B[0;34m(self, request, stream, timeout, verify, cert, proxies)\u001B[0m\n\u001B[1;32m    664\u001B[0m     timeout \u001B[38;5;241m=\u001B[39m TimeoutSauce(connect\u001B[38;5;241m=\u001B[39mtimeout, read\u001B[38;5;241m=\u001B[39mtimeout)\n\u001B[1;32m    666\u001B[0m \u001B[38;5;28;01mtry\u001B[39;00m:\n\u001B[0;32m--> 667\u001B[0m     resp \u001B[38;5;241m=\u001B[39m conn\u001B[38;5;241m.\u001B[39murlopen(\n\u001B[1;32m    668\u001B[0m         method\u001B[38;5;241m=\u001B[39mrequest\u001B[38;5;241m.\u001B[39mmethod,\n\u001B[1;32m    669\u001B[0m         url\u001B[38;5;241m=\u001B[39murl,\n\u001B[1;32m    670\u001B[0m         body\u001B[38;5;241m=\u001B[39mrequest\u001B[38;5;241m.\u001B[39mbody,\n\u001B[1;32m    671\u001B[0m         headers\u001B[38;5;241m=\u001B[39mrequest\u001B[38;5;241m.\u001B[39mheaders,\n\u001B[1;32m    672\u001B[0m         redirect\u001B[38;5;241m=\u001B[39m\u001B[38;5;28;01mFalse\u001B[39;00m,\n\u001B[1;32m    673\u001B[0m         assert_same_host\u001B[38;5;241m=\u001B[39m\u001B[38;5;28;01mFalse\u001B[39;00m,\n\u001B[1;32m    674\u001B[0m         preload_content\u001B[38;5;241m=\u001B[39m\u001B[38;5;28;01mFalse\u001B[39;00m,\n\u001B[1;32m    675\u001B[0m         decode_content\u001B[38;5;241m=\u001B[39m\u001B[38;5;28;01mFalse\u001B[39;00m,\n\u001B[1;32m    676\u001B[0m         retries\u001B[38;5;241m=\u001B[39m\u001B[38;5;28mself\u001B[39m\u001B[38;5;241m.\u001B[39mmax_retries,\n\u001B[1;32m    677\u001B[0m         timeout\u001B[38;5;241m=\u001B[39mtimeout,\n\u001B[1;32m    678\u001B[0m         chunked\u001B[38;5;241m=\u001B[39mchunked,\n\u001B[1;32m    679\u001B[0m     )\n\u001B[1;32m    681\u001B[0m \u001B[38;5;28;01mexcept\u001B[39;00m (ProtocolError, \u001B[38;5;167;01mOSError\u001B[39;00m) \u001B[38;5;28;01mas\u001B[39;00m err:\n\u001B[1;32m    682\u001B[0m     \u001B[38;5;28;01mraise\u001B[39;00m \u001B[38;5;167;01mConnectionError\u001B[39;00m(err, request\u001B[38;5;241m=\u001B[39mrequest)\n",
      "File \u001B[0;32m~/anaconda3/envs/tutor-llm/lib/python3.12/site-packages/urllib3/connectionpool.py:789\u001B[0m, in \u001B[0;36mHTTPConnectionPool.urlopen\u001B[0;34m(self, method, url, body, headers, retries, redirect, assert_same_host, timeout, pool_timeout, release_conn, chunked, body_pos, preload_content, decode_content, **response_kw)\u001B[0m\n\u001B[1;32m    786\u001B[0m response_conn \u001B[38;5;241m=\u001B[39m conn \u001B[38;5;28;01mif\u001B[39;00m \u001B[38;5;129;01mnot\u001B[39;00m release_conn \u001B[38;5;28;01melse\u001B[39;00m \u001B[38;5;28;01mNone\u001B[39;00m\n\u001B[1;32m    788\u001B[0m \u001B[38;5;66;03m# Make the request on the HTTPConnection object\u001B[39;00m\n\u001B[0;32m--> 789\u001B[0m response \u001B[38;5;241m=\u001B[39m \u001B[38;5;28mself\u001B[39m\u001B[38;5;241m.\u001B[39m_make_request(\n\u001B[1;32m    790\u001B[0m     conn,\n\u001B[1;32m    791\u001B[0m     method,\n\u001B[1;32m    792\u001B[0m     url,\n\u001B[1;32m    793\u001B[0m     timeout\u001B[38;5;241m=\u001B[39mtimeout_obj,\n\u001B[1;32m    794\u001B[0m     body\u001B[38;5;241m=\u001B[39mbody,\n\u001B[1;32m    795\u001B[0m     headers\u001B[38;5;241m=\u001B[39mheaders,\n\u001B[1;32m    796\u001B[0m     chunked\u001B[38;5;241m=\u001B[39mchunked,\n\u001B[1;32m    797\u001B[0m     retries\u001B[38;5;241m=\u001B[39mretries,\n\u001B[1;32m    798\u001B[0m     response_conn\u001B[38;5;241m=\u001B[39mresponse_conn,\n\u001B[1;32m    799\u001B[0m     preload_content\u001B[38;5;241m=\u001B[39mpreload_content,\n\u001B[1;32m    800\u001B[0m     decode_content\u001B[38;5;241m=\u001B[39mdecode_content,\n\u001B[1;32m    801\u001B[0m     \u001B[38;5;241m*\u001B[39m\u001B[38;5;241m*\u001B[39mresponse_kw,\n\u001B[1;32m    802\u001B[0m )\n\u001B[1;32m    804\u001B[0m \u001B[38;5;66;03m# Everything went great!\u001B[39;00m\n\u001B[1;32m    805\u001B[0m clean_exit \u001B[38;5;241m=\u001B[39m \u001B[38;5;28;01mTrue\u001B[39;00m\n",
      "File \u001B[0;32m~/anaconda3/envs/tutor-llm/lib/python3.12/site-packages/urllib3/connectionpool.py:536\u001B[0m, in \u001B[0;36mHTTPConnectionPool._make_request\u001B[0;34m(self, conn, method, url, body, headers, retries, timeout, chunked, response_conn, preload_content, decode_content, enforce_content_length)\u001B[0m\n\u001B[1;32m    534\u001B[0m \u001B[38;5;66;03m# Receive the response from the server\u001B[39;00m\n\u001B[1;32m    535\u001B[0m \u001B[38;5;28;01mtry\u001B[39;00m:\n\u001B[0;32m--> 536\u001B[0m     response \u001B[38;5;241m=\u001B[39m conn\u001B[38;5;241m.\u001B[39mgetresponse()\n\u001B[1;32m    537\u001B[0m \u001B[38;5;28;01mexcept\u001B[39;00m (BaseSSLError, \u001B[38;5;167;01mOSError\u001B[39;00m) \u001B[38;5;28;01mas\u001B[39;00m e:\n\u001B[1;32m    538\u001B[0m     \u001B[38;5;28mself\u001B[39m\u001B[38;5;241m.\u001B[39m_raise_timeout(err\u001B[38;5;241m=\u001B[39me, url\u001B[38;5;241m=\u001B[39murl, timeout_value\u001B[38;5;241m=\u001B[39mread_timeout)\n",
      "File \u001B[0;32m~/anaconda3/envs/tutor-llm/lib/python3.12/site-packages/urllib3/connection.py:507\u001B[0m, in \u001B[0;36mHTTPConnection.getresponse\u001B[0;34m(self)\u001B[0m\n\u001B[1;32m    504\u001B[0m \u001B[38;5;28;01mfrom\u001B[39;00m \u001B[38;5;21;01m.\u001B[39;00m\u001B[38;5;21;01mresponse\u001B[39;00m \u001B[38;5;28;01mimport\u001B[39;00m HTTPResponse\n\u001B[1;32m    506\u001B[0m \u001B[38;5;66;03m# Get the response from http.client.HTTPConnection\u001B[39;00m\n\u001B[0;32m--> 507\u001B[0m httplib_response \u001B[38;5;241m=\u001B[39m \u001B[38;5;28msuper\u001B[39m()\u001B[38;5;241m.\u001B[39mgetresponse()\n\u001B[1;32m    509\u001B[0m \u001B[38;5;28;01mtry\u001B[39;00m:\n\u001B[1;32m    510\u001B[0m     assert_header_parsing(httplib_response\u001B[38;5;241m.\u001B[39mmsg)\n",
      "File \u001B[0;32m~/anaconda3/envs/tutor-llm/lib/python3.12/http/client.py:1428\u001B[0m, in \u001B[0;36mHTTPConnection.getresponse\u001B[0;34m(self)\u001B[0m\n\u001B[1;32m   1426\u001B[0m \u001B[38;5;28;01mtry\u001B[39;00m:\n\u001B[1;32m   1427\u001B[0m     \u001B[38;5;28;01mtry\u001B[39;00m:\n\u001B[0;32m-> 1428\u001B[0m         response\u001B[38;5;241m.\u001B[39mbegin()\n\u001B[1;32m   1429\u001B[0m     \u001B[38;5;28;01mexcept\u001B[39;00m \u001B[38;5;167;01mConnectionError\u001B[39;00m:\n\u001B[1;32m   1430\u001B[0m         \u001B[38;5;28mself\u001B[39m\u001B[38;5;241m.\u001B[39mclose()\n",
      "File \u001B[0;32m~/anaconda3/envs/tutor-llm/lib/python3.12/http/client.py:331\u001B[0m, in \u001B[0;36mHTTPResponse.begin\u001B[0;34m(self)\u001B[0m\n\u001B[1;32m    329\u001B[0m \u001B[38;5;66;03m# read until we get a non-100 response\u001B[39;00m\n\u001B[1;32m    330\u001B[0m \u001B[38;5;28;01mwhile\u001B[39;00m \u001B[38;5;28;01mTrue\u001B[39;00m:\n\u001B[0;32m--> 331\u001B[0m     version, status, reason \u001B[38;5;241m=\u001B[39m \u001B[38;5;28mself\u001B[39m\u001B[38;5;241m.\u001B[39m_read_status()\n\u001B[1;32m    332\u001B[0m     \u001B[38;5;28;01mif\u001B[39;00m status \u001B[38;5;241m!=\u001B[39m CONTINUE:\n\u001B[1;32m    333\u001B[0m         \u001B[38;5;28;01mbreak\u001B[39;00m\n",
      "File \u001B[0;32m~/anaconda3/envs/tutor-llm/lib/python3.12/http/client.py:292\u001B[0m, in \u001B[0;36mHTTPResponse._read_status\u001B[0;34m(self)\u001B[0m\n\u001B[1;32m    291\u001B[0m \u001B[38;5;28;01mdef\u001B[39;00m \u001B[38;5;21m_read_status\u001B[39m(\u001B[38;5;28mself\u001B[39m):\n\u001B[0;32m--> 292\u001B[0m     line \u001B[38;5;241m=\u001B[39m \u001B[38;5;28mstr\u001B[39m(\u001B[38;5;28mself\u001B[39m\u001B[38;5;241m.\u001B[39mfp\u001B[38;5;241m.\u001B[39mreadline(_MAXLINE \u001B[38;5;241m+\u001B[39m \u001B[38;5;241m1\u001B[39m), \u001B[38;5;124m\"\u001B[39m\u001B[38;5;124miso-8859-1\u001B[39m\u001B[38;5;124m\"\u001B[39m)\n\u001B[1;32m    293\u001B[0m     \u001B[38;5;28;01mif\u001B[39;00m \u001B[38;5;28mlen\u001B[39m(line) \u001B[38;5;241m>\u001B[39m _MAXLINE:\n\u001B[1;32m    294\u001B[0m         \u001B[38;5;28;01mraise\u001B[39;00m LineTooLong(\u001B[38;5;124m\"\u001B[39m\u001B[38;5;124mstatus line\u001B[39m\u001B[38;5;124m\"\u001B[39m)\n",
      "File \u001B[0;32m~/anaconda3/envs/tutor-llm/lib/python3.12/socket.py:720\u001B[0m, in \u001B[0;36mSocketIO.readinto\u001B[0;34m(self, b)\u001B[0m\n\u001B[1;32m    718\u001B[0m \u001B[38;5;28;01mwhile\u001B[39;00m \u001B[38;5;28;01mTrue\u001B[39;00m:\n\u001B[1;32m    719\u001B[0m     \u001B[38;5;28;01mtry\u001B[39;00m:\n\u001B[0;32m--> 720\u001B[0m         \u001B[38;5;28;01mreturn\u001B[39;00m \u001B[38;5;28mself\u001B[39m\u001B[38;5;241m.\u001B[39m_sock\u001B[38;5;241m.\u001B[39mrecv_into(b)\n\u001B[1;32m    721\u001B[0m     \u001B[38;5;28;01mexcept\u001B[39;00m timeout:\n\u001B[1;32m    722\u001B[0m         \u001B[38;5;28mself\u001B[39m\u001B[38;5;241m.\u001B[39m_timeout_occurred \u001B[38;5;241m=\u001B[39m \u001B[38;5;28;01mTrue\u001B[39;00m\n",
      "\u001B[0;31mKeyboardInterrupt\u001B[0m: "
     ]
    }
   ],
   "execution_count": 14
  }
 ],
 "metadata": {
  "kernelspec": {
   "display_name": "Python 3",
   "language": "python",
   "name": "python3"
  },
  "language_info": {
   "codemirror_mode": {
    "name": "ipython",
    "version": 2
   },
   "file_extension": ".py",
   "mimetype": "text/x-python",
   "name": "python",
   "nbconvert_exporter": "python",
   "pygments_lexer": "ipython2",
   "version": "2.7.6"
  }
 },
 "nbformat": 4,
 "nbformat_minor": 5
}
