{
 "cells": [
  {
   "cell_type": "code",
   "id": "initial_id",
   "metadata": {
    "collapsed": true,
    "ExecuteTime": {
     "end_time": "2024-12-07T13:54:35.582684Z",
     "start_time": "2024-12-07T13:54:35.580249Z"
    }
   },
   "source": [
    "import json\n",
    "import os\n",
    "import random\n",
    "import tqdm\n",
    "from copy import deepcopy\n",
    "\n",
    "from our_datasets.tutoreval_dataset import TutorEval\n",
    "from utils.config import Config"
   ],
   "outputs": [],
   "execution_count": 44
  },
  {
   "metadata": {
    "ExecuteTime": {
     "end_time": "2024-12-07T13:32:47.165772Z",
     "start_time": "2024-12-07T13:32:47.163714Z"
    }
   },
   "cell_type": "code",
   "source": [
    "\n",
    "\n",
    "tutor_eval = TutorEval(config=Config('config.yaml', dataset_dir='data'))"
   ],
   "id": "63a2ee1a99f95862",
   "outputs": [],
   "execution_count": 2
  },
  {
   "metadata": {
    "ExecuteTime": {
     "end_time": "2024-12-07T13:32:47.185358Z",
     "start_time": "2024-12-07T13:32:47.176736Z"
    }
   },
   "cell_type": "code",
   "source": "tutor_eval.load()",
   "id": "af3709cb414aba4c",
   "outputs": [],
   "execution_count": 3
  },
  {
   "metadata": {
    "ExecuteTime": {
     "end_time": "2024-12-07T13:32:47.196120Z",
     "start_time": "2024-12-07T13:32:47.194254Z"
    }
   },
   "cell_type": "code",
   "source": "samples = tutor_eval.get_test_samples()",
   "id": "1c14525e1a47bb39",
   "outputs": [],
   "execution_count": 4
  },
  {
   "metadata": {
    "ExecuteTime": {
     "end_time": "2024-12-07T13:32:47.381924Z",
     "start_time": "2024-12-07T13:32:47.347811Z"
    }
   },
   "cell_type": "code",
   "source": "closed = [s for s in samples if s['closed_book']]",
   "id": "c9247fa73778bd62",
   "outputs": [],
   "execution_count": 5
  },
  {
   "metadata": {
    "ExecuteTime": {
     "end_time": "2024-12-07T13:32:47.499586Z",
     "start_time": "2024-12-07T13:32:47.495490Z"
    }
   },
   "cell_type": "code",
   "source": "len(samples), len(closed)",
   "id": "a52570ae17663376",
   "outputs": [
    {
     "data": {
      "text/plain": [
       "(834, 370)"
      ]
     },
     "execution_count": 6,
     "metadata": {},
     "output_type": "execute_result"
    }
   ],
   "execution_count": 6
  },
  {
   "metadata": {
    "ExecuteTime": {
     "end_time": "2024-12-07T13:32:47.603109Z",
     "start_time": "2024-12-07T13:32:47.600842Z"
    }
   },
   "cell_type": "code",
   "source": [
    "# filter out misleading\n",
    "print(\"Length before filtering\", len(closed))\n",
    "closed = [c for c in closed if c['misleading_question'] == False]\n",
    "print(\"Length after filtering\", len(closed))"
   ],
   "id": "44739b4e1300dc78",
   "outputs": [
    {
     "name": "stdout",
     "output_type": "stream",
     "text": [
      "Length before filtering 370\n",
      "Length after filtering 322\n"
     ]
    }
   ],
   "execution_count": 7
  },
  {
   "metadata": {
    "ExecuteTime": {
     "end_time": "2024-12-07T13:32:47.863686Z",
     "start_time": "2024-12-07T13:32:47.861223Z"
    }
   },
   "cell_type": "code",
   "source": "shuffled_closed = random.sample(closed, len(closed))",
   "id": "8bfa50b8719d0471",
   "outputs": [],
   "execution_count": 8
  },
  {
   "metadata": {
    "ExecuteTime": {
     "end_time": "2024-12-07T13:32:48.133795Z",
     "start_time": "2024-12-07T13:32:48.130684Z"
    }
   },
   "cell_type": "code",
   "source": "shuffled_closed[0]['question']",
   "id": "3f9bf6adb711dab9",
   "outputs": [
    {
     "data": {
      "text/plain": [
       "'How can we determine if global warming is due to human activities, not natural cycles?'"
      ]
     },
     "execution_count": 9,
     "metadata": {},
     "output_type": "execute_result"
    }
   ],
   "execution_count": 9
  },
  {
   "metadata": {
    "ExecuteTime": {
     "end_time": "2024-12-07T13:32:48.775727Z",
     "start_time": "2024-12-07T13:32:48.772419Z"
    }
   },
   "cell_type": "code",
   "source": "open_ai_key = '???'",
   "id": "1df2e4c23cd264b2",
   "outputs": [],
   "execution_count": 10
  },
  {
   "metadata": {
    "ExecuteTime": {
     "end_time": "2024-12-07T13:32:49.304001Z",
     "start_time": "2024-12-07T13:32:49.104003Z"
    }
   },
   "cell_type": "code",
   "source": [
    "from openai import OpenAI\n",
    "client = OpenAI(api_key=open_ai_key)\n",
    "def ask_openai(prompt: str) -> str:\n",
    "\n",
    "\n",
    "    completion = client.chat.completions.create(\n",
    "        model=\"gpt-4o\",\n",
    "        messages=[\n",
    "            {\"role\": \"user\", \"content\": prompt}\n",
    "        ],\n",
    "    )\n",
    "\n",
    "    return completion.choices[0].message.content\n"
   ],
   "id": "fb4a6f7db568d030",
   "outputs": [],
   "execution_count": 11
  },
  {
   "metadata": {
    "ExecuteTime": {
     "end_time": "2024-12-07T13:32:49.719700Z",
     "start_time": "2024-12-07T13:32:49.712929Z"
    }
   },
   "cell_type": "code",
   "source": [
    "my_samples = deepcopy(shuffled_closed)\n",
    "for c in my_samples:\n",
    "    if isinstance(c['key_points'], str):\n",
    "        key_points = [k.strip() for k in c['key_points'].split('-') if k != '']\n",
    "        c['key_points'] = key_points"
   ],
   "id": "2b2619bea250d7c3",
   "outputs": [],
   "execution_count": 12
  },
  {
   "metadata": {
    "ExecuteTime": {
     "end_time": "2024-12-07T13:32:55.666557Z",
     "start_time": "2024-12-07T13:32:55.663860Z"
    }
   },
   "cell_type": "code",
   "source": [
    "from collections import Counter\n",
    "\n",
    "Counter([len(c['key_points']) for c in my_samples])"
   ],
   "id": "564e27fd443ffcc",
   "outputs": [
    {
     "data": {
      "text/plain": [
       "Counter({2: 143, 3: 66, 1: 55, 4: 40, 5: 10, 6: 4, 7: 3, 9: 1})"
      ]
     },
     "execution_count": 14,
     "metadata": {},
     "output_type": "execute_result"
    }
   ],
   "execution_count": 14
  },
  {
   "metadata": {
    "ExecuteTime": {
     "end_time": "2024-12-07T13:34:27.149380Z",
     "start_time": "2024-12-07T13:34:27.146007Z"
    }
   },
   "cell_type": "code",
   "source": [
    "idx = 10\n",
    "print(shuffled_closed[idx]['question'], '\\n\\n', my_samples[idx]['key_points'],'\\n\\n', shuffled_closed[idx]['key_points'])"
   ],
   "id": "a543a38c7a672edb",
   "outputs": [
    {
     "name": "stdout",
     "output_type": "stream",
     "text": [
      "So far, we have been dealing with rational tangles. Are there other, more complicated types of tangles? \n",
      "\n",
      " ['Point out the general definition of a tangle.', 'Give example of another class of tangles (e.g. algebraic tangle)'] \n",
      "\n",
      " - Point out the general definition of a tangle.\n",
      "- Give example of another class of tangles (e.g. algebraic tangle)\n"
     ]
    }
   ],
   "execution_count": 27
  },
  {
   "metadata": {
    "ExecuteTime": {
     "end_time": "2024-12-07T13:43:56.281449Z",
     "start_time": "2024-12-07T13:43:46.341527Z"
    }
   },
   "cell_type": "code",
   "source": [
    "def rephrase_prompt(question: str, key_points: list) -> str:\n",
    "    return f\"\"\"\n",
    "    You are given the following key points: {'\\n'.join(key_points)}\n",
    "\n",
    "    Those are the key points to answer the question: {question}\n",
    "\n",
    "    You are NOT allowed to answer the question by yourself. Use only the infromation from keypoints.\n",
    "\n",
    "    Reformulate the given key points to imitate the answer to the question.\n",
    "\n",
    "    Here is the answer with only provided key points:\n",
    "    \"\"\"\n",
    "\n",
    "steps = 0\n",
    "for c in my_samples:\n",
    "    # randomly shuffle keypoints\n",
    "\n",
    "    key_points = random.sample(c['key_points'], len(c['key_points']))\n",
    "\n",
    "    r_promt = rephrase_prompt(c['question'], key_points)\n",
    "\n",
    "    print(\"Question:\", c['question'])\n",
    "    print(\"Keypoint's:\", '\\n', '\\n'.join(c['key_points']))\n",
    "\n",
    "    response = ask_openai(r_promt)\n",
    "\n",
    "    print(\"Response:\", response)\n",
    "\n",
    "    print('=' * 20)\n",
    "\n",
    "    steps += 1\n",
    "    if steps > 5:\n",
    "        break"
   ],
   "id": "b71494f210316fd1",
   "outputs": [
    {
     "name": "stdout",
     "output_type": "stream",
     "text": [
      "Question: How can we determine if global warming is due to human activities, not natural cycles?\n",
      "Keypoint's: \n",
      " Understanding the historical patterns of natural cycles helps to identify the differences\n"
     ]
    },
    {
     "name": "stderr",
     "output_type": "stream",
     "text": [
      "INFO:httpx:HTTP Request: POST https://api.openai.com/v1/chat/completions \"HTTP/1.1 200 OK\"\n"
     ]
    },
    {
     "name": "stdout",
     "output_type": "stream",
     "text": [
      "Response: To determine if global warming is due to human activities rather than natural cycles, we need to understand the historical patterns of these natural cycles. By identifying the differences between past natural climate changes and current climate trends, we can assess the likelihood that recent global warming is primarily the result of human activities rather than natural processes.\n",
      "====================\n",
      "Question: What is the easiest way to make a while loop that never stops executing?\n",
      "Keypoint's: \n",
      " explain that while loop will never stop executing if the condition is always satisfied\n",
      "the easiest example is while (1 == 1), which is always true\n",
      "an even easier example is while True, which is always true\n"
     ]
    },
    {
     "name": "stderr",
     "output_type": "stream",
     "text": [
      "INFO:httpx:HTTP Request: POST https://api.openai.com/v1/chat/completions \"HTTP/1.1 200 OK\"\n"
     ]
    },
    {
     "name": "stdout",
     "output_type": "stream",
     "text": [
      "Response: The easiest way to make a while loop that never stops executing is to use a condition that is always true. The simplest example is `while (1 == 1)`, as the condition `1 == 1` is always true. An even more straightforward example is `while True`, as the condition `True` is inherently always true. In both cases, since the condition is constantly satisfied, the while loop will never stop executing.\n",
      "====================\n",
      "Question: Does the underlying implementation of arrays in C++ have any underlying data stucture?\n",
      "Keypoint's: \n",
      " Arrays are implemented as contiguous blocks of memory.\n",
      "Arrays do not depend on complicated data structures.\n"
     ]
    },
    {
     "name": "stderr",
     "output_type": "stream",
     "text": [
      "INFO:httpx:HTTP Request: POST https://api.openai.com/v1/chat/completions \"HTTP/1.1 200 OK\"\n"
     ]
    },
    {
     "name": "stdout",
     "output_type": "stream",
     "text": [
      "Response: The underlying implementation of arrays in C++ consists of contiguous blocks of memory and does not rely on complicated data structures.\n",
      "====================\n",
      "Question: What are the disadvantages of file-based systems?\n",
      "Keypoint's: \n",
      " Discuss the data redundancy and inconsistency\n",
      "Discuss the data isolation, integrity problems, and security issues.\n"
     ]
    },
    {
     "name": "stderr",
     "output_type": "stream",
     "text": [
      "INFO:httpx:HTTP Request: POST https://api.openai.com/v1/chat/completions \"HTTP/1.1 200 OK\"\n"
     ]
    },
    {
     "name": "stdout",
     "output_type": "stream",
     "text": [
      "Response: File-based systems often suffer from data redundancy and inconsistency. This occurs when the same piece of data is stored in multiple places, leading to unnecessary duplication and potential conflicts if any of the copies are updated independently of one another.\n",
      "\n",
      "Additionally, data isolation can be a significant problem in file-based systems. Data is often stored in separate files, making it difficult to access and integrate information across different datasets. This fragmentation complicates data retrieval and hinders the ability to perform comprehensive data analysis.\n",
      "\n",
      "Integrity problems are also a notable disadvantage. With data dispersed across multiple files, maintaining accuracy and consistency in data becomes challenging. The lack of centralized control can lead to discrepancies, making it difficult to ensure the data remains reliable over time.\n",
      "\n",
      "Finally, security issues are another concern with file-based systems. The decentralized nature of storing data in various files makes it harder to implement robust security measures. Unauthorized access, data breaches, and difficulties in enforcing access controls can arise, posing risks to data confidentiality and integrity.\n",
      "====================\n",
      "Question: What are some of the main challenges around the study of Fourier series?\n",
      "Keypoint's: \n",
      " explain that some work needs to be done to establish that when Fourier series  converge\n",
      "explain also that it's important to show rigorously when functions can be represented as Fourier series\n",
      "the teacher could explain that these two points lead to important geometric insights about function spaces\n"
     ]
    },
    {
     "name": "stderr",
     "output_type": "stream",
     "text": [
      "INFO:httpx:HTTP Request: POST https://api.openai.com/v1/chat/completions \"HTTP/1.1 200 OK\"\n"
     ]
    },
    {
     "name": "stdout",
     "output_type": "stream",
     "text": [
      "Response: One of the main challenges in the study of Fourier series involves establishing the conditions under which these series converge. This is crucial because convergence determines whether or not the series accurately represents a function. Furthermore, it's also important to rigorously demonstrate when functions can be expressed as Fourier series, as this foundational aspect underpins much of the theory and application of Fourier analysis.\n",
      "\n",
      "By addressing these challenges, students and researchers can gain significant geometric insights into the nature of function spaces. Understanding these spaces can provide deeper knowledge about the structure and behavior of functions, which is essential for advancing both mathematical theory and practical applications.\n",
      "====================\n",
      "Question: Can artificial intelligence (AI) help improve solid waste management?\n",
      "Keypoint's: \n",
      " Yes, it's possible. In fact, they are already many examples in application.\n",
      "Think about the sensorable properties of solid waste and the overall objectives.\n"
     ]
    },
    {
     "name": "stderr",
     "output_type": "stream",
     "text": [
      "INFO:httpx:HTTP Request: POST https://api.openai.com/v1/chat/completions \"HTTP/1.1 200 OK\"\n"
     ]
    },
    {
     "name": "stdout",
     "output_type": "stream",
     "text": [
      "Response: Yes, it's possible for artificial intelligence (AI) to help improve solid waste management. In fact, there are already numerous examples of AI being applied in this field. Consider the sensorable properties of solid waste and the overarching objectives of solid waste management to understand how AI can contribute to advancements.\n",
      "====================\n"
     ]
    }
   ],
   "execution_count": 31
  },
  {
   "metadata": {
    "ExecuteTime": {
     "end_time": "2024-12-07T13:46:09.230546Z",
     "start_time": "2024-12-07T13:46:09.227070Z"
    }
   },
   "cell_type": "code",
   "source": [
    "multi_kps_qs = [s for s in my_samples if len(s['key_points']) > 1]\n",
    "\n",
    "print(len(multi_kps_qs))"
   ],
   "id": "b8926c05d7c16629",
   "outputs": [
    {
     "name": "stdout",
     "output_type": "stream",
     "text": [
      "267\n"
     ]
    }
   ],
   "execution_count": 32
  },
  {
   "metadata": {
    "ExecuteTime": {
     "end_time": "2024-12-07T13:50:58.472275Z",
     "start_time": "2024-12-07T13:50:58.467568Z"
    }
   },
   "cell_type": "code",
   "source": "multi_kps_qs[0].keys()",
   "id": "41bfb347bdba0680",
   "outputs": [
    {
     "data": {
      "text/plain": [
       "dict_keys(['chapter', 'question', 'key_points', 'closed_book', 'answer_in_chapter', 'misleading_question', 'difficulty', 'domain', 'path_to_chapter'])"
      ]
     },
     "execution_count": 37,
     "metadata": {},
     "output_type": "execute_result"
    }
   ],
   "execution_count": 37
  },
  {
   "metadata": {
    "ExecuteTime": {
     "end_time": "2024-12-07T14:48:00.606013Z",
     "start_time": "2024-12-07T14:48:00.591652Z"
    }
   },
   "cell_type": "code",
   "source": [
    "abcd = 'ABCDEFGHIJKLMNOPQRSTUVWXYZ'\n",
    "\n",
    "samples_to_grade = []\n",
    "\n",
    "for s in multi_kps_qs:\n",
    "    key_points = s['key_points']\n",
    "\n",
    "    for masked in range(len(key_points)):\n",
    "        # key_points[masked] will be masked\n",
    "        key_points_mask = list(abcd[:len(key_points)])\n",
    "        key_points_mask[masked] = '_'\n",
    "\n",
    "        key_points_masked = deepcopy(key_points)\n",
    "        key_points_masked.pop(masked)\n",
    "\n",
    "        sample = deepcopy(s)\n",
    "        sample['original_key_points'] = key_points\n",
    "        sample['key_points'] = key_points_masked\n",
    "        sample['key_points_mask'] = key_points_mask\n",
    "\n",
    "        samples_to_grade.append(sample)"
   ],
   "id": "8fb7660c693eea3c",
   "outputs": [],
   "execution_count": 60
  },
  {
   "metadata": {
    "ExecuteTime": {
     "end_time": "2024-12-07T14:48:28.500697Z",
     "start_time": "2024-12-07T14:48:28.499359Z"
    }
   },
   "cell_type": "code",
   "source": "",
   "id": "317349885b0a54e4",
   "outputs": [],
   "execution_count": null
  },
  {
   "metadata": {
    "ExecuteTime": {
     "end_time": "2024-12-07T14:16:02.425681Z",
     "start_time": "2024-12-07T13:54:44.309013Z"
    }
   },
   "cell_type": "code",
   "source": [
    "result_samples_to_grade = []\n",
    "\n",
    "for s in tqdm.tqdm(samples_to_grade):\n",
    "    r_promt = rephrase_prompt(s['question'], s['key_points'])\n",
    "\n",
    "    response = ask_openai(r_promt)\n",
    "\n",
    "    sample = deepcopy(s)\n",
    "\n",
    "    sample['answer'] = response\n",
    "\n",
    "    result_samples_to_grade.append(sample)"
   ],
   "id": "c76372701fdbc82",
   "outputs": [
    {
     "name": "stderr",
     "output_type": "stream",
     "text": [
      "  0%|          | 0/748 [00:00<?, ?it/s]INFO:httpx:HTTP Request: POST https://api.openai.com/v1/chat/completions \"HTTP/1.1 200 OK\"\n",
      "  0%|          | 1/748 [00:01<14:07,  1.13s/it]INFO:httpx:HTTP Request: POST https://api.openai.com/v1/chat/completions \"HTTP/1.1 200 OK\"\n",
      "  0%|          | 2/748 [00:02<12:32,  1.01s/it]INFO:httpx:HTTP Request: POST https://api.openai.com/v1/chat/completions \"HTTP/1.1 200 OK\"\n",
      "  0%|          | 3/748 [00:02<11:27,  1.08it/s]INFO:httpx:HTTP Request: POST https://api.openai.com/v1/chat/completions \"HTTP/1.1 200 OK\"\n",
      "  1%|          | 4/748 [00:03<10:55,  1.14it/s]INFO:httpx:HTTP Request: POST https://api.openai.com/v1/chat/completions \"HTTP/1.1 200 OK\"\n",
      "  1%|          | 5/748 [00:04<12:47,  1.03s/it]INFO:httpx:HTTP Request: POST https://api.openai.com/v1/chat/completions \"HTTP/1.1 200 OK\"\n",
      "  1%|          | 6/748 [00:06<14:09,  1.15s/it]INFO:httpx:HTTP Request: POST https://api.openai.com/v1/chat/completions \"HTTP/1.1 200 OK\"\n",
      "  1%|          | 7/748 [00:07<16:07,  1.31s/it]INFO:httpx:HTTP Request: POST https://api.openai.com/v1/chat/completions \"HTTP/1.1 200 OK\"\n",
      "  1%|          | 8/748 [00:09<18:17,  1.48s/it]INFO:httpx:HTTP Request: POST https://api.openai.com/v1/chat/completions \"HTTP/1.1 200 OK\"\n",
      "  1%|          | 9/748 [00:11<20:37,  1.67s/it]INFO:httpx:HTTP Request: POST https://api.openai.com/v1/chat/completions \"HTTP/1.1 200 OK\"\n",
      "  1%|▏         | 10/748 [00:13<20:19,  1.65s/it]INFO:httpx:HTTP Request: POST https://api.openai.com/v1/chat/completions \"HTTP/1.1 200 OK\"\n",
      "  1%|▏         | 11/748 [00:15<20:50,  1.70s/it]INFO:httpx:HTTP Request: POST https://api.openai.com/v1/chat/completions \"HTTP/1.1 200 OK\"\n",
      "  2%|▏         | 12/748 [00:16<18:02,  1.47s/it]INFO:httpx:HTTP Request: POST https://api.openai.com/v1/chat/completions \"HTTP/1.1 200 OK\"\n",
      "  2%|▏         | 13/748 [00:18<19:32,  1.60s/it]INFO:httpx:HTTP Request: POST https://api.openai.com/v1/chat/completions \"HTTP/1.1 200 OK\"\n",
      "  2%|▏         | 14/748 [00:19<19:05,  1.56s/it]INFO:httpx:HTTP Request: POST https://api.openai.com/v1/chat/completions \"HTTP/1.1 200 OK\"\n",
      "  2%|▏         | 15/748 [00:21<20:09,  1.65s/it]INFO:httpx:HTTP Request: POST https://api.openai.com/v1/chat/completions \"HTTP/1.1 200 OK\"\n",
      "  2%|▏         | 16/748 [00:23<21:32,  1.77s/it]INFO:httpx:HTTP Request: POST https://api.openai.com/v1/chat/completions \"HTTP/1.1 200 OK\"\n",
      "  2%|▏         | 17/748 [00:24<19:55,  1.63s/it]INFO:httpx:HTTP Request: POST https://api.openai.com/v1/chat/completions \"HTTP/1.1 200 OK\"\n",
      "  2%|▏         | 18/748 [00:28<26:38,  2.19s/it]INFO:httpx:HTTP Request: POST https://api.openai.com/v1/chat/completions \"HTTP/1.1 200 OK\"\n",
      "  3%|▎         | 19/748 [00:28<20:50,  1.72s/it]INFO:httpx:HTTP Request: POST https://api.openai.com/v1/chat/completions \"HTTP/1.1 200 OK\"\n",
      "  3%|▎         | 20/748 [00:30<19:13,  1.58s/it]INFO:httpx:HTTP Request: POST https://api.openai.com/v1/chat/completions \"HTTP/1.1 200 OK\"\n",
      "  3%|▎         | 21/748 [00:33<25:11,  2.08s/it]INFO:httpx:HTTP Request: POST https://api.openai.com/v1/chat/completions \"HTTP/1.1 200 OK\"\n",
      "  3%|▎         | 22/748 [00:38<34:42,  2.87s/it]INFO:httpx:HTTP Request: POST https://api.openai.com/v1/chat/completions \"HTTP/1.1 200 OK\"\n",
      "  3%|▎         | 23/748 [00:39<29:27,  2.44s/it]INFO:httpx:HTTP Request: POST https://api.openai.com/v1/chat/completions \"HTTP/1.1 200 OK\"\n",
      "  3%|▎         | 24/748 [00:40<24:39,  2.04s/it]INFO:httpx:HTTP Request: POST https://api.openai.com/v1/chat/completions \"HTTP/1.1 200 OK\"\n",
      "  3%|▎         | 25/748 [00:43<25:45,  2.14s/it]INFO:httpx:HTTP Request: POST https://api.openai.com/v1/chat/completions \"HTTP/1.1 200 OK\"\n",
      "  3%|▎         | 26/748 [00:44<22:26,  1.86s/it]INFO:httpx:HTTP Request: POST https://api.openai.com/v1/chat/completions \"HTTP/1.1 200 OK\"\n",
      "  4%|▎         | 27/748 [00:46<22:20,  1.86s/it]INFO:httpx:HTTP Request: POST https://api.openai.com/v1/chat/completions \"HTTP/1.1 200 OK\"\n",
      "  4%|▎         | 28/748 [00:47<19:03,  1.59s/it]INFO:httpx:HTTP Request: POST https://api.openai.com/v1/chat/completions \"HTTP/1.1 200 OK\"\n",
      "  4%|▍         | 29/748 [00:51<29:27,  2.46s/it]INFO:httpx:HTTP Request: POST https://api.openai.com/v1/chat/completions \"HTTP/1.1 200 OK\"\n",
      "  4%|▍         | 30/748 [00:53<27:20,  2.28s/it]INFO:httpx:HTTP Request: POST https://api.openai.com/v1/chat/completions \"HTTP/1.1 200 OK\"\n",
      "  4%|▍         | 31/748 [00:54<24:03,  2.01s/it]INFO:httpx:HTTP Request: POST https://api.openai.com/v1/chat/completions \"HTTP/1.1 200 OK\"\n",
      "  4%|▍         | 32/748 [00:56<23:39,  1.98s/it]INFO:httpx:HTTP Request: POST https://api.openai.com/v1/chat/completions \"HTTP/1.1 200 OK\"\n",
      "  4%|▍         | 33/748 [00:57<20:04,  1.69s/it]INFO:httpx:HTTP Request: POST https://api.openai.com/v1/chat/completions \"HTTP/1.1 200 OK\"\n",
      "  5%|▍         | 34/748 [01:00<24:11,  2.03s/it]INFO:httpx:HTTP Request: POST https://api.openai.com/v1/chat/completions \"HTTP/1.1 200 OK\"\n",
      "  5%|▍         | 35/748 [01:04<29:39,  2.50s/it]INFO:httpx:HTTP Request: POST https://api.openai.com/v1/chat/completions \"HTTP/1.1 200 OK\"\n",
      "  5%|▍         | 36/748 [01:05<25:01,  2.11s/it]INFO:httpx:HTTP Request: POST https://api.openai.com/v1/chat/completions \"HTTP/1.1 200 OK\"\n",
      "  5%|▍         | 37/748 [01:07<23:56,  2.02s/it]INFO:httpx:HTTP Request: POST https://api.openai.com/v1/chat/completions \"HTTP/1.1 200 OK\"\n",
      "  5%|▌         | 38/748 [01:08<19:41,  1.66s/it]INFO:httpx:HTTP Request: POST https://api.openai.com/v1/chat/completions \"HTTP/1.1 200 OK\"\n",
      "  5%|▌         | 39/748 [01:10<22:42,  1.92s/it]INFO:httpx:HTTP Request: POST https://api.openai.com/v1/chat/completions \"HTTP/1.1 200 OK\"\n",
      "  5%|▌         | 40/748 [01:12<21:24,  1.81s/it]INFO:httpx:HTTP Request: POST https://api.openai.com/v1/chat/completions \"HTTP/1.1 200 OK\"\n",
      "  5%|▌         | 41/748 [01:12<17:06,  1.45s/it]INFO:httpx:HTTP Request: POST https://api.openai.com/v1/chat/completions \"HTTP/1.1 200 OK\"\n",
      "  6%|▌         | 42/748 [01:14<16:51,  1.43s/it]INFO:httpx:HTTP Request: POST https://api.openai.com/v1/chat/completions \"HTTP/1.1 200 OK\"\n",
      "  6%|▌         | 43/748 [01:15<18:11,  1.55s/it]INFO:httpx:HTTP Request: POST https://api.openai.com/v1/chat/completions \"HTTP/1.1 200 OK\"\n",
      "  6%|▌         | 44/748 [01:16<15:49,  1.35s/it]INFO:httpx:HTTP Request: POST https://api.openai.com/v1/chat/completions \"HTTP/1.1 200 OK\"\n",
      "  6%|▌         | 45/748 [01:19<20:18,  1.73s/it]INFO:httpx:HTTP Request: POST https://api.openai.com/v1/chat/completions \"HTTP/1.1 200 OK\"\n",
      "  6%|▌         | 46/748 [01:23<27:31,  2.35s/it]INFO:httpx:HTTP Request: POST https://api.openai.com/v1/chat/completions \"HTTP/1.1 200 OK\"\n",
      "  6%|▋         | 47/748 [01:23<20:45,  1.78s/it]INFO:httpx:HTTP Request: POST https://api.openai.com/v1/chat/completions \"HTTP/1.1 200 OK\"\n",
      "  6%|▋         | 48/748 [01:24<18:41,  1.60s/it]INFO:httpx:HTTP Request: POST https://api.openai.com/v1/chat/completions \"HTTP/1.1 200 OK\"\n",
      "  7%|▋         | 49/748 [01:25<15:41,  1.35s/it]INFO:httpx:HTTP Request: POST https://api.openai.com/v1/chat/completions \"HTTP/1.1 200 OK\"\n",
      "  7%|▋         | 50/748 [01:29<24:10,  2.08s/it]INFO:httpx:HTTP Request: POST https://api.openai.com/v1/chat/completions \"HTTP/1.1 200 OK\"\n",
      "  7%|▋         | 51/748 [01:30<19:23,  1.67s/it]INFO:httpx:HTTP Request: POST https://api.openai.com/v1/chat/completions \"HTTP/1.1 200 OK\"\n",
      "  7%|▋         | 52/748 [01:31<16:55,  1.46s/it]INFO:httpx:HTTP Request: POST https://api.openai.com/v1/chat/completions \"HTTP/1.1 200 OK\"\n",
      "  7%|▋         | 53/748 [01:31<13:49,  1.19s/it]INFO:httpx:HTTP Request: POST https://api.openai.com/v1/chat/completions \"HTTP/1.1 200 OK\"\n",
      "  7%|▋         | 54/748 [01:35<21:59,  1.90s/it]INFO:httpx:HTTP Request: POST https://api.openai.com/v1/chat/completions \"HTTP/1.1 200 OK\"\n",
      "  7%|▋         | 55/748 [01:36<20:16,  1.76s/it]INFO:httpx:HTTP Request: POST https://api.openai.com/v1/chat/completions \"HTTP/1.1 200 OK\"\n",
      "  7%|▋         | 56/748 [01:37<17:49,  1.55s/it]INFO:httpx:HTTP Request: POST https://api.openai.com/v1/chat/completions \"HTTP/1.1 200 OK\"\n",
      "  8%|▊         | 57/748 [01:38<16:31,  1.44s/it]INFO:httpx:HTTP Request: POST https://api.openai.com/v1/chat/completions \"HTTP/1.1 200 OK\"\n",
      "  8%|▊         | 58/748 [01:39<15:18,  1.33s/it]INFO:httpx:HTTP Request: POST https://api.openai.com/v1/chat/completions \"HTTP/1.1 200 OK\"\n",
      "  8%|▊         | 59/748 [01:41<14:48,  1.29s/it]INFO:httpx:HTTP Request: POST https://api.openai.com/v1/chat/completions \"HTTP/1.1 200 OK\"\n",
      "  8%|▊         | 60/748 [01:46<27:36,  2.41s/it]INFO:httpx:HTTP Request: POST https://api.openai.com/v1/chat/completions \"HTTP/1.1 200 OK\"\n",
      "  8%|▊         | 61/748 [01:47<24:32,  2.14s/it]INFO:httpx:HTTP Request: POST https://api.openai.com/v1/chat/completions \"HTTP/1.1 200 OK\"\n",
      "  8%|▊         | 62/748 [01:48<19:24,  1.70s/it]INFO:httpx:HTTP Request: POST https://api.openai.com/v1/chat/completions \"HTTP/1.1 200 OK\"\n",
      "  8%|▊         | 63/748 [01:49<19:03,  1.67s/it]INFO:httpx:HTTP Request: POST https://api.openai.com/v1/chat/completions \"HTTP/1.1 200 OK\"\n",
      "  9%|▊         | 64/748 [01:50<15:46,  1.38s/it]INFO:httpx:HTTP Request: POST https://api.openai.com/v1/chat/completions \"HTTP/1.1 200 OK\"\n",
      "  9%|▊         | 65/748 [01:52<18:00,  1.58s/it]INFO:httpx:HTTP Request: POST https://api.openai.com/v1/chat/completions \"HTTP/1.1 200 OK\"\n",
      "  9%|▉         | 66/748 [01:54<17:16,  1.52s/it]INFO:httpx:HTTP Request: POST https://api.openai.com/v1/chat/completions \"HTTP/1.1 200 OK\"\n",
      "  9%|▉         | 67/748 [01:55<16:06,  1.42s/it]INFO:httpx:HTTP Request: POST https://api.openai.com/v1/chat/completions \"HTTP/1.1 200 OK\"\n",
      "  9%|▉         | 68/748 [01:56<15:05,  1.33s/it]INFO:httpx:HTTP Request: POST https://api.openai.com/v1/chat/completions \"HTTP/1.1 200 OK\"\n",
      "  9%|▉         | 69/748 [01:57<12:53,  1.14s/it]INFO:httpx:HTTP Request: POST https://api.openai.com/v1/chat/completions \"HTTP/1.1 200 OK\"\n",
      "  9%|▉         | 70/748 [01:58<13:43,  1.22s/it]INFO:httpx:HTTP Request: POST https://api.openai.com/v1/chat/completions \"HTTP/1.1 200 OK\"\n",
      "  9%|▉         | 71/748 [01:59<13:57,  1.24s/it]INFO:httpx:HTTP Request: POST https://api.openai.com/v1/chat/completions \"HTTP/1.1 200 OK\"\n",
      " 10%|▉         | 72/748 [02:01<14:59,  1.33s/it]INFO:httpx:HTTP Request: POST https://api.openai.com/v1/chat/completions \"HTTP/1.1 200 OK\"\n",
      " 10%|▉         | 73/748 [02:07<30:13,  2.69s/it]INFO:httpx:HTTP Request: POST https://api.openai.com/v1/chat/completions \"HTTP/1.1 200 OK\"\n",
      " 10%|▉         | 74/748 [02:11<34:07,  3.04s/it]INFO:httpx:HTTP Request: POST https://api.openai.com/v1/chat/completions \"HTTP/1.1 200 OK\"\n",
      " 10%|█         | 75/748 [02:12<28:18,  2.52s/it]INFO:httpx:HTTP Request: POST https://api.openai.com/v1/chat/completions \"HTTP/1.1 200 OK\"\n",
      " 10%|█         | 76/748 [02:14<25:32,  2.28s/it]INFO:httpx:HTTP Request: POST https://api.openai.com/v1/chat/completions \"HTTP/1.1 200 OK\"\n",
      " 10%|█         | 77/748 [02:14<20:22,  1.82s/it]INFO:httpx:HTTP Request: POST https://api.openai.com/v1/chat/completions \"HTTP/1.1 200 OK\"\n",
      " 10%|█         | 78/748 [02:16<19:15,  1.73s/it]INFO:httpx:HTTP Request: POST https://api.openai.com/v1/chat/completions \"HTTP/1.1 200 OK\"\n",
      " 11%|█         | 79/748 [02:16<15:13,  1.37s/it]INFO:httpx:HTTP Request: POST https://api.openai.com/v1/chat/completions \"HTTP/1.1 200 OK\"\n",
      " 11%|█         | 80/748 [02:17<12:29,  1.12s/it]INFO:httpx:HTTP Request: POST https://api.openai.com/v1/chat/completions \"HTTP/1.1 200 OK\"\n",
      " 11%|█         | 81/748 [02:17<10:20,  1.08it/s]INFO:httpx:HTTP Request: POST https://api.openai.com/v1/chat/completions \"HTTP/1.1 200 OK\"\n",
      " 11%|█         | 82/748 [02:19<13:59,  1.26s/it]INFO:httpx:HTTP Request: POST https://api.openai.com/v1/chat/completions \"HTTP/1.1 200 OK\"\n",
      " 11%|█         | 83/748 [02:20<11:56,  1.08s/it]INFO:httpx:HTTP Request: POST https://api.openai.com/v1/chat/completions \"HTTP/1.1 200 OK\"\n",
      " 11%|█         | 84/748 [02:21<11:25,  1.03s/it]INFO:httpx:HTTP Request: POST https://api.openai.com/v1/chat/completions \"HTTP/1.1 200 OK\"\n",
      " 11%|█▏        | 85/748 [02:22<10:30,  1.05it/s]INFO:httpx:HTTP Request: POST https://api.openai.com/v1/chat/completions \"HTTP/1.1 200 OK\"\n",
      " 11%|█▏        | 86/748 [02:22<09:31,  1.16it/s]INFO:httpx:HTTP Request: POST https://api.openai.com/v1/chat/completions \"HTTP/1.1 200 OK\"\n",
      " 12%|█▏        | 87/748 [02:23<09:30,  1.16it/s]INFO:httpx:HTTP Request: POST https://api.openai.com/v1/chat/completions \"HTTP/1.1 200 OK\"\n",
      " 12%|█▏        | 88/748 [02:25<11:42,  1.07s/it]INFO:httpx:HTTP Request: POST https://api.openai.com/v1/chat/completions \"HTTP/1.1 200 OK\"\n",
      " 12%|█▏        | 89/748 [02:26<12:31,  1.14s/it]INFO:httpx:HTTP Request: POST https://api.openai.com/v1/chat/completions \"HTTP/1.1 200 OK\"\n",
      " 12%|█▏        | 90/748 [02:27<12:40,  1.16s/it]INFO:httpx:HTTP Request: POST https://api.openai.com/v1/chat/completions \"HTTP/1.1 200 OK\"\n",
      " 12%|█▏        | 91/748 [02:29<14:26,  1.32s/it]INFO:httpx:HTTP Request: POST https://api.openai.com/v1/chat/completions \"HTTP/1.1 200 OK\"\n",
      " 12%|█▏        | 92/748 [02:30<13:07,  1.20s/it]INFO:httpx:HTTP Request: POST https://api.openai.com/v1/chat/completions \"HTTP/1.1 200 OK\"\n",
      " 12%|█▏        | 93/748 [02:31<12:28,  1.14s/it]INFO:httpx:HTTP Request: POST https://api.openai.com/v1/chat/completions \"HTTP/1.1 200 OK\"\n",
      " 13%|█▎        | 94/748 [02:32<11:51,  1.09s/it]INFO:httpx:HTTP Request: POST https://api.openai.com/v1/chat/completions \"HTTP/1.1 200 OK\"\n",
      " 13%|█▎        | 95/748 [02:33<11:36,  1.07s/it]INFO:httpx:HTTP Request: POST https://api.openai.com/v1/chat/completions \"HTTP/1.1 200 OK\"\n",
      " 13%|█▎        | 96/748 [02:34<10:47,  1.01it/s]INFO:httpx:HTTP Request: POST https://api.openai.com/v1/chat/completions \"HTTP/1.1 200 OK\"\n",
      " 13%|█▎        | 97/748 [02:37<19:21,  1.78s/it]INFO:httpx:HTTP Request: POST https://api.openai.com/v1/chat/completions \"HTTP/1.1 200 OK\"\n",
      " 13%|█▎        | 98/748 [02:38<15:51,  1.46s/it]INFO:httpx:HTTP Request: POST https://api.openai.com/v1/chat/completions \"HTTP/1.1 200 OK\"\n",
      " 13%|█▎        | 99/748 [02:39<15:32,  1.44s/it]INFO:httpx:HTTP Request: POST https://api.openai.com/v1/chat/completions \"HTTP/1.1 200 OK\"\n",
      " 13%|█▎        | 100/748 [02:40<13:49,  1.28s/it]INFO:httpx:HTTP Request: POST https://api.openai.com/v1/chat/completions \"HTTP/1.1 200 OK\"\n",
      " 14%|█▎        | 101/748 [02:42<13:36,  1.26s/it]INFO:httpx:HTTP Request: POST https://api.openai.com/v1/chat/completions \"HTTP/1.1 200 OK\"\n",
      " 14%|█▎        | 102/748 [02:44<17:27,  1.62s/it]INFO:httpx:HTTP Request: POST https://api.openai.com/v1/chat/completions \"HTTP/1.1 200 OK\"\n",
      " 14%|█▍        | 103/748 [02:45<15:52,  1.48s/it]INFO:httpx:HTTP Request: POST https://api.openai.com/v1/chat/completions \"HTTP/1.1 200 OK\"\n",
      " 14%|█▍        | 104/748 [02:47<15:40,  1.46s/it]INFO:httpx:HTTP Request: POST https://api.openai.com/v1/chat/completions \"HTTP/1.1 200 OK\"\n",
      " 14%|█▍        | 105/748 [02:48<15:48,  1.47s/it]INFO:httpx:HTTP Request: POST https://api.openai.com/v1/chat/completions \"HTTP/1.1 200 OK\"\n",
      " 14%|█▍        | 106/748 [02:49<14:59,  1.40s/it]INFO:httpx:HTTP Request: POST https://api.openai.com/v1/chat/completions \"HTTP/1.1 200 OK\"\n",
      " 14%|█▍        | 107/748 [02:51<15:04,  1.41s/it]INFO:httpx:HTTP Request: POST https://api.openai.com/v1/chat/completions \"HTTP/1.1 200 OK\"\n",
      " 14%|█▍        | 108/748 [02:52<13:30,  1.27s/it]INFO:httpx:HTTP Request: POST https://api.openai.com/v1/chat/completions \"HTTP/1.1 200 OK\"\n",
      " 15%|█▍        | 109/748 [02:58<28:43,  2.70s/it]INFO:httpx:HTTP Request: POST https://api.openai.com/v1/chat/completions \"HTTP/1.1 200 OK\"\n",
      " 15%|█▍        | 110/748 [02:59<22:21,  2.10s/it]INFO:httpx:HTTP Request: POST https://api.openai.com/v1/chat/completions \"HTTP/1.1 200 OK\"\n",
      " 15%|█▍        | 111/748 [03:01<22:50,  2.15s/it]INFO:httpx:HTTP Request: POST https://api.openai.com/v1/chat/completions \"HTTP/1.1 200 OK\"\n",
      " 15%|█▍        | 112/748 [03:01<18:11,  1.72s/it]INFO:httpx:HTTP Request: POST https://api.openai.com/v1/chat/completions \"HTTP/1.1 200 OK\"\n",
      " 15%|█▌        | 113/748 [03:03<17:45,  1.68s/it]INFO:httpx:HTTP Request: POST https://api.openai.com/v1/chat/completions \"HTTP/1.1 200 OK\"\n",
      " 15%|█▌        | 114/748 [03:04<15:51,  1.50s/it]INFO:httpx:HTTP Request: POST https://api.openai.com/v1/chat/completions \"HTTP/1.1 200 OK\"\n",
      " 15%|█▌        | 115/748 [03:05<15:15,  1.45s/it]INFO:httpx:HTTP Request: POST https://api.openai.com/v1/chat/completions \"HTTP/1.1 200 OK\"\n",
      " 16%|█▌        | 116/748 [03:07<14:24,  1.37s/it]INFO:httpx:HTTP Request: POST https://api.openai.com/v1/chat/completions \"HTTP/1.1 200 OK\"\n",
      " 16%|█▌        | 117/748 [03:08<15:46,  1.50s/it]INFO:httpx:HTTP Request: POST https://api.openai.com/v1/chat/completions \"HTTP/1.1 200 OK\"\n",
      " 16%|█▌        | 118/748 [03:10<16:09,  1.54s/it]INFO:httpx:HTTP Request: POST https://api.openai.com/v1/chat/completions \"HTTP/1.1 200 OK\"\n",
      " 16%|█▌        | 119/748 [03:11<13:28,  1.28s/it]INFO:httpx:HTTP Request: POST https://api.openai.com/v1/chat/completions \"HTTP/1.1 200 OK\"\n",
      " 16%|█▌        | 120/748 [03:11<11:31,  1.10s/it]INFO:httpx:HTTP Request: POST https://api.openai.com/v1/chat/completions \"HTTP/1.1 200 OK\"\n",
      " 16%|█▌        | 121/748 [03:12<10:55,  1.05s/it]INFO:httpx:HTTP Request: POST https://api.openai.com/v1/chat/completions \"HTTP/1.1 200 OK\"\n",
      " 16%|█▋        | 122/748 [03:13<10:23,  1.00it/s]INFO:httpx:HTTP Request: POST https://api.openai.com/v1/chat/completions \"HTTP/1.1 200 OK\"\n",
      " 16%|█▋        | 123/748 [03:14<10:29,  1.01s/it]INFO:httpx:HTTP Request: POST https://api.openai.com/v1/chat/completions \"HTTP/1.1 200 OK\"\n",
      " 17%|█▋        | 124/748 [03:16<11:15,  1.08s/it]INFO:httpx:HTTP Request: POST https://api.openai.com/v1/chat/completions \"HTTP/1.1 200 OK\"\n",
      " 17%|█▋        | 125/748 [03:20<20:17,  1.95s/it]INFO:httpx:HTTP Request: POST https://api.openai.com/v1/chat/completions \"HTTP/1.1 200 OK\"\n",
      " 17%|█▋        | 126/748 [03:21<20:12,  1.95s/it]INFO:httpx:HTTP Request: POST https://api.openai.com/v1/chat/completions \"HTTP/1.1 200 OK\"\n",
      " 17%|█▋        | 127/748 [03:23<19:37,  1.90s/it]INFO:httpx:HTTP Request: POST https://api.openai.com/v1/chat/completions \"HTTP/1.1 200 OK\"\n",
      " 17%|█▋        | 128/748 [03:24<16:39,  1.61s/it]INFO:httpx:HTTP Request: POST https://api.openai.com/v1/chat/completions \"HTTP/1.1 200 OK\"\n",
      " 17%|█▋        | 129/748 [03:25<14:16,  1.38s/it]INFO:httpx:HTTP Request: POST https://api.openai.com/v1/chat/completions \"HTTP/1.1 200 OK\"\n",
      " 17%|█▋        | 130/748 [03:26<12:51,  1.25s/it]INFO:httpx:HTTP Request: POST https://api.openai.com/v1/chat/completions \"HTTP/1.1 200 OK\"\n",
      " 18%|█▊        | 131/748 [03:27<11:12,  1.09s/it]INFO:httpx:HTTP Request: POST https://api.openai.com/v1/chat/completions \"HTTP/1.1 200 OK\"\n",
      " 18%|█▊        | 132/748 [03:29<13:35,  1.32s/it]INFO:httpx:HTTP Request: POST https://api.openai.com/v1/chat/completions \"HTTP/1.1 200 OK\"\n",
      " 18%|█▊        | 133/748 [03:29<11:36,  1.13s/it]INFO:httpx:HTTP Request: POST https://api.openai.com/v1/chat/completions \"HTTP/1.1 200 OK\"\n",
      " 18%|█▊        | 134/748 [03:30<10:54,  1.07s/it]INFO:httpx:HTTP Request: POST https://api.openai.com/v1/chat/completions \"HTTP/1.1 200 OK\"\n",
      " 18%|█▊        | 135/748 [03:31<09:46,  1.05it/s]INFO:httpx:HTTP Request: POST https://api.openai.com/v1/chat/completions \"HTTP/1.1 200 OK\"\n",
      " 18%|█▊        | 136/748 [03:32<09:04,  1.12it/s]INFO:httpx:HTTP Request: POST https://api.openai.com/v1/chat/completions \"HTTP/1.1 200 OK\"\n",
      " 18%|█▊        | 137/748 [03:32<08:27,  1.20it/s]INFO:httpx:HTTP Request: POST https://api.openai.com/v1/chat/completions \"HTTP/1.1 200 OK\"\n",
      " 18%|█▊        | 138/748 [03:33<08:36,  1.18it/s]INFO:httpx:HTTP Request: POST https://api.openai.com/v1/chat/completions \"HTTP/1.1 200 OK\"\n",
      " 19%|█▊        | 139/748 [03:36<15:03,  1.48s/it]INFO:httpx:HTTP Request: POST https://api.openai.com/v1/chat/completions \"HTTP/1.1 200 OK\"\n",
      " 19%|█▊        | 140/748 [03:40<22:01,  2.17s/it]INFO:httpx:HTTP Request: POST https://api.openai.com/v1/chat/completions \"HTTP/1.1 200 OK\"\n",
      " 19%|█▉        | 141/748 [03:41<20:05,  1.99s/it]INFO:httpx:HTTP Request: POST https://api.openai.com/v1/chat/completions \"HTTP/1.1 200 OK\"\n",
      " 19%|█▉        | 142/748 [03:45<23:57,  2.37s/it]INFO:httpx:HTTP Request: POST https://api.openai.com/v1/chat/completions \"HTTP/1.1 200 OK\"\n",
      " 19%|█▉        | 143/748 [03:46<20:36,  2.04s/it]INFO:httpx:HTTP Request: POST https://api.openai.com/v1/chat/completions \"HTTP/1.1 200 OK\"\n",
      " 19%|█▉        | 144/748 [03:47<17:10,  1.71s/it]INFO:httpx:HTTP Request: POST https://api.openai.com/v1/chat/completions \"HTTP/1.1 200 OK\"\n",
      " 19%|█▉        | 145/748 [03:48<16:00,  1.59s/it]INFO:httpx:HTTP Request: POST https://api.openai.com/v1/chat/completions \"HTTP/1.1 200 OK\"\n",
      " 20%|█▉        | 146/748 [03:49<13:14,  1.32s/it]INFO:httpx:HTTP Request: POST https://api.openai.com/v1/chat/completions \"HTTP/1.1 200 OK\"\n",
      " 20%|█▉        | 147/748 [03:54<24:26,  2.44s/it]INFO:httpx:HTTP Request: POST https://api.openai.com/v1/chat/completions \"HTTP/1.1 200 OK\"\n",
      " 20%|█▉        | 148/748 [03:57<25:22,  2.54s/it]INFO:httpx:HTTP Request: POST https://api.openai.com/v1/chat/completions \"HTTP/1.1 200 OK\"\n",
      " 20%|█▉        | 149/748 [03:58<20:47,  2.08s/it]INFO:httpx:HTTP Request: POST https://api.openai.com/v1/chat/completions \"HTTP/1.1 200 OK\"\n",
      " 20%|██        | 150/748 [03:59<17:37,  1.77s/it]INFO:httpx:HTTP Request: POST https://api.openai.com/v1/chat/completions \"HTTP/1.1 200 OK\"\n",
      " 20%|██        | 151/748 [04:00<14:28,  1.45s/it]INFO:httpx:HTTP Request: POST https://api.openai.com/v1/chat/completions \"HTTP/1.1 200 OK\"\n",
      " 20%|██        | 152/748 [04:00<12:44,  1.28s/it]INFO:httpx:HTTP Request: POST https://api.openai.com/v1/chat/completions \"HTTP/1.1 200 OK\"\n",
      " 20%|██        | 153/748 [04:02<13:51,  1.40s/it]INFO:httpx:HTTP Request: POST https://api.openai.com/v1/chat/completions \"HTTP/1.1 200 OK\"\n",
      " 21%|██        | 154/748 [04:03<11:30,  1.16s/it]INFO:httpx:HTTP Request: POST https://api.openai.com/v1/chat/completions \"HTTP/1.1 200 OK\"\n",
      " 21%|██        | 155/748 [04:04<11:54,  1.21s/it]INFO:httpx:HTTP Request: POST https://api.openai.com/v1/chat/completions \"HTTP/1.1 200 OK\"\n",
      " 21%|██        | 156/748 [04:08<18:42,  1.90s/it]INFO:httpx:HTTP Request: POST https://api.openai.com/v1/chat/completions \"HTTP/1.1 200 OK\"\n",
      " 21%|██        | 157/748 [04:09<17:36,  1.79s/it]INFO:httpx:HTTP Request: POST https://api.openai.com/v1/chat/completions \"HTTP/1.1 200 OK\"\n",
      " 21%|██        | 158/748 [04:10<16:13,  1.65s/it]INFO:httpx:HTTP Request: POST https://api.openai.com/v1/chat/completions \"HTTP/1.1 200 OK\"\n",
      " 21%|██▏       | 159/748 [04:13<17:38,  1.80s/it]INFO:httpx:HTTP Request: POST https://api.openai.com/v1/chat/completions \"HTTP/1.1 200 OK\"\n",
      " 21%|██▏       | 160/748 [04:14<17:10,  1.75s/it]INFO:httpx:HTTP Request: POST https://api.openai.com/v1/chat/completions \"HTTP/1.1 200 OK\"\n",
      " 22%|██▏       | 161/748 [04:16<16:13,  1.66s/it]INFO:httpx:HTTP Request: POST https://api.openai.com/v1/chat/completions \"HTTP/1.1 200 OK\"\n",
      " 22%|██▏       | 162/748 [04:17<15:32,  1.59s/it]INFO:httpx:HTTP Request: POST https://api.openai.com/v1/chat/completions \"HTTP/1.1 200 OK\"\n",
      " 22%|██▏       | 163/748 [04:18<15:02,  1.54s/it]INFO:httpx:HTTP Request: POST https://api.openai.com/v1/chat/completions \"HTTP/1.1 200 OK\"\n",
      " 22%|██▏       | 164/748 [04:20<15:18,  1.57s/it]INFO:httpx:HTTP Request: POST https://api.openai.com/v1/chat/completions \"HTTP/1.1 200 OK\"\n",
      " 22%|██▏       | 165/748 [04:21<13:58,  1.44s/it]INFO:httpx:HTTP Request: POST https://api.openai.com/v1/chat/completions \"HTTP/1.1 200 OK\"\n",
      " 22%|██▏       | 166/748 [04:23<15:43,  1.62s/it]INFO:httpx:HTTP Request: POST https://api.openai.com/v1/chat/completions \"HTTP/1.1 200 OK\"\n",
      " 22%|██▏       | 167/748 [04:25<16:09,  1.67s/it]INFO:httpx:HTTP Request: POST https://api.openai.com/v1/chat/completions \"HTTP/1.1 200 OK\"\n",
      " 22%|██▏       | 168/748 [04:26<14:12,  1.47s/it]INFO:httpx:HTTP Request: POST https://api.openai.com/v1/chat/completions \"HTTP/1.1 200 OK\"\n",
      " 23%|██▎       | 169/748 [04:27<12:58,  1.34s/it]INFO:httpx:HTTP Request: POST https://api.openai.com/v1/chat/completions \"HTTP/1.1 200 OK\"\n",
      " 23%|██▎       | 170/748 [04:28<10:52,  1.13s/it]INFO:httpx:HTTP Request: POST https://api.openai.com/v1/chat/completions \"HTTP/1.1 200 OK\"\n",
      " 23%|██▎       | 171/748 [04:29<11:30,  1.20s/it]INFO:httpx:HTTP Request: POST https://api.openai.com/v1/chat/completions \"HTTP/1.1 200 OK\"\n",
      " 23%|██▎       | 172/748 [04:30<09:45,  1.02s/it]INFO:httpx:HTTP Request: POST https://api.openai.com/v1/chat/completions \"HTTP/1.1 200 OK\"\n",
      " 23%|██▎       | 173/748 [04:30<08:41,  1.10it/s]INFO:httpx:HTTP Request: POST https://api.openai.com/v1/chat/completions \"HTTP/1.1 200 OK\"\n",
      " 23%|██▎       | 174/748 [04:32<11:22,  1.19s/it]INFO:httpx:HTTP Request: POST https://api.openai.com/v1/chat/completions \"HTTP/1.1 200 OK\"\n",
      " 23%|██▎       | 175/748 [04:33<10:44,  1.12s/it]INFO:httpx:HTTP Request: POST https://api.openai.com/v1/chat/completions \"HTTP/1.1 200 OK\"\n",
      " 24%|██▎       | 176/748 [04:34<09:53,  1.04s/it]INFO:httpx:HTTP Request: POST https://api.openai.com/v1/chat/completions \"HTTP/1.1 200 OK\"\n",
      " 24%|██▎       | 177/748 [04:35<10:04,  1.06s/it]INFO:httpx:HTTP Request: POST https://api.openai.com/v1/chat/completions \"HTTP/1.1 200 OK\"\n",
      " 24%|██▍       | 178/748 [04:36<08:59,  1.06it/s]INFO:httpx:HTTP Request: POST https://api.openai.com/v1/chat/completions \"HTTP/1.1 200 OK\"\n",
      " 24%|██▍       | 179/748 [04:37<08:35,  1.10it/s]INFO:httpx:HTTP Request: POST https://api.openai.com/v1/chat/completions \"HTTP/1.1 200 OK\"\n",
      " 24%|██▍       | 180/748 [04:37<07:56,  1.19it/s]INFO:httpx:HTTP Request: POST https://api.openai.com/v1/chat/completions \"HTTP/1.1 200 OK\"\n",
      " 24%|██▍       | 181/748 [04:38<07:50,  1.21it/s]INFO:httpx:HTTP Request: POST https://api.openai.com/v1/chat/completions \"HTTP/1.1 200 OK\"\n",
      " 24%|██▍       | 182/748 [04:39<07:44,  1.22it/s]INFO:httpx:HTTP Request: POST https://api.openai.com/v1/chat/completions \"HTTP/1.1 200 OK\"\n",
      " 24%|██▍       | 183/748 [04:40<09:18,  1.01it/s]INFO:httpx:HTTP Request: POST https://api.openai.com/v1/chat/completions \"HTTP/1.1 200 OK\"\n",
      " 25%|██▍       | 184/748 [04:42<10:15,  1.09s/it]INFO:httpx:HTTP Request: POST https://api.openai.com/v1/chat/completions \"HTTP/1.1 200 OK\"\n",
      " 25%|██▍       | 185/748 [04:43<10:37,  1.13s/it]INFO:httpx:HTTP Request: POST https://api.openai.com/v1/chat/completions \"HTTP/1.1 200 OK\"\n",
      " 25%|██▍       | 186/748 [04:47<19:30,  2.08s/it]INFO:httpx:HTTP Request: POST https://api.openai.com/v1/chat/completions \"HTTP/1.1 200 OK\"\n",
      " 25%|██▌       | 187/748 [04:49<18:47,  2.01s/it]INFO:httpx:HTTP Request: POST https://api.openai.com/v1/chat/completions \"HTTP/1.1 200 OK\"\n",
      " 25%|██▌       | 188/748 [04:55<30:55,  3.31s/it]INFO:httpx:HTTP Request: POST https://api.openai.com/v1/chat/completions \"HTTP/1.1 200 OK\"\n",
      " 25%|██▌       | 189/748 [04:59<32:24,  3.48s/it]INFO:httpx:HTTP Request: POST https://api.openai.com/v1/chat/completions \"HTTP/1.1 200 OK\"\n",
      " 25%|██▌       | 190/748 [05:00<25:04,  2.70s/it]INFO:httpx:HTTP Request: POST https://api.openai.com/v1/chat/completions \"HTTP/1.1 200 OK\"\n",
      " 26%|██▌       | 191/748 [05:02<24:00,  2.59s/it]INFO:httpx:HTTP Request: POST https://api.openai.com/v1/chat/completions \"HTTP/1.1 200 OK\"\n",
      " 26%|██▌       | 192/748 [05:05<24:28,  2.64s/it]INFO:httpx:HTTP Request: POST https://api.openai.com/v1/chat/completions \"HTTP/1.1 200 OK\"\n",
      " 26%|██▌       | 193/748 [05:07<21:37,  2.34s/it]INFO:httpx:HTTP Request: POST https://api.openai.com/v1/chat/completions \"HTTP/1.1 200 OK\"\n",
      " 26%|██▌       | 194/748 [05:09<20:06,  2.18s/it]INFO:httpx:HTTP Request: POST https://api.openai.com/v1/chat/completions \"HTTP/1.1 200 OK\"\n",
      " 26%|██▌       | 195/748 [05:12<24:24,  2.65s/it]INFO:httpx:HTTP Request: POST https://api.openai.com/v1/chat/completions \"HTTP/1.1 200 OK\"\n",
      " 26%|██▌       | 196/748 [05:14<20:57,  2.28s/it]INFO:httpx:HTTP Request: POST https://api.openai.com/v1/chat/completions \"HTTP/1.1 200 OK\"\n",
      " 26%|██▋       | 197/748 [05:15<18:52,  2.06s/it]INFO:httpx:HTTP Request: POST https://api.openai.com/v1/chat/completions \"HTTP/1.1 200 OK\"\n",
      " 26%|██▋       | 198/748 [05:17<18:32,  2.02s/it]INFO:httpx:HTTP Request: POST https://api.openai.com/v1/chat/completions \"HTTP/1.1 200 OK\"\n",
      " 27%|██▋       | 199/748 [05:19<16:36,  1.82s/it]INFO:httpx:HTTP Request: POST https://api.openai.com/v1/chat/completions \"HTTP/1.1 200 OK\"\n",
      " 27%|██▋       | 200/748 [05:21<17:30,  1.92s/it]INFO:httpx:HTTP Request: POST https://api.openai.com/v1/chat/completions \"HTTP/1.1 200 OK\"\n",
      " 27%|██▋       | 201/748 [05:28<31:49,  3.49s/it]INFO:httpx:HTTP Request: POST https://api.openai.com/v1/chat/completions \"HTTP/1.1 200 OK\"\n",
      " 27%|██▋       | 202/748 [05:29<26:25,  2.90s/it]INFO:httpx:HTTP Request: POST https://api.openai.com/v1/chat/completions \"HTTP/1.1 200 OK\"\n",
      " 27%|██▋       | 203/748 [05:32<24:36,  2.71s/it]INFO:httpx:HTTP Request: POST https://api.openai.com/v1/chat/completions \"HTTP/1.1 200 OK\"\n",
      " 27%|██▋       | 204/748 [05:33<20:49,  2.30s/it]INFO:httpx:HTTP Request: POST https://api.openai.com/v1/chat/completions \"HTTP/1.1 200 OK\"\n",
      " 27%|██▋       | 205/748 [05:34<17:42,  1.96s/it]INFO:httpx:HTTP Request: POST https://api.openai.com/v1/chat/completions \"HTTP/1.1 200 OK\"\n",
      " 28%|██▊       | 206/748 [05:35<15:52,  1.76s/it]INFO:httpx:HTTP Request: POST https://api.openai.com/v1/chat/completions \"HTTP/1.1 200 OK\"\n",
      " 28%|██▊       | 207/748 [05:37<14:08,  1.57s/it]INFO:httpx:HTTP Request: POST https://api.openai.com/v1/chat/completions \"HTTP/1.1 200 OK\"\n",
      " 28%|██▊       | 208/748 [05:37<11:36,  1.29s/it]INFO:httpx:HTTP Request: POST https://api.openai.com/v1/chat/completions \"HTTP/1.1 200 OK\"\n",
      " 28%|██▊       | 209/748 [05:39<14:06,  1.57s/it]INFO:httpx:HTTP Request: POST https://api.openai.com/v1/chat/completions \"HTTP/1.1 200 OK\"\n",
      " 28%|██▊       | 210/748 [05:41<13:54,  1.55s/it]INFO:httpx:HTTP Request: POST https://api.openai.com/v1/chat/completions \"HTTP/1.1 200 OK\"\n",
      " 28%|██▊       | 211/748 [05:42<12:16,  1.37s/it]INFO:httpx:HTTP Request: POST https://api.openai.com/v1/chat/completions \"HTTP/1.1 200 OK\"\n",
      " 28%|██▊       | 212/748 [05:45<16:08,  1.81s/it]INFO:httpx:HTTP Request: POST https://api.openai.com/v1/chat/completions \"HTTP/1.1 200 OK\"\n",
      " 28%|██▊       | 213/748 [05:47<16:19,  1.83s/it]INFO:httpx:HTTP Request: POST https://api.openai.com/v1/chat/completions \"HTTP/1.1 200 OK\"\n",
      " 29%|██▊       | 214/748 [05:48<14:08,  1.59s/it]INFO:httpx:HTTP Request: POST https://api.openai.com/v1/chat/completions \"HTTP/1.1 200 OK\"\n",
      " 29%|██▊       | 215/748 [05:49<12:52,  1.45s/it]INFO:httpx:HTTP Request: POST https://api.openai.com/v1/chat/completions \"HTTP/1.1 200 OK\"\n",
      " 29%|██▉       | 216/748 [05:50<11:36,  1.31s/it]INFO:httpx:HTTP Request: POST https://api.openai.com/v1/chat/completions \"HTTP/1.1 200 OK\"\n",
      " 29%|██▉       | 217/748 [05:52<14:50,  1.68s/it]INFO:httpx:HTTP Request: POST https://api.openai.com/v1/chat/completions \"HTTP/1.1 200 OK\"\n",
      " 29%|██▉       | 218/748 [05:53<12:26,  1.41s/it]INFO:httpx:HTTP Request: POST https://api.openai.com/v1/chat/completions \"HTTP/1.1 200 OK\"\n",
      " 29%|██▉       | 219/748 [05:55<14:00,  1.59s/it]INFO:httpx:HTTP Request: POST https://api.openai.com/v1/chat/completions \"HTTP/1.1 200 OK\"\n",
      " 29%|██▉       | 220/748 [05:56<12:03,  1.37s/it]INFO:httpx:HTTP Request: POST https://api.openai.com/v1/chat/completions \"HTTP/1.1 200 OK\"\n",
      " 30%|██▉       | 221/748 [05:58<12:54,  1.47s/it]INFO:httpx:HTTP Request: POST https://api.openai.com/v1/chat/completions \"HTTP/1.1 200 OK\"\n",
      " 30%|██▉       | 222/748 [05:59<12:40,  1.45s/it]INFO:httpx:HTTP Request: POST https://api.openai.com/v1/chat/completions \"HTTP/1.1 200 OK\"\n",
      " 30%|██▉       | 223/748 [06:00<11:47,  1.35s/it]INFO:httpx:HTTP Request: POST https://api.openai.com/v1/chat/completions \"HTTP/1.1 200 OK\"\n",
      " 30%|██▉       | 224/748 [06:02<11:57,  1.37s/it]INFO:httpx:HTTP Request: POST https://api.openai.com/v1/chat/completions \"HTTP/1.1 200 OK\"\n",
      " 30%|███       | 225/748 [06:03<13:10,  1.51s/it]INFO:httpx:HTTP Request: POST https://api.openai.com/v1/chat/completions \"HTTP/1.1 200 OK\"\n",
      " 30%|███       | 226/748 [06:04<11:20,  1.30s/it]INFO:httpx:HTTP Request: POST https://api.openai.com/v1/chat/completions \"HTTP/1.1 200 OK\"\n",
      " 30%|███       | 227/748 [06:05<10:31,  1.21s/it]INFO:httpx:HTTP Request: POST https://api.openai.com/v1/chat/completions \"HTTP/1.1 200 OK\"\n",
      " 30%|███       | 228/748 [06:07<12:13,  1.41s/it]INFO:httpx:HTTP Request: POST https://api.openai.com/v1/chat/completions \"HTTP/1.1 200 OK\"\n",
      " 31%|███       | 229/748 [06:09<13:23,  1.55s/it]INFO:httpx:HTTP Request: POST https://api.openai.com/v1/chat/completions \"HTTP/1.1 200 OK\"\n",
      " 31%|███       | 230/748 [06:10<12:43,  1.47s/it]INFO:httpx:HTTP Request: POST https://api.openai.com/v1/chat/completions \"HTTP/1.1 200 OK\"\n",
      " 31%|███       | 231/748 [06:11<11:00,  1.28s/it]INFO:httpx:HTTP Request: POST https://api.openai.com/v1/chat/completions \"HTTP/1.1 200 OK\"\n",
      " 31%|███       | 232/748 [06:12<09:14,  1.08s/it]INFO:httpx:HTTP Request: POST https://api.openai.com/v1/chat/completions \"HTTP/1.1 200 OK\"\n",
      " 31%|███       | 233/748 [06:12<08:20,  1.03it/s]INFO:httpx:HTTP Request: POST https://api.openai.com/v1/chat/completions \"HTTP/1.1 200 OK\"\n",
      " 31%|███▏      | 234/748 [06:16<16:04,  1.88s/it]INFO:httpx:HTTP Request: POST https://api.openai.com/v1/chat/completions \"HTTP/1.1 200 OK\"\n",
      " 31%|███▏      | 235/748 [06:20<20:32,  2.40s/it]INFO:httpx:HTTP Request: POST https://api.openai.com/v1/chat/completions \"HTTP/1.1 200 OK\"\n",
      " 32%|███▏      | 236/748 [06:21<17:54,  2.10s/it]INFO:httpx:HTTP Request: POST https://api.openai.com/v1/chat/completions \"HTTP/1.1 200 OK\"\n",
      " 32%|███▏      | 237/748 [06:22<14:20,  1.68s/it]INFO:httpx:HTTP Request: POST https://api.openai.com/v1/chat/completions \"HTTP/1.1 200 OK\"\n",
      " 32%|███▏      | 238/748 [06:23<12:23,  1.46s/it]INFO:httpx:HTTP Request: POST https://api.openai.com/v1/chat/completions \"HTTP/1.1 200 OK\"\n",
      " 32%|███▏      | 239/748 [06:24<11:28,  1.35s/it]INFO:httpx:HTTP Request: POST https://api.openai.com/v1/chat/completions \"HTTP/1.1 200 OK\"\n",
      " 32%|███▏      | 240/748 [06:25<10:38,  1.26s/it]INFO:httpx:HTTP Request: POST https://api.openai.com/v1/chat/completions \"HTTP/1.1 200 OK\"\n",
      " 32%|███▏      | 241/748 [06:26<10:01,  1.19s/it]INFO:httpx:HTTP Request: POST https://api.openai.com/v1/chat/completions \"HTTP/1.1 200 OK\"\n",
      " 32%|███▏      | 242/748 [06:29<13:00,  1.54s/it]INFO:httpx:HTTP Request: POST https://api.openai.com/v1/chat/completions \"HTTP/1.1 200 OK\"\n",
      " 32%|███▏      | 243/748 [06:31<14:28,  1.72s/it]INFO:httpx:HTTP Request: POST https://api.openai.com/v1/chat/completions \"HTTP/1.1 200 OK\"\n",
      " 33%|███▎      | 244/748 [06:32<13:27,  1.60s/it]INFO:httpx:HTTP Request: POST https://api.openai.com/v1/chat/completions \"HTTP/1.1 200 OK\"\n",
      " 33%|███▎      | 245/748 [06:33<12:45,  1.52s/it]INFO:httpx:HTTP Request: POST https://api.openai.com/v1/chat/completions \"HTTP/1.1 200 OK\"\n",
      " 33%|███▎      | 246/748 [06:35<13:17,  1.59s/it]INFO:httpx:HTTP Request: POST https://api.openai.com/v1/chat/completions \"HTTP/1.1 200 OK\"\n",
      " 33%|███▎      | 247/748 [06:42<26:08,  3.13s/it]INFO:httpx:HTTP Request: POST https://api.openai.com/v1/chat/completions \"HTTP/1.1 200 OK\"\n",
      " 33%|███▎      | 248/748 [06:43<21:22,  2.57s/it]INFO:httpx:HTTP Request: POST https://api.openai.com/v1/chat/completions \"HTTP/1.1 200 OK\"\n",
      " 33%|███▎      | 249/748 [06:44<17:46,  2.14s/it]INFO:httpx:HTTP Request: POST https://api.openai.com/v1/chat/completions \"HTTP/1.1 200 OK\"\n",
      " 33%|███▎      | 250/748 [06:46<15:39,  1.89s/it]INFO:httpx:HTTP Request: POST https://api.openai.com/v1/chat/completions \"HTTP/1.1 200 OK\"\n",
      " 34%|███▎      | 251/748 [06:47<14:11,  1.71s/it]INFO:httpx:HTTP Request: POST https://api.openai.com/v1/chat/completions \"HTTP/1.1 200 OK\"\n",
      " 34%|███▎      | 252/748 [07:00<41:51,  5.06s/it]INFO:httpx:HTTP Request: POST https://api.openai.com/v1/chat/completions \"HTTP/1.1 200 OK\"\n",
      " 34%|███▍      | 253/748 [07:03<37:08,  4.50s/it]INFO:httpx:HTTP Request: POST https://api.openai.com/v1/chat/completions \"HTTP/1.1 200 OK\"\n",
      " 34%|███▍      | 254/748 [07:05<30:29,  3.70s/it]INFO:httpx:HTTP Request: POST https://api.openai.com/v1/chat/completions \"HTTP/1.1 200 OK\"\n",
      " 34%|███▍      | 255/748 [07:09<30:51,  3.76s/it]INFO:httpx:HTTP Request: POST https://api.openai.com/v1/chat/completions \"HTTP/1.1 200 OK\"\n",
      " 34%|███▍      | 256/748 [07:11<27:59,  3.41s/it]INFO:httpx:HTTP Request: POST https://api.openai.com/v1/chat/completions \"HTTP/1.1 200 OK\"\n",
      " 34%|███▍      | 257/748 [07:12<21:17,  2.60s/it]INFO:httpx:HTTP Request: POST https://api.openai.com/v1/chat/completions \"HTTP/1.1 200 OK\"\n",
      " 34%|███▍      | 258/748 [07:13<16:55,  2.07s/it]INFO:httpx:HTTP Request: POST https://api.openai.com/v1/chat/completions \"HTTP/1.1 200 OK\"\n",
      " 35%|███▍      | 259/748 [07:14<13:29,  1.65s/it]INFO:httpx:HTTP Request: POST https://api.openai.com/v1/chat/completions \"HTTP/1.1 200 OK\"\n",
      " 35%|███▍      | 260/748 [07:14<10:50,  1.33s/it]INFO:httpx:HTTP Request: POST https://api.openai.com/v1/chat/completions \"HTTP/1.1 200 OK\"\n",
      " 35%|███▍      | 261/748 [07:19<19:05,  2.35s/it]INFO:httpx:HTTP Request: POST https://api.openai.com/v1/chat/completions \"HTTP/1.1 200 OK\"\n",
      " 35%|███▌      | 262/748 [07:23<23:06,  2.85s/it]INFO:httpx:HTTP Request: POST https://api.openai.com/v1/chat/completions \"HTTP/1.1 200 OK\"\n",
      " 35%|███▌      | 263/748 [07:24<19:58,  2.47s/it]INFO:httpx:HTTP Request: POST https://api.openai.com/v1/chat/completions \"HTTP/1.1 200 OK\"\n",
      " 35%|███▌      | 264/748 [07:26<17:02,  2.11s/it]INFO:httpx:HTTP Request: POST https://api.openai.com/v1/chat/completions \"HTTP/1.1 200 OK\"\n",
      " 35%|███▌      | 265/748 [07:28<17:41,  2.20s/it]INFO:httpx:HTTP Request: POST https://api.openai.com/v1/chat/completions \"HTTP/1.1 200 OK\"\n",
      " 36%|███▌      | 266/748 [07:29<14:19,  1.78s/it]INFO:httpx:HTTP Request: POST https://api.openai.com/v1/chat/completions \"HTTP/1.1 200 OK\"\n",
      " 36%|███▌      | 267/748 [07:30<11:51,  1.48s/it]INFO:httpx:HTTP Request: POST https://api.openai.com/v1/chat/completions \"HTTP/1.1 200 OK\"\n",
      " 36%|███▌      | 268/748 [07:33<15:17,  1.91s/it]INFO:httpx:HTTP Request: POST https://api.openai.com/v1/chat/completions \"HTTP/1.1 200 OK\"\n",
      " 36%|███▌      | 269/748 [07:34<12:58,  1.62s/it]INFO:httpx:HTTP Request: POST https://api.openai.com/v1/chat/completions \"HTTP/1.1 200 OK\"\n",
      " 36%|███▌      | 270/748 [07:35<11:38,  1.46s/it]INFO:httpx:HTTP Request: POST https://api.openai.com/v1/chat/completions \"HTTP/1.1 200 OK\"\n",
      " 36%|███▌      | 271/748 [07:35<09:38,  1.21s/it]INFO:httpx:HTTP Request: POST https://api.openai.com/v1/chat/completions \"HTTP/1.1 200 OK\"\n",
      " 36%|███▋      | 272/748 [07:37<10:18,  1.30s/it]INFO:httpx:HTTP Request: POST https://api.openai.com/v1/chat/completions \"HTTP/1.1 200 OK\"\n",
      " 36%|███▋      | 273/748 [07:38<09:27,  1.19s/it]INFO:httpx:HTTP Request: POST https://api.openai.com/v1/chat/completions \"HTTP/1.1 200 OK\"\n",
      " 37%|███▋      | 274/748 [07:39<08:27,  1.07s/it]INFO:httpx:HTTP Request: POST https://api.openai.com/v1/chat/completions \"HTTP/1.1 200 OK\"\n",
      " 37%|███▋      | 275/748 [07:39<07:59,  1.01s/it]INFO:httpx:HTTP Request: POST https://api.openai.com/v1/chat/completions \"HTTP/1.1 200 OK\"\n",
      " 37%|███▋      | 276/748 [07:40<07:46,  1.01it/s]INFO:httpx:HTTP Request: POST https://api.openai.com/v1/chat/completions \"HTTP/1.1 200 OK\"\n",
      " 37%|███▋      | 277/748 [07:41<07:10,  1.09it/s]INFO:httpx:HTTP Request: POST https://api.openai.com/v1/chat/completions \"HTTP/1.1 200 OK\"\n",
      " 37%|███▋      | 278/748 [07:45<13:16,  1.69s/it]INFO:httpx:HTTP Request: POST https://api.openai.com/v1/chat/completions \"HTTP/1.1 200 OK\"\n",
      " 37%|███▋      | 279/748 [07:49<19:23,  2.48s/it]INFO:httpx:HTTP Request: POST https://api.openai.com/v1/chat/completions \"HTTP/1.1 200 OK\"\n",
      " 37%|███▋      | 280/748 [07:50<16:53,  2.17s/it]INFO:httpx:HTTP Request: POST https://api.openai.com/v1/chat/completions \"HTTP/1.1 200 OK\"\n",
      " 38%|███▊      | 281/748 [07:54<19:16,  2.48s/it]INFO:httpx:HTTP Request: POST https://api.openai.com/v1/chat/completions \"HTTP/1.1 200 OK\"\n",
      " 38%|███▊      | 282/748 [07:56<19:51,  2.56s/it]INFO:httpx:HTTP Request: POST https://api.openai.com/v1/chat/completions \"HTTP/1.1 200 OK\"\n",
      " 38%|███▊      | 283/748 [07:59<19:20,  2.50s/it]INFO:httpx:HTTP Request: POST https://api.openai.com/v1/chat/completions \"HTTP/1.1 200 OK\"\n",
      " 38%|███▊      | 284/748 [08:00<16:03,  2.08s/it]INFO:httpx:HTTP Request: POST https://api.openai.com/v1/chat/completions \"HTTP/1.1 200 OK\"\n",
      " 38%|███▊      | 285/748 [08:01<13:39,  1.77s/it]INFO:httpx:HTTP Request: POST https://api.openai.com/v1/chat/completions \"HTTP/1.1 200 OK\"\n",
      " 38%|███▊      | 286/748 [08:02<13:05,  1.70s/it]INFO:httpx:HTTP Request: POST https://api.openai.com/v1/chat/completions \"HTTP/1.1 200 OK\"\n",
      " 38%|███▊      | 287/748 [08:03<11:15,  1.47s/it]INFO:httpx:HTTP Request: POST https://api.openai.com/v1/chat/completions \"HTTP/1.1 200 OK\"\n",
      " 39%|███▊      | 288/748 [08:04<09:30,  1.24s/it]INFO:httpx:HTTP Request: POST https://api.openai.com/v1/chat/completions \"HTTP/1.1 200 OK\"\n",
      " 39%|███▊      | 289/748 [08:05<08:06,  1.06s/it]INFO:httpx:HTTP Request: POST https://api.openai.com/v1/chat/completions \"HTTP/1.1 200 OK\"\n",
      " 39%|███▉      | 290/748 [08:06<07:52,  1.03s/it]INFO:httpx:HTTP Request: POST https://api.openai.com/v1/chat/completions \"HTTP/1.1 200 OK\"\n",
      " 39%|███▉      | 291/748 [08:06<07:33,  1.01it/s]INFO:httpx:HTTP Request: POST https://api.openai.com/v1/chat/completions \"HTTP/1.1 200 OK\"\n",
      " 39%|███▉      | 292/748 [08:08<09:43,  1.28s/it]INFO:httpx:HTTP Request: POST https://api.openai.com/v1/chat/completions \"HTTP/1.1 200 OK\"\n",
      " 39%|███▉      | 293/748 [08:09<08:45,  1.15s/it]INFO:httpx:HTTP Request: POST https://api.openai.com/v1/chat/completions \"HTTP/1.1 200 OK\"\n",
      " 39%|███▉      | 294/748 [08:11<09:16,  1.23s/it]INFO:httpx:HTTP Request: POST https://api.openai.com/v1/chat/completions \"HTTP/1.1 200 OK\"\n",
      " 39%|███▉      | 295/748 [08:12<09:13,  1.22s/it]INFO:httpx:HTTP Request: POST https://api.openai.com/v1/chat/completions \"HTTP/1.1 200 OK\"\n",
      " 40%|███▉      | 296/748 [08:17<17:14,  2.29s/it]INFO:httpx:HTTP Request: POST https://api.openai.com/v1/chat/completions \"HTTP/1.1 200 OK\"\n",
      " 40%|███▉      | 297/748 [08:23<26:49,  3.57s/it]INFO:httpx:HTTP Request: POST https://api.openai.com/v1/chat/completions \"HTTP/1.1 200 OK\"\n",
      " 40%|███▉      | 298/748 [08:26<25:13,  3.36s/it]INFO:httpx:HTTP Request: POST https://api.openai.com/v1/chat/completions \"HTTP/1.1 200 OK\"\n",
      " 40%|███▉      | 299/748 [08:28<20:57,  2.80s/it]INFO:httpx:HTTP Request: POST https://api.openai.com/v1/chat/completions \"HTTP/1.1 200 OK\"\n",
      " 40%|████      | 300/748 [08:29<18:44,  2.51s/it]INFO:httpx:HTTP Request: POST https://api.openai.com/v1/chat/completions \"HTTP/1.1 200 OK\"\n",
      " 40%|████      | 301/748 [08:30<14:58,  2.01s/it]INFO:httpx:HTTP Request: POST https://api.openai.com/v1/chat/completions \"HTTP/1.1 200 OK\"\n",
      " 40%|████      | 302/748 [08:31<13:08,  1.77s/it]INFO:httpx:HTTP Request: POST https://api.openai.com/v1/chat/completions \"HTTP/1.1 200 OK\"\n",
      " 41%|████      | 303/748 [08:32<11:20,  1.53s/it]INFO:httpx:HTTP Request: POST https://api.openai.com/v1/chat/completions \"HTTP/1.1 200 OK\"\n",
      " 41%|████      | 304/748 [08:35<13:19,  1.80s/it]INFO:httpx:HTTP Request: POST https://api.openai.com/v1/chat/completions \"HTTP/1.1 200 OK\"\n",
      " 41%|████      | 305/748 [08:36<12:36,  1.71s/it]INFO:httpx:HTTP Request: POST https://api.openai.com/v1/chat/completions \"HTTP/1.1 200 OK\"\n",
      " 41%|████      | 306/748 [08:42<22:15,  3.02s/it]INFO:httpx:HTTP Request: POST https://api.openai.com/v1/chat/completions \"HTTP/1.1 200 OK\"\n",
      " 41%|████      | 307/748 [08:44<19:32,  2.66s/it]INFO:httpx:HTTP Request: POST https://api.openai.com/v1/chat/completions \"HTTP/1.1 200 OK\"\n",
      " 41%|████      | 308/748 [08:45<15:46,  2.15s/it]INFO:httpx:HTTP Request: POST https://api.openai.com/v1/chat/completions \"HTTP/1.1 200 OK\"\n",
      " 41%|████▏     | 309/748 [08:47<13:51,  1.90s/it]INFO:httpx:HTTP Request: POST https://api.openai.com/v1/chat/completions \"HTTP/1.1 200 OK\"\n",
      " 41%|████▏     | 310/748 [08:47<11:47,  1.62s/it]INFO:httpx:HTTP Request: POST https://api.openai.com/v1/chat/completions \"HTTP/1.1 200 OK\"\n",
      " 42%|████▏     | 311/748 [08:50<13:48,  1.90s/it]INFO:httpx:HTTP Request: POST https://api.openai.com/v1/chat/completions \"HTTP/1.1 200 OK\"\n",
      " 42%|████▏     | 312/748 [08:52<12:59,  1.79s/it]INFO:httpx:HTTP Request: POST https://api.openai.com/v1/chat/completions \"HTTP/1.1 200 OK\"\n",
      " 42%|████▏     | 313/748 [08:53<12:00,  1.66s/it]INFO:httpx:HTTP Request: POST https://api.openai.com/v1/chat/completions \"HTTP/1.1 200 OK\"\n",
      " 42%|████▏     | 314/748 [08:54<11:27,  1.58s/it]INFO:httpx:HTTP Request: POST https://api.openai.com/v1/chat/completions \"HTTP/1.1 200 OK\"\n",
      " 42%|████▏     | 315/748 [08:57<14:26,  2.00s/it]INFO:httpx:HTTP Request: POST https://api.openai.com/v1/chat/completions \"HTTP/1.1 200 OK\"\n",
      " 42%|████▏     | 316/748 [08:59<14:28,  2.01s/it]INFO:httpx:HTTP Request: POST https://api.openai.com/v1/chat/completions \"HTTP/1.1 200 OK\"\n",
      " 42%|████▏     | 317/748 [09:04<20:03,  2.79s/it]INFO:httpx:HTTP Request: POST https://api.openai.com/v1/chat/completions \"HTTP/1.1 200 OK\"\n",
      " 43%|████▎     | 318/748 [09:08<22:51,  3.19s/it]INFO:httpx:HTTP Request: POST https://api.openai.com/v1/chat/completions \"HTTP/1.1 200 OK\"\n",
      " 43%|████▎     | 319/748 [09:11<23:10,  3.24s/it]INFO:httpx:HTTP Request: POST https://api.openai.com/v1/chat/completions \"HTTP/1.1 200 OK\"\n",
      " 43%|████▎     | 320/748 [09:13<19:03,  2.67s/it]INFO:httpx:HTTP Request: POST https://api.openai.com/v1/chat/completions \"HTTP/1.1 200 OK\"\n",
      " 43%|████▎     | 321/748 [09:15<17:04,  2.40s/it]INFO:httpx:HTTP Request: POST https://api.openai.com/v1/chat/completions \"HTTP/1.1 200 OK\"\n",
      " 43%|████▎     | 322/748 [09:15<13:31,  1.91s/it]INFO:httpx:HTTP Request: POST https://api.openai.com/v1/chat/completions \"HTTP/1.1 200 OK\"\n",
      " 43%|████▎     | 323/748 [09:18<15:48,  2.23s/it]INFO:httpx:HTTP Request: POST https://api.openai.com/v1/chat/completions \"HTTP/1.1 200 OK\"\n",
      " 43%|████▎     | 324/748 [09:19<13:26,  1.90s/it]INFO:httpx:HTTP Request: POST https://api.openai.com/v1/chat/completions \"HTTP/1.1 200 OK\"\n",
      " 43%|████▎     | 325/748 [09:20<10:55,  1.55s/it]INFO:httpx:HTTP Request: POST https://api.openai.com/v1/chat/completions \"HTTP/1.1 200 OK\"\n",
      " 44%|████▎     | 326/748 [09:21<09:27,  1.35s/it]INFO:httpx:HTTP Request: POST https://api.openai.com/v1/chat/completions \"HTTP/1.1 200 OK\"\n",
      " 44%|████▎     | 327/748 [09:23<10:57,  1.56s/it]INFO:httpx:HTTP Request: POST https://api.openai.com/v1/chat/completions \"HTTP/1.1 200 OK\"\n",
      " 44%|████▍     | 328/748 [09:24<09:13,  1.32s/it]INFO:httpx:HTTP Request: POST https://api.openai.com/v1/chat/completions \"HTTP/1.1 200 OK\"\n",
      " 44%|████▍     | 329/748 [09:25<09:25,  1.35s/it]INFO:httpx:HTTP Request: POST https://api.openai.com/v1/chat/completions \"HTTP/1.1 200 OK\"\n",
      " 44%|████▍     | 330/748 [09:27<09:09,  1.31s/it]INFO:httpx:HTTP Request: POST https://api.openai.com/v1/chat/completions \"HTTP/1.1 200 OK\"\n",
      " 44%|████▍     | 331/748 [09:28<09:05,  1.31s/it]INFO:httpx:HTTP Request: POST https://api.openai.com/v1/chat/completions \"HTTP/1.1 200 OK\"\n",
      " 44%|████▍     | 332/748 [09:30<09:59,  1.44s/it]INFO:httpx:HTTP Request: POST https://api.openai.com/v1/chat/completions \"HTTP/1.1 200 OK\"\n",
      " 45%|████▍     | 333/748 [09:31<09:20,  1.35s/it]INFO:httpx:HTTP Request: POST https://api.openai.com/v1/chat/completions \"HTTP/1.1 200 OK\"\n",
      " 45%|████▍     | 334/748 [09:32<08:52,  1.29s/it]INFO:httpx:HTTP Request: POST https://api.openai.com/v1/chat/completions \"HTTP/1.1 200 OK\"\n",
      " 45%|████▍     | 335/748 [09:33<08:01,  1.16s/it]INFO:httpx:HTTP Request: POST https://api.openai.com/v1/chat/completions \"HTTP/1.1 200 OK\"\n",
      " 45%|████▍     | 336/748 [09:34<08:16,  1.20s/it]INFO:httpx:HTTP Request: POST https://api.openai.com/v1/chat/completions \"HTTP/1.1 200 OK\"\n",
      " 45%|████▌     | 337/748 [09:35<07:11,  1.05s/it]INFO:httpx:HTTP Request: POST https://api.openai.com/v1/chat/completions \"HTTP/1.1 200 OK\"\n",
      " 45%|████▌     | 338/748 [09:36<07:57,  1.17s/it]INFO:httpx:HTTP Request: POST https://api.openai.com/v1/chat/completions \"HTTP/1.1 200 OK\"\n",
      " 45%|████▌     | 339/748 [09:37<08:04,  1.18s/it]INFO:httpx:HTTP Request: POST https://api.openai.com/v1/chat/completions \"HTTP/1.1 200 OK\"\n",
      " 45%|████▌     | 340/748 [09:38<07:55,  1.17s/it]INFO:httpx:HTTP Request: POST https://api.openai.com/v1/chat/completions \"HTTP/1.1 200 OK\"\n",
      " 46%|████▌     | 341/748 [09:40<08:14,  1.22s/it]INFO:httpx:HTTP Request: POST https://api.openai.com/v1/chat/completions \"HTTP/1.1 200 OK\"\n",
      " 46%|████▌     | 342/748 [09:41<07:32,  1.11s/it]INFO:httpx:HTTP Request: POST https://api.openai.com/v1/chat/completions \"HTTP/1.1 200 OK\"\n",
      " 46%|████▌     | 343/748 [09:42<08:22,  1.24s/it]INFO:httpx:HTTP Request: POST https://api.openai.com/v1/chat/completions \"HTTP/1.1 200 OK\"\n",
      " 46%|████▌     | 344/748 [09:43<07:47,  1.16s/it]INFO:httpx:HTTP Request: POST https://api.openai.com/v1/chat/completions \"HTTP/1.1 200 OK\"\n",
      " 46%|████▌     | 345/748 [09:44<07:20,  1.09s/it]INFO:httpx:HTTP Request: POST https://api.openai.com/v1/chat/completions \"HTTP/1.1 200 OK\"\n",
      " 46%|████▋     | 346/748 [09:45<07:24,  1.10s/it]INFO:httpx:HTTP Request: POST https://api.openai.com/v1/chat/completions \"HTTP/1.1 200 OK\"\n",
      " 46%|████▋     | 347/748 [09:47<07:43,  1.15s/it]INFO:httpx:HTTP Request: POST https://api.openai.com/v1/chat/completions \"HTTP/1.1 200 OK\"\n",
      " 47%|████▋     | 348/748 [09:48<07:18,  1.10s/it]INFO:httpx:HTTP Request: POST https://api.openai.com/v1/chat/completions \"HTTP/1.1 200 OK\"\n",
      " 47%|████▋     | 349/748 [09:49<07:45,  1.17s/it]INFO:httpx:HTTP Request: POST https://api.openai.com/v1/chat/completions \"HTTP/1.1 200 OK\"\n",
      " 47%|████▋     | 350/748 [09:50<08:16,  1.25s/it]INFO:httpx:HTTP Request: POST https://api.openai.com/v1/chat/completions \"HTTP/1.1 200 OK\"\n",
      " 47%|████▋     | 351/748 [09:52<08:37,  1.30s/it]INFO:httpx:HTTP Request: POST https://api.openai.com/v1/chat/completions \"HTTP/1.1 200 OK\"\n",
      " 47%|████▋     | 352/748 [09:52<07:26,  1.13s/it]INFO:httpx:HTTP Request: POST https://api.openai.com/v1/chat/completions \"HTTP/1.1 200 OK\"\n",
      " 47%|████▋     | 353/748 [09:53<06:36,  1.00s/it]INFO:httpx:HTTP Request: POST https://api.openai.com/v1/chat/completions \"HTTP/1.1 200 OK\"\n",
      " 47%|████▋     | 354/748 [09:54<06:01,  1.09it/s]INFO:httpx:HTTP Request: POST https://api.openai.com/v1/chat/completions \"HTTP/1.1 200 OK\"\n",
      " 47%|████▋     | 355/748 [09:55<06:35,  1.01s/it]INFO:httpx:HTTP Request: POST https://api.openai.com/v1/chat/completions \"HTTP/1.1 200 OK\"\n",
      " 48%|████▊     | 356/748 [09:57<07:26,  1.14s/it]INFO:httpx:HTTP Request: POST https://api.openai.com/v1/chat/completions \"HTTP/1.1 200 OK\"\n",
      " 48%|████▊     | 357/748 [09:58<07:12,  1.11s/it]INFO:httpx:HTTP Request: POST https://api.openai.com/v1/chat/completions \"HTTP/1.1 200 OK\"\n",
      " 48%|████▊     | 358/748 [10:00<10:19,  1.59s/it]INFO:httpx:HTTP Request: POST https://api.openai.com/v1/chat/completions \"HTTP/1.1 200 OK\"\n",
      " 48%|████▊     | 359/748 [10:05<16:10,  2.49s/it]INFO:httpx:HTTP Request: POST https://api.openai.com/v1/chat/completions \"HTTP/1.1 200 OK\"\n",
      " 48%|████▊     | 360/748 [10:06<12:53,  1.99s/it]INFO:httpx:HTTP Request: POST https://api.openai.com/v1/chat/completions \"HTTP/1.1 200 OK\"\n",
      " 48%|████▊     | 361/748 [10:06<10:32,  1.64s/it]INFO:httpx:HTTP Request: POST https://api.openai.com/v1/chat/completions \"HTTP/1.1 200 OK\"\n",
      " 48%|████▊     | 362/748 [10:08<10:50,  1.69s/it]INFO:httpx:HTTP Request: POST https://api.openai.com/v1/chat/completions \"HTTP/1.1 200 OK\"\n",
      " 49%|████▊     | 363/748 [10:10<10:21,  1.61s/it]INFO:httpx:HTTP Request: POST https://api.openai.com/v1/chat/completions \"HTTP/1.1 200 OK\"\n",
      " 49%|████▊     | 364/748 [10:12<11:43,  1.83s/it]INFO:httpx:HTTP Request: POST https://api.openai.com/v1/chat/completions \"HTTP/1.1 200 OK\"\n",
      " 49%|████▉     | 365/748 [10:16<16:01,  2.51s/it]INFO:httpx:HTTP Request: POST https://api.openai.com/v1/chat/completions \"HTTP/1.1 200 OK\"\n",
      " 49%|████▉     | 366/748 [10:17<13:30,  2.12s/it]INFO:httpx:HTTP Request: POST https://api.openai.com/v1/chat/completions \"HTTP/1.1 200 OK\"\n",
      " 49%|████▉     | 367/748 [10:21<16:11,  2.55s/it]INFO:httpx:HTTP Request: POST https://api.openai.com/v1/chat/completions \"HTTP/1.1 200 OK\"\n",
      " 49%|████▉     | 368/748 [10:23<14:23,  2.27s/it]INFO:httpx:HTTP Request: POST https://api.openai.com/v1/chat/completions \"HTTP/1.1 200 OK\"\n",
      " 49%|████▉     | 369/748 [10:24<12:30,  1.98s/it]INFO:httpx:HTTP Request: POST https://api.openai.com/v1/chat/completions \"HTTP/1.1 200 OK\"\n",
      " 49%|████▉     | 370/748 [10:25<10:39,  1.69s/it]INFO:httpx:HTTP Request: POST https://api.openai.com/v1/chat/completions \"HTTP/1.1 200 OK\"\n",
      " 50%|████▉     | 371/748 [10:26<09:10,  1.46s/it]INFO:httpx:HTTP Request: POST https://api.openai.com/v1/chat/completions \"HTTP/1.1 200 OK\"\n",
      " 50%|████▉     | 372/748 [10:27<08:21,  1.33s/it]INFO:httpx:HTTP Request: POST https://api.openai.com/v1/chat/completions \"HTTP/1.1 200 OK\"\n",
      " 50%|████▉     | 373/748 [10:28<07:05,  1.13s/it]INFO:httpx:HTTP Request: POST https://api.openai.com/v1/chat/completions \"HTTP/1.1 200 OK\"\n",
      " 50%|█████     | 374/748 [10:29<06:53,  1.11s/it]INFO:httpx:HTTP Request: POST https://api.openai.com/v1/chat/completions \"HTTP/1.1 200 OK\"\n",
      " 50%|█████     | 375/748 [10:30<06:38,  1.07s/it]INFO:httpx:HTTP Request: POST https://api.openai.com/v1/chat/completions \"HTTP/1.1 200 OK\"\n",
      " 50%|█████     | 376/748 [10:30<06:15,  1.01s/it]INFO:httpx:HTTP Request: POST https://api.openai.com/v1/chat/completions \"HTTP/1.1 200 OK\"\n",
      " 50%|█████     | 377/748 [10:31<06:00,  1.03it/s]INFO:httpx:HTTP Request: POST https://api.openai.com/v1/chat/completions \"HTTP/1.1 200 OK\"\n",
      " 51%|█████     | 378/748 [10:33<06:46,  1.10s/it]INFO:httpx:HTTP Request: POST https://api.openai.com/v1/chat/completions \"HTTP/1.1 200 OK\"\n",
      " 51%|█████     | 379/748 [10:34<07:23,  1.20s/it]INFO:httpx:HTTP Request: POST https://api.openai.com/v1/chat/completions \"HTTP/1.1 200 OK\"\n",
      " 51%|█████     | 380/748 [10:36<08:06,  1.32s/it]INFO:httpx:HTTP Request: POST https://api.openai.com/v1/chat/completions \"HTTP/1.1 200 OK\"\n",
      " 51%|█████     | 381/748 [10:39<12:20,  2.02s/it]INFO:httpx:HTTP Request: POST https://api.openai.com/v1/chat/completions \"HTTP/1.1 200 OK\"\n",
      " 51%|█████     | 382/748 [10:41<10:58,  1.80s/it]INFO:httpx:HTTP Request: POST https://api.openai.com/v1/chat/completions \"HTTP/1.1 200 OK\"\n",
      " 51%|█████     | 383/748 [10:42<09:32,  1.57s/it]INFO:httpx:HTTP Request: POST https://api.openai.com/v1/chat/completions \"HTTP/1.1 200 OK\"\n",
      " 51%|█████▏    | 384/748 [10:42<07:58,  1.32s/it]INFO:httpx:HTTP Request: POST https://api.openai.com/v1/chat/completions \"HTTP/1.1 200 OK\"\n",
      " 51%|█████▏    | 385/748 [10:45<10:10,  1.68s/it]INFO:httpx:HTTP Request: POST https://api.openai.com/v1/chat/completions \"HTTP/1.1 200 OK\"\n",
      " 52%|█████▏    | 386/748 [10:46<09:47,  1.62s/it]INFO:httpx:HTTP Request: POST https://api.openai.com/v1/chat/completions \"HTTP/1.1 200 OK\"\n",
      " 52%|█████▏    | 387/748 [10:48<09:42,  1.61s/it]INFO:httpx:HTTP Request: POST https://api.openai.com/v1/chat/completions \"HTTP/1.1 200 OK\"\n",
      " 52%|█████▏    | 388/748 [10:49<08:37,  1.44s/it]INFO:httpx:HTTP Request: POST https://api.openai.com/v1/chat/completions \"HTTP/1.1 200 OK\"\n",
      " 52%|█████▏    | 389/748 [10:51<10:08,  1.70s/it]INFO:httpx:HTTP Request: POST https://api.openai.com/v1/chat/completions \"HTTP/1.1 200 OK\"\n",
      " 52%|█████▏    | 390/748 [10:54<11:35,  1.94s/it]INFO:httpx:HTTP Request: POST https://api.openai.com/v1/chat/completions \"HTTP/1.1 200 OK\"\n",
      " 52%|█████▏    | 391/748 [10:55<09:32,  1.60s/it]INFO:httpx:HTTP Request: POST https://api.openai.com/v1/chat/completions \"HTTP/1.1 200 OK\"\n",
      " 52%|█████▏    | 392/748 [10:56<09:32,  1.61s/it]INFO:httpx:HTTP Request: POST https://api.openai.com/v1/chat/completions \"HTTP/1.1 200 OK\"\n",
      " 53%|█████▎    | 393/748 [10:59<11:48,  2.00s/it]INFO:httpx:HTTP Request: POST https://api.openai.com/v1/chat/completions \"HTTP/1.1 200 OK\"\n",
      " 53%|█████▎    | 394/748 [11:01<10:54,  1.85s/it]INFO:httpx:HTTP Request: POST https://api.openai.com/v1/chat/completions \"HTTP/1.1 200 OK\"\n",
      " 53%|█████▎    | 395/748 [11:02<10:17,  1.75s/it]INFO:httpx:HTTP Request: POST https://api.openai.com/v1/chat/completions \"HTTP/1.1 200 OK\"\n",
      " 53%|█████▎    | 396/748 [11:03<09:10,  1.56s/it]INFO:httpx:HTTP Request: POST https://api.openai.com/v1/chat/completions \"HTTP/1.1 200 OK\"\n",
      " 53%|█████▎    | 397/748 [11:04<07:13,  1.23s/it]INFO:httpx:HTTP Request: POST https://api.openai.com/v1/chat/completions \"HTTP/1.1 200 OK\"\n",
      " 53%|█████▎    | 398/748 [11:05<06:43,  1.15s/it]INFO:httpx:HTTP Request: POST https://api.openai.com/v1/chat/completions \"HTTP/1.1 200 OK\"\n",
      " 53%|█████▎    | 399/748 [11:07<07:47,  1.34s/it]INFO:httpx:HTTP Request: POST https://api.openai.com/v1/chat/completions \"HTTP/1.1 200 OK\"\n",
      " 53%|█████▎    | 400/748 [11:08<07:34,  1.31s/it]INFO:httpx:HTTP Request: POST https://api.openai.com/v1/chat/completions \"HTTP/1.1 200 OK\"\n",
      " 54%|█████▎    | 401/748 [11:09<07:13,  1.25s/it]INFO:httpx:HTTP Request: POST https://api.openai.com/v1/chat/completions \"HTTP/1.1 200 OK\"\n",
      " 54%|█████▎    | 402/748 [11:10<06:57,  1.21s/it]INFO:httpx:HTTP Request: POST https://api.openai.com/v1/chat/completions \"HTTP/1.1 200 OK\"\n",
      " 54%|█████▍    | 403/748 [11:11<07:21,  1.28s/it]INFO:httpx:HTTP Request: POST https://api.openai.com/v1/chat/completions \"HTTP/1.1 200 OK\"\n",
      " 54%|█████▍    | 404/748 [11:12<06:55,  1.21s/it]INFO:httpx:HTTP Request: POST https://api.openai.com/v1/chat/completions \"HTTP/1.1 200 OK\"\n",
      " 54%|█████▍    | 405/748 [11:18<13:36,  2.38s/it]INFO:httpx:HTTP Request: POST https://api.openai.com/v1/chat/completions \"HTTP/1.1 200 OK\"\n",
      " 54%|█████▍    | 406/748 [11:18<10:43,  1.88s/it]INFO:httpx:HTTP Request: POST https://api.openai.com/v1/chat/completions \"HTTP/1.1 200 OK\"\n",
      " 54%|█████▍    | 407/748 [11:21<11:30,  2.02s/it]INFO:httpx:HTTP Request: POST https://api.openai.com/v1/chat/completions \"HTTP/1.1 200 OK\"\n",
      " 55%|█████▍    | 408/748 [11:22<10:35,  1.87s/it]INFO:httpx:HTTP Request: POST https://api.openai.com/v1/chat/completions \"HTTP/1.1 200 OK\"\n",
      " 55%|█████▍    | 409/748 [11:23<09:10,  1.62s/it]INFO:httpx:HTTP Request: POST https://api.openai.com/v1/chat/completions \"HTTP/1.1 200 OK\"\n",
      " 55%|█████▍    | 410/748 [11:24<08:28,  1.51s/it]INFO:httpx:HTTP Request: POST https://api.openai.com/v1/chat/completions \"HTTP/1.1 200 OK\"\n",
      " 55%|█████▍    | 411/748 [11:26<07:59,  1.42s/it]INFO:httpx:HTTP Request: POST https://api.openai.com/v1/chat/completions \"HTTP/1.1 200 OK\"\n",
      " 55%|█████▌    | 412/748 [11:27<07:59,  1.43s/it]INFO:httpx:HTTP Request: POST https://api.openai.com/v1/chat/completions \"HTTP/1.1 200 OK\"\n",
      " 55%|█████▌    | 413/748 [11:29<08:14,  1.48s/it]INFO:httpx:HTTP Request: POST https://api.openai.com/v1/chat/completions \"HTTP/1.1 200 OK\"\n",
      " 55%|█████▌    | 414/748 [11:30<08:33,  1.54s/it]INFO:httpx:HTTP Request: POST https://api.openai.com/v1/chat/completions \"HTTP/1.1 200 OK\"\n",
      " 55%|█████▌    | 415/748 [11:32<08:53,  1.60s/it]INFO:httpx:HTTP Request: POST https://api.openai.com/v1/chat/completions \"HTTP/1.1 200 OK\"\n",
      " 56%|█████▌    | 416/748 [11:36<12:28,  2.25s/it]INFO:httpx:HTTP Request: POST https://api.openai.com/v1/chat/completions \"HTTP/1.1 200 OK\"\n",
      " 56%|█████▌    | 417/748 [11:37<10:24,  1.89s/it]INFO:httpx:HTTP Request: POST https://api.openai.com/v1/chat/completions \"HTTP/1.1 200 OK\"\n",
      " 56%|█████▌    | 418/748 [11:38<09:24,  1.71s/it]INFO:httpx:HTTP Request: POST https://api.openai.com/v1/chat/completions \"HTTP/1.1 200 OK\"\n",
      " 56%|█████▌    | 419/748 [11:42<12:13,  2.23s/it]INFO:httpx:HTTP Request: POST https://api.openai.com/v1/chat/completions \"HTTP/1.1 200 OK\"\n",
      " 56%|█████▌    | 420/748 [11:42<09:49,  1.80s/it]INFO:httpx:HTTP Request: POST https://api.openai.com/v1/chat/completions \"HTTP/1.1 200 OK\"\n",
      " 56%|█████▋    | 421/748 [11:44<08:31,  1.57s/it]INFO:httpx:HTTP Request: POST https://api.openai.com/v1/chat/completions \"HTTP/1.1 200 OK\"\n",
      " 56%|█████▋    | 422/748 [11:45<07:56,  1.46s/it]INFO:httpx:HTTP Request: POST https://api.openai.com/v1/chat/completions \"HTTP/1.1 200 OK\"\n",
      " 57%|█████▋    | 423/748 [11:46<07:12,  1.33s/it]INFO:httpx:HTTP Request: POST https://api.openai.com/v1/chat/completions \"HTTP/1.1 200 OK\"\n",
      " 57%|█████▋    | 424/748 [11:47<07:01,  1.30s/it]INFO:httpx:HTTP Request: POST https://api.openai.com/v1/chat/completions \"HTTP/1.1 200 OK\"\n",
      " 57%|█████▋    | 425/748 [11:49<08:32,  1.59s/it]INFO:httpx:HTTP Request: POST https://api.openai.com/v1/chat/completions \"HTTP/1.1 200 OK\"\n",
      " 57%|█████▋    | 426/748 [11:50<07:20,  1.37s/it]INFO:httpx:HTTP Request: POST https://api.openai.com/v1/chat/completions \"HTTP/1.1 200 OK\"\n",
      " 57%|█████▋    | 427/748 [11:51<06:37,  1.24s/it]INFO:httpx:HTTP Request: POST https://api.openai.com/v1/chat/completions \"HTTP/1.1 200 OK\"\n",
      " 57%|█████▋    | 428/748 [11:53<07:58,  1.50s/it]INFO:httpx:HTTP Request: POST https://api.openai.com/v1/chat/completions \"HTTP/1.1 200 OK\"\n",
      " 57%|█████▋    | 429/748 [11:56<09:19,  1.75s/it]INFO:httpx:HTTP Request: POST https://api.openai.com/v1/chat/completions \"HTTP/1.1 200 OK\"\n",
      " 57%|█████▋    | 430/748 [11:59<11:23,  2.15s/it]INFO:httpx:HTTP Request: POST https://api.openai.com/v1/chat/completions \"HTTP/1.1 200 OK\"\n",
      " 58%|█████▊    | 431/748 [12:00<10:54,  2.06s/it]INFO:httpx:HTTP Request: POST https://api.openai.com/v1/chat/completions \"HTTP/1.1 200 OK\"\n",
      " 58%|█████▊    | 432/748 [12:05<14:16,  2.71s/it]INFO:httpx:HTTP Request: POST https://api.openai.com/v1/chat/completions \"HTTP/1.1 200 OK\"\n",
      " 58%|█████▊    | 433/748 [12:06<12:02,  2.29s/it]INFO:httpx:HTTP Request: POST https://api.openai.com/v1/chat/completions \"HTTP/1.1 200 OK\"\n",
      " 58%|█████▊    | 434/748 [12:07<10:32,  2.02s/it]INFO:httpx:HTTP Request: POST https://api.openai.com/v1/chat/completions \"HTTP/1.1 200 OK\"\n",
      " 58%|█████▊    | 435/748 [12:08<08:58,  1.72s/it]INFO:httpx:HTTP Request: POST https://api.openai.com/v1/chat/completions \"HTTP/1.1 200 OK\"\n",
      " 58%|█████▊    | 436/748 [12:10<08:32,  1.64s/it]INFO:httpx:HTTP Request: POST https://api.openai.com/v1/chat/completions \"HTTP/1.1 200 OK\"\n",
      " 58%|█████▊    | 437/748 [12:11<07:49,  1.51s/it]INFO:httpx:HTTP Request: POST https://api.openai.com/v1/chat/completions \"HTTP/1.1 200 OK\"\n",
      " 59%|█████▊    | 438/748 [12:12<07:04,  1.37s/it]INFO:httpx:HTTP Request: POST https://api.openai.com/v1/chat/completions \"HTTP/1.1 200 OK\"\n",
      " 59%|█████▊    | 439/748 [12:14<07:44,  1.50s/it]INFO:httpx:HTTP Request: POST https://api.openai.com/v1/chat/completions \"HTTP/1.1 200 OK\"\n",
      " 59%|█████▉    | 440/748 [12:20<15:33,  3.03s/it]INFO:httpx:HTTP Request: POST https://api.openai.com/v1/chat/completions \"HTTP/1.1 200 OK\"\n",
      " 59%|█████▉    | 441/748 [12:25<17:08,  3.35s/it]INFO:httpx:HTTP Request: POST https://api.openai.com/v1/chat/completions \"HTTP/1.1 200 OK\"\n",
      " 59%|█████▉    | 442/748 [12:29<18:13,  3.57s/it]INFO:httpx:HTTP Request: POST https://api.openai.com/v1/chat/completions \"HTTP/1.1 200 OK\"\n",
      " 59%|█████▉    | 443/748 [12:30<15:10,  2.99s/it]INFO:httpx:HTTP Request: POST https://api.openai.com/v1/chat/completions \"HTTP/1.1 200 OK\"\n",
      " 59%|█████▉    | 444/748 [12:31<12:10,  2.40s/it]INFO:httpx:HTTP Request: POST https://api.openai.com/v1/chat/completions \"HTTP/1.1 200 OK\"\n",
      " 59%|█████▉    | 445/748 [12:33<11:07,  2.20s/it]INFO:httpx:HTTP Request: POST https://api.openai.com/v1/chat/completions \"HTTP/1.1 200 OK\"\n",
      " 60%|█████▉    | 446/748 [12:34<09:30,  1.89s/it]INFO:httpx:HTTP Request: POST https://api.openai.com/v1/chat/completions \"HTTP/1.1 200 OK\"\n",
      " 60%|█████▉    | 447/748 [12:37<10:54,  2.18s/it]INFO:httpx:HTTP Request: POST https://api.openai.com/v1/chat/completions \"HTTP/1.1 200 OK\"\n",
      " 60%|█████▉    | 448/748 [12:38<09:27,  1.89s/it]INFO:httpx:HTTP Request: POST https://api.openai.com/v1/chat/completions \"HTTP/1.1 200 OK\"\n",
      " 60%|██████    | 449/748 [12:40<09:21,  1.88s/it]INFO:httpx:HTTP Request: POST https://api.openai.com/v1/chat/completions \"HTTP/1.1 200 OK\"\n",
      " 60%|██████    | 450/748 [12:44<11:40,  2.35s/it]INFO:httpx:HTTP Request: POST https://api.openai.com/v1/chat/completions \"HTTP/1.1 200 OK\"\n",
      " 60%|██████    | 451/748 [12:45<09:52,  1.99s/it]INFO:httpx:HTTP Request: POST https://api.openai.com/v1/chat/completions \"HTTP/1.1 200 OK\"\n",
      " 60%|██████    | 452/748 [12:46<08:30,  1.73s/it]INFO:httpx:HTTP Request: POST https://api.openai.com/v1/chat/completions \"HTTP/1.1 200 OK\"\n",
      " 61%|██████    | 453/748 [12:47<07:19,  1.49s/it]INFO:httpx:HTTP Request: POST https://api.openai.com/v1/chat/completions \"HTTP/1.1 200 OK\"\n",
      " 61%|██████    | 454/748 [12:49<09:01,  1.84s/it]INFO:httpx:HTTP Request: POST https://api.openai.com/v1/chat/completions \"HTTP/1.1 200 OK\"\n",
      " 61%|██████    | 455/748 [12:51<08:01,  1.64s/it]INFO:httpx:HTTP Request: POST https://api.openai.com/v1/chat/completions \"HTTP/1.1 200 OK\"\n",
      " 61%|██████    | 456/748 [12:52<07:27,  1.53s/it]INFO:httpx:HTTP Request: POST https://api.openai.com/v1/chat/completions \"HTTP/1.1 200 OK\"\n",
      " 61%|██████    | 457/748 [12:53<07:17,  1.50s/it]INFO:httpx:HTTP Request: POST https://api.openai.com/v1/chat/completions \"HTTP/1.1 200 OK\"\n",
      " 61%|██████    | 458/748 [12:55<07:22,  1.53s/it]INFO:httpx:HTTP Request: POST https://api.openai.com/v1/chat/completions \"HTTP/1.1 200 OK\"\n",
      " 61%|██████▏   | 459/748 [12:57<08:45,  1.82s/it]INFO:httpx:HTTP Request: POST https://api.openai.com/v1/chat/completions \"HTTP/1.1 200 OK\"\n",
      " 61%|██████▏   | 460/748 [13:00<09:25,  1.96s/it]INFO:httpx:HTTP Request: POST https://api.openai.com/v1/chat/completions \"HTTP/1.1 200 OK\"\n",
      " 62%|██████▏   | 461/748 [13:03<11:32,  2.41s/it]INFO:httpx:HTTP Request: POST https://api.openai.com/v1/chat/completions \"HTTP/1.1 200 OK\"\n",
      " 62%|██████▏   | 462/748 [13:05<10:53,  2.29s/it]INFO:httpx:HTTP Request: POST https://api.openai.com/v1/chat/completions \"HTTP/1.1 200 OK\"\n",
      " 62%|██████▏   | 463/748 [13:06<08:57,  1.89s/it]INFO:httpx:HTTP Request: POST https://api.openai.com/v1/chat/completions \"HTTP/1.1 200 OK\"\n",
      " 62%|██████▏   | 464/748 [13:07<07:23,  1.56s/it]INFO:httpx:HTTP Request: POST https://api.openai.com/v1/chat/completions \"HTTP/1.1 200 OK\"\n",
      " 62%|██████▏   | 465/748 [13:08<06:51,  1.45s/it]INFO:httpx:HTTP Request: POST https://api.openai.com/v1/chat/completions \"HTTP/1.1 200 OK\"\n",
      " 62%|██████▏   | 466/748 [13:11<08:14,  1.75s/it]INFO:httpx:HTTP Request: POST https://api.openai.com/v1/chat/completions \"HTTP/1.1 200 OK\"\n",
      " 62%|██████▏   | 467/748 [13:11<06:45,  1.44s/it]INFO:httpx:HTTP Request: POST https://api.openai.com/v1/chat/completions \"HTTP/1.1 200 OK\"\n",
      " 63%|██████▎   | 468/748 [13:13<06:25,  1.38s/it]INFO:httpx:HTTP Request: POST https://api.openai.com/v1/chat/completions \"HTTP/1.1 200 OK\"\n",
      " 63%|██████▎   | 469/748 [13:14<06:31,  1.40s/it]INFO:httpx:HTTP Request: POST https://api.openai.com/v1/chat/completions \"HTTP/1.1 200 OK\"\n",
      " 63%|██████▎   | 470/748 [13:15<06:26,  1.39s/it]INFO:httpx:HTTP Request: POST https://api.openai.com/v1/chat/completions \"HTTP/1.1 200 OK\"\n",
      " 63%|██████▎   | 471/748 [13:17<06:46,  1.47s/it]INFO:httpx:HTTP Request: POST https://api.openai.com/v1/chat/completions \"HTTP/1.1 200 OK\"\n",
      " 63%|██████▎   | 472/748 [13:19<06:50,  1.49s/it]INFO:httpx:HTTP Request: POST https://api.openai.com/v1/chat/completions \"HTTP/1.1 200 OK\"\n",
      " 63%|██████▎   | 473/748 [13:19<05:45,  1.26s/it]INFO:httpx:HTTP Request: POST https://api.openai.com/v1/chat/completions \"HTTP/1.1 200 OK\"\n",
      " 63%|██████▎   | 474/748 [13:22<08:05,  1.77s/it]INFO:httpx:HTTP Request: POST https://api.openai.com/v1/chat/completions \"HTTP/1.1 200 OK\"\n",
      " 64%|██████▎   | 475/748 [13:24<08:12,  1.81s/it]INFO:httpx:HTTP Request: POST https://api.openai.com/v1/chat/completions \"HTTP/1.1 200 OK\"\n",
      " 64%|██████▎   | 476/748 [13:25<07:28,  1.65s/it]INFO:httpx:HTTP Request: POST https://api.openai.com/v1/chat/completions \"HTTP/1.1 200 OK\"\n",
      " 64%|██████▍   | 477/748 [13:26<06:31,  1.44s/it]INFO:httpx:HTTP Request: POST https://api.openai.com/v1/chat/completions \"HTTP/1.1 200 OK\"\n",
      " 64%|██████▍   | 478/748 [13:28<06:33,  1.46s/it]INFO:httpx:HTTP Request: POST https://api.openai.com/v1/chat/completions \"HTTP/1.1 200 OK\"\n",
      " 64%|██████▍   | 479/748 [13:31<08:54,  1.99s/it]INFO:httpx:HTTP Request: POST https://api.openai.com/v1/chat/completions \"HTTP/1.1 200 OK\"\n",
      " 64%|██████▍   | 480/748 [13:32<07:23,  1.66s/it]INFO:httpx:HTTP Request: POST https://api.openai.com/v1/chat/completions \"HTTP/1.1 200 OK\"\n",
      " 64%|██████▍   | 481/748 [13:34<07:28,  1.68s/it]INFO:httpx:HTTP Request: POST https://api.openai.com/v1/chat/completions \"HTTP/1.1 200 OK\"\n",
      " 64%|██████▍   | 482/748 [13:36<07:47,  1.76s/it]INFO:httpx:HTTP Request: POST https://api.openai.com/v1/chat/completions \"HTTP/1.1 200 OK\"\n",
      " 65%|██████▍   | 483/748 [13:37<07:13,  1.63s/it]INFO:httpx:HTTP Request: POST https://api.openai.com/v1/chat/completions \"HTTP/1.1 200 OK\"\n",
      " 65%|██████▍   | 484/748 [13:41<09:40,  2.20s/it]INFO:httpx:HTTP Request: POST https://api.openai.com/v1/chat/completions \"HTTP/1.1 200 OK\"\n",
      " 65%|██████▍   | 485/748 [13:42<08:38,  1.97s/it]INFO:httpx:HTTP Request: POST https://api.openai.com/v1/chat/completions \"HTTP/1.1 200 OK\"\n",
      " 65%|██████▍   | 486/748 [13:43<07:58,  1.82s/it]INFO:httpx:HTTP Request: POST https://api.openai.com/v1/chat/completions \"HTTP/1.1 200 OK\"\n",
      " 65%|██████▌   | 487/748 [13:45<07:09,  1.65s/it]INFO:httpx:HTTP Request: POST https://api.openai.com/v1/chat/completions \"HTTP/1.1 200 OK\"\n",
      " 65%|██████▌   | 488/748 [13:47<07:31,  1.74s/it]INFO:httpx:HTTP Request: POST https://api.openai.com/v1/chat/completions \"HTTP/1.1 200 OK\"\n",
      " 65%|██████▌   | 489/748 [13:48<06:26,  1.49s/it]INFO:httpx:HTTP Request: POST https://api.openai.com/v1/chat/completions \"HTTP/1.1 200 OK\"\n",
      " 66%|██████▌   | 490/748 [13:49<06:04,  1.41s/it]INFO:httpx:HTTP Request: POST https://api.openai.com/v1/chat/completions \"HTTP/1.1 200 OK\"\n",
      " 66%|██████▌   | 491/748 [13:50<05:25,  1.27s/it]INFO:httpx:HTTP Request: POST https://api.openai.com/v1/chat/completions \"HTTP/1.1 200 OK\"\n",
      " 66%|██████▌   | 492/748 [13:50<04:41,  1.10s/it]INFO:httpx:HTTP Request: POST https://api.openai.com/v1/chat/completions \"HTTP/1.1 200 OK\"\n",
      " 66%|██████▌   | 493/748 [13:51<04:01,  1.06it/s]INFO:httpx:HTTP Request: POST https://api.openai.com/v1/chat/completions \"HTTP/1.1 200 OK\"\n",
      " 66%|██████▌   | 494/748 [13:53<04:55,  1.16s/it]INFO:httpx:HTTP Request: POST https://api.openai.com/v1/chat/completions \"HTTP/1.1 200 OK\"\n",
      " 66%|██████▌   | 495/748 [13:54<05:04,  1.20s/it]INFO:httpx:HTTP Request: POST https://api.openai.com/v1/chat/completions \"HTTP/1.1 200 OK\"\n",
      " 66%|██████▋   | 496/748 [13:55<04:35,  1.09s/it]INFO:httpx:HTTP Request: POST https://api.openai.com/v1/chat/completions \"HTTP/1.1 200 OK\"\n",
      " 66%|██████▋   | 497/748 [13:56<04:22,  1.05s/it]INFO:httpx:HTTP Request: POST https://api.openai.com/v1/chat/completions \"HTTP/1.1 200 OK\"\n",
      " 67%|██████▋   | 498/748 [13:57<04:47,  1.15s/it]INFO:httpx:HTTP Request: POST https://api.openai.com/v1/chat/completions \"HTTP/1.1 200 OK\"\n",
      " 67%|██████▋   | 499/748 [13:58<04:40,  1.13s/it]INFO:httpx:HTTP Request: POST https://api.openai.com/v1/chat/completions \"HTTP/1.1 200 OK\"\n",
      " 67%|██████▋   | 500/748 [13:59<04:24,  1.07s/it]INFO:httpx:HTTP Request: POST https://api.openai.com/v1/chat/completions \"HTTP/1.1 200 OK\"\n",
      " 67%|██████▋   | 501/748 [14:00<04:19,  1.05s/it]INFO:httpx:HTTP Request: POST https://api.openai.com/v1/chat/completions \"HTTP/1.1 200 OK\"\n",
      " 67%|██████▋   | 502/748 [14:01<04:16,  1.04s/it]INFO:httpx:HTTP Request: POST https://api.openai.com/v1/chat/completions \"HTTP/1.1 200 OK\"\n",
      " 67%|██████▋   | 503/748 [14:03<05:12,  1.28s/it]INFO:httpx:HTTP Request: POST https://api.openai.com/v1/chat/completions \"HTTP/1.1 200 OK\"\n",
      " 67%|██████▋   | 504/748 [14:04<05:09,  1.27s/it]INFO:httpx:HTTP Request: POST https://api.openai.com/v1/chat/completions \"HTTP/1.1 200 OK\"\n",
      " 68%|██████▊   | 505/748 [14:05<04:43,  1.17s/it]INFO:httpx:HTTP Request: POST https://api.openai.com/v1/chat/completions \"HTTP/1.1 200 OK\"\n",
      " 68%|██████▊   | 506/748 [14:07<05:00,  1.24s/it]INFO:httpx:HTTP Request: POST https://api.openai.com/v1/chat/completions \"HTTP/1.1 200 OK\"\n",
      " 68%|██████▊   | 507/748 [14:09<06:02,  1.50s/it]INFO:httpx:HTTP Request: POST https://api.openai.com/v1/chat/completions \"HTTP/1.1 200 OK\"\n",
      " 68%|██████▊   | 508/748 [14:11<07:03,  1.76s/it]INFO:httpx:HTTP Request: POST https://api.openai.com/v1/chat/completions \"HTTP/1.1 200 OK\"\n",
      " 68%|██████▊   | 509/748 [14:13<06:58,  1.75s/it]INFO:httpx:HTTP Request: POST https://api.openai.com/v1/chat/completions \"HTTP/1.1 200 OK\"\n",
      " 68%|██████▊   | 510/748 [14:14<05:58,  1.50s/it]INFO:httpx:HTTP Request: POST https://api.openai.com/v1/chat/completions \"HTTP/1.1 200 OK\"\n",
      " 68%|██████▊   | 511/748 [14:14<04:59,  1.26s/it]INFO:httpx:HTTP Request: POST https://api.openai.com/v1/chat/completions \"HTTP/1.1 200 OK\"\n",
      " 68%|██████▊   | 512/748 [14:15<04:15,  1.08s/it]INFO:httpx:HTTP Request: POST https://api.openai.com/v1/chat/completions \"HTTP/1.1 200 OK\"\n",
      " 69%|██████▊   | 513/748 [14:16<03:40,  1.07it/s]INFO:httpx:HTTP Request: POST https://api.openai.com/v1/chat/completions \"HTTP/1.1 200 OK\"\n",
      " 69%|██████▊   | 514/748 [14:16<03:19,  1.17it/s]INFO:httpx:HTTP Request: POST https://api.openai.com/v1/chat/completions \"HTTP/1.1 200 OK\"\n",
      " 69%|██████▉   | 515/748 [14:17<03:16,  1.19it/s]INFO:httpx:HTTP Request: POST https://api.openai.com/v1/chat/completions \"HTTP/1.1 200 OK\"\n",
      " 69%|██████▉   | 516/748 [14:18<03:18,  1.17it/s]INFO:httpx:HTTP Request: POST https://api.openai.com/v1/chat/completions \"HTTP/1.1 200 OK\"\n",
      " 69%|██████▉   | 517/748 [14:19<03:41,  1.04it/s]INFO:httpx:HTTP Request: POST https://api.openai.com/v1/chat/completions \"HTTP/1.1 200 OK\"\n",
      " 69%|██████▉   | 518/748 [14:21<04:12,  1.10s/it]INFO:httpx:HTTP Request: POST https://api.openai.com/v1/chat/completions \"HTTP/1.1 200 OK\"\n",
      " 69%|██████▉   | 519/748 [14:22<04:01,  1.06s/it]INFO:httpx:HTTP Request: POST https://api.openai.com/v1/chat/completions \"HTTP/1.1 200 OK\"\n",
      " 70%|██████▉   | 520/748 [14:22<03:41,  1.03it/s]INFO:httpx:HTTP Request: POST https://api.openai.com/v1/chat/completions \"HTTP/1.1 200 OK\"\n",
      " 70%|██████▉   | 521/748 [14:23<03:39,  1.03it/s]INFO:httpx:HTTP Request: POST https://api.openai.com/v1/chat/completions \"HTTP/1.1 200 OK\"\n",
      " 70%|██████▉   | 522/748 [14:24<03:24,  1.11it/s]INFO:httpx:HTTP Request: POST https://api.openai.com/v1/chat/completions \"HTTP/1.1 200 OK\"\n",
      " 70%|██████▉   | 523/748 [14:26<04:09,  1.11s/it]INFO:httpx:HTTP Request: POST https://api.openai.com/v1/chat/completions \"HTTP/1.1 200 OK\"\n",
      " 70%|███████   | 524/748 [14:27<03:57,  1.06s/it]INFO:httpx:HTTP Request: POST https://api.openai.com/v1/chat/completions \"HTTP/1.1 200 OK\"\n",
      " 70%|███████   | 525/748 [14:28<04:45,  1.28s/it]INFO:httpx:HTTP Request: POST https://api.openai.com/v1/chat/completions \"HTTP/1.1 200 OK\"\n",
      " 70%|███████   | 526/748 [14:29<04:26,  1.20s/it]INFO:httpx:HTTP Request: POST https://api.openai.com/v1/chat/completions \"HTTP/1.1 200 OK\"\n",
      " 70%|███████   | 527/748 [14:31<04:19,  1.18s/it]INFO:httpx:HTTP Request: POST https://api.openai.com/v1/chat/completions \"HTTP/1.1 200 OK\"\n",
      " 71%|███████   | 528/748 [14:33<05:37,  1.54s/it]INFO:httpx:HTTP Request: POST https://api.openai.com/v1/chat/completions \"HTTP/1.1 200 OK\"\n",
      " 71%|███████   | 529/748 [14:36<06:46,  1.86s/it]INFO:httpx:HTTP Request: POST https://api.openai.com/v1/chat/completions \"HTTP/1.1 200 OK\"\n",
      " 71%|███████   | 530/748 [14:37<06:44,  1.86s/it]INFO:httpx:HTTP Request: POST https://api.openai.com/v1/chat/completions \"HTTP/1.1 200 OK\"\n",
      " 71%|███████   | 531/748 [14:39<06:35,  1.82s/it]INFO:httpx:HTTP Request: POST https://api.openai.com/v1/chat/completions \"HTTP/1.1 200 OK\"\n",
      " 71%|███████   | 532/748 [14:40<05:35,  1.55s/it]INFO:httpx:HTTP Request: POST https://api.openai.com/v1/chat/completions \"HTTP/1.1 200 OK\"\n",
      " 71%|███████▏  | 533/748 [14:41<04:39,  1.30s/it]INFO:httpx:HTTP Request: POST https://api.openai.com/v1/chat/completions \"HTTP/1.1 200 OK\"\n",
      " 71%|███████▏  | 534/748 [14:42<04:08,  1.16s/it]INFO:httpx:HTTP Request: POST https://api.openai.com/v1/chat/completions \"HTTP/1.1 200 OK\"\n",
      " 72%|███████▏  | 535/748 [14:43<04:27,  1.25s/it]INFO:httpx:HTTP Request: POST https://api.openai.com/v1/chat/completions \"HTTP/1.1 200 OK\"\n",
      " 72%|███████▏  | 536/748 [14:48<08:03,  2.28s/it]INFO:httpx:HTTP Request: POST https://api.openai.com/v1/chat/completions \"HTTP/1.1 200 OK\"\n",
      " 72%|███████▏  | 537/748 [14:50<08:17,  2.36s/it]INFO:httpx:HTTP Request: POST https://api.openai.com/v1/chat/completions \"HTTP/1.1 200 OK\"\n",
      " 72%|███████▏  | 538/748 [14:51<06:52,  1.96s/it]INFO:httpx:HTTP Request: POST https://api.openai.com/v1/chat/completions \"HTTP/1.1 200 OK\"\n",
      " 72%|███████▏  | 539/748 [14:52<05:31,  1.59s/it]INFO:httpx:HTTP Request: POST https://api.openai.com/v1/chat/completions \"HTTP/1.1 200 OK\"\n",
      " 72%|███████▏  | 540/748 [14:56<07:35,  2.19s/it]INFO:httpx:HTTP Request: POST https://api.openai.com/v1/chat/completions \"HTTP/1.1 200 OK\"\n",
      " 72%|███████▏  | 541/748 [14:58<08:15,  2.39s/it]INFO:httpx:HTTP Request: POST https://api.openai.com/v1/chat/completions \"HTTP/1.1 200 OK\"\n",
      " 72%|███████▏  | 542/748 [15:02<09:46,  2.85s/it]INFO:httpx:HTTP Request: POST https://api.openai.com/v1/chat/completions \"HTTP/1.1 200 OK\"\n",
      " 73%|███████▎  | 543/748 [15:04<08:47,  2.57s/it]INFO:httpx:HTTP Request: POST https://api.openai.com/v1/chat/completions \"HTTP/1.1 200 OK\"\n",
      " 73%|███████▎  | 544/748 [15:06<08:19,  2.45s/it]INFO:httpx:HTTP Request: POST https://api.openai.com/v1/chat/completions \"HTTP/1.1 200 OK\"\n",
      " 73%|███████▎  | 545/748 [15:08<07:23,  2.18s/it]INFO:httpx:HTTP Request: POST https://api.openai.com/v1/chat/completions \"HTTP/1.1 200 OK\"\n",
      " 73%|███████▎  | 546/748 [15:11<07:47,  2.31s/it]INFO:httpx:HTTP Request: POST https://api.openai.com/v1/chat/completions \"HTTP/1.1 200 OK\"\n",
      " 73%|███████▎  | 547/748 [15:15<09:57,  2.97s/it]INFO:httpx:HTTP Request: POST https://api.openai.com/v1/chat/completions \"HTTP/1.1 200 OK\"\n",
      " 73%|███████▎  | 548/748 [15:18<09:42,  2.91s/it]INFO:httpx:HTTP Request: POST https://api.openai.com/v1/chat/completions \"HTTP/1.1 200 OK\"\n",
      " 73%|███████▎  | 549/748 [15:20<08:58,  2.70s/it]INFO:httpx:HTTP Request: POST https://api.openai.com/v1/chat/completions \"HTTP/1.1 200 OK\"\n",
      " 74%|███████▎  | 550/748 [15:22<07:38,  2.31s/it]INFO:httpx:HTTP Request: POST https://api.openai.com/v1/chat/completions \"HTTP/1.1 200 OK\"\n",
      " 74%|███████▎  | 551/748 [15:23<06:26,  1.96s/it]INFO:httpx:HTTP Request: POST https://api.openai.com/v1/chat/completions \"HTTP/1.1 200 OK\"\n",
      " 74%|███████▍  | 552/748 [15:24<05:31,  1.69s/it]INFO:httpx:HTTP Request: POST https://api.openai.com/v1/chat/completions \"HTTP/1.1 200 OK\"\n",
      " 74%|███████▍  | 553/748 [15:25<05:26,  1.67s/it]INFO:httpx:HTTP Request: POST https://api.openai.com/v1/chat/completions \"HTTP/1.1 200 OK\"\n",
      " 74%|███████▍  | 554/748 [15:28<06:22,  1.97s/it]INFO:httpx:HTTP Request: POST https://api.openai.com/v1/chat/completions \"HTTP/1.1 200 OK\"\n",
      " 74%|███████▍  | 555/748 [15:35<11:15,  3.50s/it]INFO:httpx:HTTP Request: POST https://api.openai.com/v1/chat/completions \"HTTP/1.1 200 OK\"\n",
      " 74%|███████▍  | 556/748 [15:38<10:47,  3.37s/it]INFO:httpx:HTTP Request: POST https://api.openai.com/v1/chat/completions \"HTTP/1.1 200 OK\"\n",
      " 74%|███████▍  | 557/748 [15:41<10:32,  3.31s/it]INFO:httpx:HTTP Request: POST https://api.openai.com/v1/chat/completions \"HTTP/1.1 200 OK\"\n",
      " 75%|███████▍  | 558/748 [15:46<11:49,  3.73s/it]INFO:httpx:HTTP Request: POST https://api.openai.com/v1/chat/completions \"HTTP/1.1 200 OK\"\n",
      " 75%|███████▍  | 559/748 [15:49<10:43,  3.41s/it]INFO:httpx:HTTP Request: POST https://api.openai.com/v1/chat/completions \"HTTP/1.1 200 OK\"\n",
      " 75%|███████▍  | 560/748 [15:52<10:30,  3.35s/it]INFO:httpx:HTTP Request: POST https://api.openai.com/v1/chat/completions \"HTTP/1.1 200 OK\"\n",
      " 75%|███████▌  | 561/748 [15:53<08:25,  2.70s/it]INFO:httpx:HTTP Request: POST https://api.openai.com/v1/chat/completions \"HTTP/1.1 200 OK\"\n",
      " 75%|███████▌  | 562/748 [15:56<08:16,  2.67s/it]INFO:httpx:HTTP Request: POST https://api.openai.com/v1/chat/completions \"HTTP/1.1 200 OK\"\n",
      " 75%|███████▌  | 563/748 [16:00<09:56,  3.22s/it]INFO:httpx:HTTP Request: POST https://api.openai.com/v1/chat/completions \"HTTP/1.1 200 OK\"\n",
      " 75%|███████▌  | 564/748 [16:02<08:17,  2.70s/it]INFO:httpx:HTTP Request: POST https://api.openai.com/v1/chat/completions \"HTTP/1.1 200 OK\"\n",
      " 76%|███████▌  | 565/748 [16:03<06:26,  2.11s/it]INFO:httpx:HTTP Request: POST https://api.openai.com/v1/chat/completions \"HTTP/1.1 200 OK\"\n",
      " 76%|███████▌  | 566/748 [16:03<05:10,  1.70s/it]INFO:httpx:HTTP Request: POST https://api.openai.com/v1/chat/completions \"HTTP/1.1 200 OK\"\n",
      " 76%|███████▌  | 567/748 [16:04<04:16,  1.42s/it]INFO:httpx:HTTP Request: POST https://api.openai.com/v1/chat/completions \"HTTP/1.1 200 OK\"\n",
      " 76%|███████▌  | 568/748 [16:11<09:00,  3.00s/it]INFO:httpx:HTTP Request: POST https://api.openai.com/v1/chat/completions \"HTTP/1.1 200 OK\"\n",
      " 76%|███████▌  | 569/748 [16:12<06:59,  2.34s/it]INFO:httpx:HTTP Request: POST https://api.openai.com/v1/chat/completions \"HTTP/1.1 200 OK\"\n",
      " 76%|███████▌  | 570/748 [16:12<05:18,  1.79s/it]INFO:httpx:HTTP Request: POST https://api.openai.com/v1/chat/completions \"HTTP/1.1 200 OK\"\n",
      " 76%|███████▋  | 571/748 [16:13<04:18,  1.46s/it]INFO:httpx:HTTP Request: POST https://api.openai.com/v1/chat/completions \"HTTP/1.1 200 OK\"\n",
      " 76%|███████▋  | 572/748 [16:14<03:44,  1.28s/it]INFO:httpx:HTTP Request: POST https://api.openai.com/v1/chat/completions \"HTTP/1.1 200 OK\"\n",
      " 77%|███████▋  | 573/748 [16:14<03:22,  1.16s/it]INFO:httpx:HTTP Request: POST https://api.openai.com/v1/chat/completions \"HTTP/1.1 200 OK\"\n",
      " 77%|███████▋  | 574/748 [16:16<03:54,  1.35s/it]INFO:httpx:HTTP Request: POST https://api.openai.com/v1/chat/completions \"HTTP/1.1 200 OK\"\n",
      " 77%|███████▋  | 575/748 [16:18<04:09,  1.44s/it]INFO:httpx:HTTP Request: POST https://api.openai.com/v1/chat/completions \"HTTP/1.1 200 OK\"\n",
      " 77%|███████▋  | 576/748 [16:20<04:27,  1.55s/it]INFO:httpx:HTTP Request: POST https://api.openai.com/v1/chat/completions \"HTTP/1.1 200 OK\"\n",
      " 77%|███████▋  | 577/748 [16:21<04:23,  1.54s/it]INFO:httpx:HTTP Request: POST https://api.openai.com/v1/chat/completions \"HTTP/1.1 200 OK\"\n",
      " 77%|███████▋  | 578/748 [16:23<04:26,  1.57s/it]INFO:httpx:HTTP Request: POST https://api.openai.com/v1/chat/completions \"HTTP/1.1 200 OK\"\n",
      " 77%|███████▋  | 579/748 [16:25<04:30,  1.60s/it]INFO:httpx:HTTP Request: POST https://api.openai.com/v1/chat/completions \"HTTP/1.1 200 OK\"\n",
      " 78%|███████▊  | 580/748 [16:26<04:46,  1.70s/it]INFO:httpx:HTTP Request: POST https://api.openai.com/v1/chat/completions \"HTTP/1.1 200 OK\"\n",
      " 78%|███████▊  | 581/748 [16:28<04:46,  1.72s/it]INFO:httpx:HTTP Request: POST https://api.openai.com/v1/chat/completions \"HTTP/1.1 200 OK\"\n",
      " 78%|███████▊  | 582/748 [16:30<04:42,  1.70s/it]INFO:httpx:HTTP Request: POST https://api.openai.com/v1/chat/completions \"HTTP/1.1 200 OK\"\n",
      " 78%|███████▊  | 583/748 [16:31<04:15,  1.55s/it]INFO:httpx:HTTP Request: POST https://api.openai.com/v1/chat/completions \"HTTP/1.1 200 OK\"\n",
      " 78%|███████▊  | 584/748 [16:35<05:53,  2.16s/it]INFO:httpx:HTTP Request: POST https://api.openai.com/v1/chat/completions \"HTTP/1.1 200 OK\"\n",
      " 78%|███████▊  | 585/748 [16:36<05:33,  2.05s/it]INFO:httpx:HTTP Request: POST https://api.openai.com/v1/chat/completions \"HTTP/1.1 200 OK\"\n",
      " 78%|███████▊  | 586/748 [16:39<05:37,  2.09s/it]INFO:httpx:HTTP Request: POST https://api.openai.com/v1/chat/completions \"HTTP/1.1 200 OK\"\n",
      " 78%|███████▊  | 587/748 [16:39<04:26,  1.66s/it]INFO:httpx:HTTP Request: POST https://api.openai.com/v1/chat/completions \"HTTP/1.1 200 OK\"\n",
      " 79%|███████▊  | 588/748 [16:40<03:59,  1.50s/it]INFO:httpx:HTTP Request: POST https://api.openai.com/v1/chat/completions \"HTTP/1.1 200 OK\"\n",
      " 79%|███████▊  | 589/748 [16:41<03:21,  1.27s/it]INFO:httpx:HTTP Request: POST https://api.openai.com/v1/chat/completions \"HTTP/1.1 200 OK\"\n",
      " 79%|███████▉  | 590/748 [16:42<03:20,  1.27s/it]INFO:httpx:HTTP Request: POST https://api.openai.com/v1/chat/completions \"HTTP/1.1 200 OK\"\n",
      " 79%|███████▉  | 591/748 [16:44<03:33,  1.36s/it]INFO:httpx:HTTP Request: POST https://api.openai.com/v1/chat/completions \"HTTP/1.1 200 OK\"\n",
      " 79%|███████▉  | 592/748 [16:46<04:15,  1.64s/it]INFO:httpx:HTTP Request: POST https://api.openai.com/v1/chat/completions \"HTTP/1.1 200 OK\"\n",
      " 79%|███████▉  | 593/748 [16:48<03:58,  1.54s/it]INFO:httpx:HTTP Request: POST https://api.openai.com/v1/chat/completions \"HTTP/1.1 200 OK\"\n",
      " 79%|███████▉  | 594/748 [16:50<04:30,  1.76s/it]INFO:httpx:HTTP Request: POST https://api.openai.com/v1/chat/completions \"HTTP/1.1 200 OK\"\n",
      " 80%|███████▉  | 595/748 [16:52<04:42,  1.85s/it]INFO:httpx:HTTP Request: POST https://api.openai.com/v1/chat/completions \"HTTP/1.1 200 OK\"\n",
      " 80%|███████▉  | 596/748 [16:55<05:40,  2.24s/it]INFO:httpx:HTTP Request: POST https://api.openai.com/v1/chat/completions \"HTTP/1.1 200 OK\"\n",
      " 80%|███████▉  | 597/748 [16:58<05:51,  2.33s/it]INFO:httpx:HTTP Request: POST https://api.openai.com/v1/chat/completions \"HTTP/1.1 200 OK\"\n",
      " 80%|███████▉  | 598/748 [17:02<07:07,  2.85s/it]INFO:httpx:HTTP Request: POST https://api.openai.com/v1/chat/completions \"HTTP/1.1 200 OK\"\n",
      " 80%|████████  | 599/748 [17:08<09:33,  3.85s/it]INFO:httpx:HTTP Request: POST https://api.openai.com/v1/chat/completions \"HTTP/1.1 200 OK\"\n",
      " 80%|████████  | 600/748 [17:12<09:54,  4.02s/it]INFO:httpx:HTTP Request: POST https://api.openai.com/v1/chat/completions \"HTTP/1.1 200 OK\"\n",
      " 80%|████████  | 601/748 [17:14<08:05,  3.30s/it]INFO:httpx:HTTP Request: POST https://api.openai.com/v1/chat/completions \"HTTP/1.1 200 OK\"\n",
      " 80%|████████  | 602/748 [17:17<08:05,  3.33s/it]INFO:httpx:HTTP Request: POST https://api.openai.com/v1/chat/completions \"HTTP/1.1 200 OK\"\n",
      " 81%|████████  | 603/748 [17:19<07:09,  2.96s/it]INFO:httpx:HTTP Request: POST https://api.openai.com/v1/chat/completions \"HTTP/1.1 200 OK\"\n",
      " 81%|████████  | 604/748 [17:24<08:06,  3.38s/it]INFO:httpx:HTTP Request: POST https://api.openai.com/v1/chat/completions \"HTTP/1.1 200 OK\"\n",
      " 81%|████████  | 605/748 [17:26<07:01,  2.95s/it]INFO:httpx:HTTP Request: POST https://api.openai.com/v1/chat/completions \"HTTP/1.1 200 OK\"\n",
      " 81%|████████  | 606/748 [17:29<07:04,  2.99s/it]INFO:httpx:HTTP Request: POST https://api.openai.com/v1/chat/completions \"HTTP/1.1 200 OK\"\n",
      " 81%|████████  | 607/748 [17:32<07:17,  3.11s/it]INFO:httpx:HTTP Request: POST https://api.openai.com/v1/chat/completions \"HTTP/1.1 200 OK\"\n",
      " 81%|████████▏ | 608/748 [17:35<07:25,  3.18s/it]INFO:httpx:HTTP Request: POST https://api.openai.com/v1/chat/completions \"HTTP/1.1 200 OK\"\n",
      " 81%|████████▏ | 609/748 [17:39<07:55,  3.42s/it]INFO:httpx:HTTP Request: POST https://api.openai.com/v1/chat/completions \"HTTP/1.1 200 OK\"\n",
      " 82%|████████▏ | 610/748 [17:41<06:33,  2.85s/it]INFO:httpx:HTTP Request: POST https://api.openai.com/v1/chat/completions \"HTTP/1.1 200 OK\"\n",
      " 82%|████████▏ | 611/748 [17:42<05:28,  2.40s/it]INFO:httpx:HTTP Request: POST https://api.openai.com/v1/chat/completions \"HTTP/1.1 200 OK\"\n",
      " 82%|████████▏ | 612/748 [17:43<04:23,  1.94s/it]INFO:httpx:HTTP Request: POST https://api.openai.com/v1/chat/completions \"HTTP/1.1 200 OK\"\n",
      " 82%|████████▏ | 613/748 [17:46<05:06,  2.27s/it]INFO:httpx:HTTP Request: POST https://api.openai.com/v1/chat/completions \"HTTP/1.1 200 OK\"\n",
      " 82%|████████▏ | 614/748 [17:48<04:30,  2.02s/it]INFO:httpx:HTTP Request: POST https://api.openai.com/v1/chat/completions \"HTTP/1.1 200 OK\"\n",
      " 82%|████████▏ | 615/748 [17:49<04:09,  1.87s/it]INFO:httpx:HTTP Request: POST https://api.openai.com/v1/chat/completions \"HTTP/1.1 200 OK\"\n",
      " 82%|████████▏ | 616/748 [17:50<03:37,  1.65s/it]INFO:httpx:HTTP Request: POST https://api.openai.com/v1/chat/completions \"HTTP/1.1 200 OK\"\n",
      " 82%|████████▏ | 617/748 [17:52<03:25,  1.56s/it]INFO:httpx:HTTP Request: POST https://api.openai.com/v1/chat/completions \"HTTP/1.1 200 OK\"\n",
      " 83%|████████▎ | 618/748 [17:52<02:53,  1.34s/it]INFO:httpx:HTTP Request: POST https://api.openai.com/v1/chat/completions \"HTTP/1.1 200 OK\"\n",
      " 83%|████████▎ | 619/748 [17:54<02:47,  1.30s/it]INFO:httpx:HTTP Request: POST https://api.openai.com/v1/chat/completions \"HTTP/1.1 200 OK\"\n",
      " 83%|████████▎ | 620/748 [17:54<02:23,  1.12s/it]INFO:httpx:HTTP Request: POST https://api.openai.com/v1/chat/completions \"HTTP/1.1 200 OK\"\n",
      " 83%|████████▎ | 621/748 [17:55<02:13,  1.06s/it]INFO:httpx:HTTP Request: POST https://api.openai.com/v1/chat/completions \"HTTP/1.1 200 OK\"\n",
      " 83%|████████▎ | 622/748 [17:56<02:17,  1.09s/it]INFO:httpx:HTTP Request: POST https://api.openai.com/v1/chat/completions \"HTTP/1.1 200 OK\"\n",
      " 83%|████████▎ | 623/748 [17:57<02:08,  1.03s/it]INFO:httpx:HTTP Request: POST https://api.openai.com/v1/chat/completions \"HTTP/1.1 200 OK\"\n",
      " 83%|████████▎ | 624/748 [17:58<01:54,  1.08it/s]INFO:httpx:HTTP Request: POST https://api.openai.com/v1/chat/completions \"HTTP/1.1 200 OK\"\n",
      " 84%|████████▎ | 625/748 [17:59<01:39,  1.23it/s]INFO:httpx:HTTP Request: POST https://api.openai.com/v1/chat/completions \"HTTP/1.1 200 OK\"\n",
      " 84%|████████▎ | 626/748 [18:01<02:23,  1.18s/it]INFO:httpx:HTTP Request: POST https://api.openai.com/v1/chat/completions \"HTTP/1.1 200 OK\"\n",
      " 84%|████████▍ | 627/748 [18:01<02:03,  1.02s/it]INFO:httpx:HTTP Request: POST https://api.openai.com/v1/chat/completions \"HTTP/1.1 200 OK\"\n",
      " 84%|████████▍ | 628/748 [18:03<02:09,  1.08s/it]INFO:httpx:HTTP Request: POST https://api.openai.com/v1/chat/completions \"HTTP/1.1 200 OK\"\n",
      " 84%|████████▍ | 629/748 [18:04<02:13,  1.13s/it]INFO:httpx:HTTP Request: POST https://api.openai.com/v1/chat/completions \"HTTP/1.1 200 OK\"\n",
      " 84%|████████▍ | 630/748 [18:05<02:11,  1.12s/it]INFO:httpx:HTTP Request: POST https://api.openai.com/v1/chat/completions \"HTTP/1.1 200 OK\"\n",
      " 84%|████████▍ | 631/748 [18:06<02:14,  1.15s/it]INFO:httpx:HTTP Request: POST https://api.openai.com/v1/chat/completions \"HTTP/1.1 200 OK\"\n",
      " 84%|████████▍ | 632/748 [18:07<02:20,  1.21s/it]INFO:httpx:HTTP Request: POST https://api.openai.com/v1/chat/completions \"HTTP/1.1 200 OK\"\n",
      " 85%|████████▍ | 633/748 [18:08<02:11,  1.14s/it]INFO:httpx:HTTP Request: POST https://api.openai.com/v1/chat/completions \"HTTP/1.1 200 OK\"\n",
      " 85%|████████▍ | 634/748 [18:09<01:52,  1.02it/s]INFO:httpx:HTTP Request: POST https://api.openai.com/v1/chat/completions \"HTTP/1.1 200 OK\"\n",
      " 85%|████████▍ | 635/748 [18:12<02:45,  1.47s/it]INFO:httpx:HTTP Request: POST https://api.openai.com/v1/chat/completions \"HTTP/1.1 200 OK\"\n",
      " 85%|████████▌ | 636/748 [18:12<02:16,  1.22s/it]INFO:httpx:HTTP Request: POST https://api.openai.com/v1/chat/completions \"HTTP/1.1 200 OK\"\n",
      " 85%|████████▌ | 637/748 [18:13<01:53,  1.03s/it]INFO:httpx:HTTP Request: POST https://api.openai.com/v1/chat/completions \"HTTP/1.1 200 OK\"\n",
      " 85%|████████▌ | 638/748 [18:14<01:50,  1.01s/it]INFO:httpx:HTTP Request: POST https://api.openai.com/v1/chat/completions \"HTTP/1.1 200 OK\"\n",
      " 85%|████████▌ | 639/748 [18:15<02:03,  1.13s/it]INFO:httpx:HTTP Request: POST https://api.openai.com/v1/chat/completions \"HTTP/1.1 200 OK\"\n",
      " 86%|████████▌ | 640/748 [18:16<01:55,  1.07s/it]INFO:httpx:HTTP Request: POST https://api.openai.com/v1/chat/completions \"HTTP/1.1 200 OK\"\n",
      " 86%|████████▌ | 641/748 [18:17<01:49,  1.02s/it]INFO:httpx:HTTP Request: POST https://api.openai.com/v1/chat/completions \"HTTP/1.1 200 OK\"\n",
      " 86%|████████▌ | 642/748 [18:18<01:45,  1.01it/s]INFO:httpx:HTTP Request: POST https://api.openai.com/v1/chat/completions \"HTTP/1.1 200 OK\"\n",
      " 86%|████████▌ | 643/748 [18:19<01:46,  1.01s/it]INFO:httpx:HTTP Request: POST https://api.openai.com/v1/chat/completions \"HTTP/1.1 200 OK\"\n",
      " 86%|████████▌ | 644/748 [18:21<02:03,  1.19s/it]INFO:httpx:HTTP Request: POST https://api.openai.com/v1/chat/completions \"HTTP/1.1 200 OK\"\n",
      " 86%|████████▌ | 645/748 [18:22<01:57,  1.14s/it]INFO:httpx:HTTP Request: POST https://api.openai.com/v1/chat/completions \"HTTP/1.1 200 OK\"\n",
      " 86%|████████▋ | 646/748 [18:23<01:58,  1.16s/it]INFO:httpx:HTTP Request: POST https://api.openai.com/v1/chat/completions \"HTTP/1.1 200 OK\"\n",
      " 86%|████████▋ | 647/748 [18:24<02:01,  1.20s/it]INFO:httpx:HTTP Request: POST https://api.openai.com/v1/chat/completions \"HTTP/1.1 200 OK\"\n",
      " 87%|████████▋ | 648/748 [18:25<01:53,  1.13s/it]INFO:httpx:HTTP Request: POST https://api.openai.com/v1/chat/completions \"HTTP/1.1 200 OK\"\n",
      " 87%|████████▋ | 649/748 [18:26<01:51,  1.13s/it]INFO:httpx:HTTP Request: POST https://api.openai.com/v1/chat/completions \"HTTP/1.1 200 OK\"\n",
      " 87%|████████▋ | 650/748 [18:28<01:56,  1.19s/it]INFO:httpx:HTTP Request: POST https://api.openai.com/v1/chat/completions \"HTTP/1.1 200 OK\"\n",
      " 87%|████████▋ | 651/748 [18:29<01:50,  1.14s/it]INFO:httpx:HTTP Request: POST https://api.openai.com/v1/chat/completions \"HTTP/1.1 200 OK\"\n",
      " 87%|████████▋ | 652/748 [18:29<01:40,  1.05s/it]INFO:httpx:HTTP Request: POST https://api.openai.com/v1/chat/completions \"HTTP/1.1 200 OK\"\n",
      " 87%|████████▋ | 653/748 [18:31<01:49,  1.15s/it]INFO:httpx:HTTP Request: POST https://api.openai.com/v1/chat/completions \"HTTP/1.1 200 OK\"\n",
      " 87%|████████▋ | 654/748 [18:32<01:41,  1.08s/it]INFO:httpx:HTTP Request: POST https://api.openai.com/v1/chat/completions \"HTTP/1.1 200 OK\"\n",
      " 88%|████████▊ | 655/748 [18:36<02:55,  1.89s/it]INFO:httpx:HTTP Request: POST https://api.openai.com/v1/chat/completions \"HTTP/1.1 200 OK\"\n",
      " 88%|████████▊ | 656/748 [18:36<02:27,  1.60s/it]INFO:httpx:HTTP Request: POST https://api.openai.com/v1/chat/completions \"HTTP/1.1 200 OK\"\n",
      " 88%|████████▊ | 657/748 [18:40<03:15,  2.14s/it]INFO:httpx:HTTP Request: POST https://api.openai.com/v1/chat/completions \"HTTP/1.1 200 OK\"\n",
      " 88%|████████▊ | 658/748 [18:42<03:15,  2.17s/it]INFO:httpx:HTTP Request: POST https://api.openai.com/v1/chat/completions \"HTTP/1.1 200 OK\"\n",
      " 88%|████████▊ | 659/748 [18:45<03:27,  2.33s/it]INFO:httpx:HTTP Request: POST https://api.openai.com/v1/chat/completions \"HTTP/1.1 200 OK\"\n",
      " 88%|████████▊ | 660/748 [18:46<02:42,  1.85s/it]INFO:httpx:HTTP Request: POST https://api.openai.com/v1/chat/completions \"HTTP/1.1 200 OK\"\n",
      " 88%|████████▊ | 661/748 [18:50<03:36,  2.49s/it]INFO:httpx:HTTP Request: POST https://api.openai.com/v1/chat/completions \"HTTP/1.1 200 OK\"\n",
      " 89%|████████▊ | 662/748 [18:50<02:48,  1.96s/it]INFO:httpx:HTTP Request: POST https://api.openai.com/v1/chat/completions \"HTTP/1.1 200 OK\"\n",
      " 89%|████████▊ | 663/748 [18:51<02:25,  1.71s/it]INFO:httpx:HTTP Request: POST https://api.openai.com/v1/chat/completions \"HTTP/1.1 200 OK\"\n",
      " 89%|████████▉ | 664/748 [18:52<02:07,  1.51s/it]INFO:httpx:HTTP Request: POST https://api.openai.com/v1/chat/completions \"HTTP/1.1 200 OK\"\n",
      " 89%|████████▉ | 665/748 [18:54<01:55,  1.39s/it]INFO:httpx:HTTP Request: POST https://api.openai.com/v1/chat/completions \"HTTP/1.1 200 OK\"\n",
      " 89%|████████▉ | 666/748 [18:55<01:43,  1.27s/it]INFO:httpx:HTTP Request: POST https://api.openai.com/v1/chat/completions \"HTTP/1.1 200 OK\"\n",
      " 89%|████████▉ | 667/748 [18:55<01:32,  1.14s/it]INFO:httpx:HTTP Request: POST https://api.openai.com/v1/chat/completions \"HTTP/1.1 200 OK\"\n",
      " 89%|████████▉ | 668/748 [18:56<01:24,  1.06s/it]INFO:httpx:HTTP Request: POST https://api.openai.com/v1/chat/completions \"HTTP/1.1 200 OK\"\n",
      " 89%|████████▉ | 669/748 [18:57<01:19,  1.00s/it]INFO:httpx:HTTP Request: POST https://api.openai.com/v1/chat/completions \"HTTP/1.1 200 OK\"\n",
      " 90%|████████▉ | 670/748 [19:00<01:59,  1.53s/it]INFO:httpx:HTTP Request: POST https://api.openai.com/v1/chat/completions \"HTTP/1.1 200 OK\"\n",
      " 90%|████████▉ | 671/748 [19:03<02:24,  1.87s/it]INFO:httpx:HTTP Request: POST https://api.openai.com/v1/chat/completions \"HTTP/1.1 200 OK\"\n",
      " 90%|████████▉ | 672/748 [19:05<02:41,  2.13s/it]INFO:httpx:HTTP Request: POST https://api.openai.com/v1/chat/completions \"HTTP/1.1 200 OK\"\n",
      " 90%|████████▉ | 673/748 [19:10<03:39,  2.93s/it]INFO:httpx:HTTP Request: POST https://api.openai.com/v1/chat/completions \"HTTP/1.1 200 OK\"\n",
      " 90%|█████████ | 674/748 [19:12<03:20,  2.70s/it]INFO:httpx:HTTP Request: POST https://api.openai.com/v1/chat/completions \"HTTP/1.1 200 OK\"\n",
      " 90%|█████████ | 675/748 [19:19<04:46,  3.93s/it]INFO:httpx:HTTP Request: POST https://api.openai.com/v1/chat/completions \"HTTP/1.1 200 OK\"\n",
      " 90%|█████████ | 676/748 [19:27<06:03,  5.05s/it]INFO:httpx:HTTP Request: POST https://api.openai.com/v1/chat/completions \"HTTP/1.1 200 OK\"\n",
      " 91%|█████████ | 677/748 [19:27<04:24,  3.72s/it]INFO:httpx:HTTP Request: POST https://api.openai.com/v1/chat/completions \"HTTP/1.1 200 OK\"\n",
      " 91%|█████████ | 678/748 [19:32<04:41,  4.02s/it]INFO:httpx:HTTP Request: POST https://api.openai.com/v1/chat/completions \"HTTP/1.1 200 OK\"\n",
      " 91%|█████████ | 679/748 [19:37<04:53,  4.25s/it]INFO:httpx:HTTP Request: POST https://api.openai.com/v1/chat/completions \"HTTP/1.1 200 OK\"\n",
      " 91%|█████████ | 680/748 [19:38<03:46,  3.34s/it]INFO:httpx:HTTP Request: POST https://api.openai.com/v1/chat/completions \"HTTP/1.1 200 OK\"\n",
      " 91%|█████████ | 681/748 [19:39<02:51,  2.56s/it]INFO:httpx:HTTP Request: POST https://api.openai.com/v1/chat/completions \"HTTP/1.1 200 OK\"\n",
      " 91%|█████████ | 682/748 [19:40<02:28,  2.25s/it]INFO:httpx:HTTP Request: POST https://api.openai.com/v1/chat/completions \"HTTP/1.1 200 OK\"\n",
      " 91%|█████████▏| 683/748 [19:41<02:03,  1.90s/it]INFO:httpx:HTTP Request: POST https://api.openai.com/v1/chat/completions \"HTTP/1.1 200 OK\"\n",
      " 91%|█████████▏| 684/748 [19:43<01:49,  1.70s/it]INFO:httpx:HTTP Request: POST https://api.openai.com/v1/chat/completions \"HTTP/1.1 200 OK\"\n",
      " 92%|█████████▏| 685/748 [19:45<02:09,  2.05s/it]INFO:httpx:HTTP Request: POST https://api.openai.com/v1/chat/completions \"HTTP/1.1 200 OK\"\n",
      " 92%|█████████▏| 686/748 [19:50<03:02,  2.94s/it]INFO:httpx:HTTP Request: POST https://api.openai.com/v1/chat/completions \"HTTP/1.1 200 OK\"\n",
      " 92%|█████████▏| 687/748 [19:51<02:20,  2.31s/it]INFO:httpx:HTTP Request: POST https://api.openai.com/v1/chat/completions \"HTTP/1.1 200 OK\"\n",
      " 92%|█████████▏| 688/748 [19:52<01:56,  1.94s/it]INFO:httpx:HTTP Request: POST https://api.openai.com/v1/chat/completions \"HTTP/1.1 200 OK\"\n",
      " 92%|█████████▏| 689/748 [19:54<01:43,  1.75s/it]INFO:httpx:HTTP Request: POST https://api.openai.com/v1/chat/completions \"HTTP/1.1 200 OK\"\n",
      " 92%|█████████▏| 690/748 [19:54<01:24,  1.45s/it]INFO:httpx:HTTP Request: POST https://api.openai.com/v1/chat/completions \"HTTP/1.1 200 OK\"\n",
      " 92%|█████████▏| 691/748 [19:56<01:17,  1.36s/it]INFO:httpx:HTTP Request: POST https://api.openai.com/v1/chat/completions \"HTTP/1.1 200 OK\"\n",
      " 93%|█████████▎| 692/748 [19:56<01:03,  1.13s/it]INFO:httpx:HTTP Request: POST https://api.openai.com/v1/chat/completions \"HTTP/1.1 200 OK\"\n",
      " 93%|█████████▎| 693/748 [19:57<00:56,  1.02s/it]INFO:httpx:HTTP Request: POST https://api.openai.com/v1/chat/completions \"HTTP/1.1 200 OK\"\n",
      " 93%|█████████▎| 694/748 [19:58<00:51,  1.06it/s]INFO:httpx:HTTP Request: POST https://api.openai.com/v1/chat/completions \"HTTP/1.1 200 OK\"\n",
      " 93%|█████████▎| 695/748 [19:58<00:43,  1.21it/s]INFO:httpx:HTTP Request: POST https://api.openai.com/v1/chat/completions \"HTTP/1.1 200 OK\"\n",
      " 93%|█████████▎| 696/748 [19:59<00:43,  1.19it/s]INFO:httpx:HTTP Request: POST https://api.openai.com/v1/chat/completions \"HTTP/1.1 200 OK\"\n",
      " 93%|█████████▎| 697/748 [20:00<00:41,  1.24it/s]INFO:httpx:HTTP Request: POST https://api.openai.com/v1/chat/completions \"HTTP/1.1 200 OK\"\n",
      " 93%|█████████▎| 698/748 [20:10<02:57,  3.55s/it]INFO:httpx:HTTP Request: POST https://api.openai.com/v1/chat/completions \"HTTP/1.1 200 OK\"\n",
      " 93%|█████████▎| 699/748 [20:12<02:28,  3.03s/it]INFO:httpx:HTTP Request: POST https://api.openai.com/v1/chat/completions \"HTTP/1.1 200 OK\"\n",
      " 94%|█████████▎| 700/748 [20:15<02:23,  2.98s/it]INFO:httpx:HTTP Request: POST https://api.openai.com/v1/chat/completions \"HTTP/1.1 200 OK\"\n",
      " 94%|█████████▎| 701/748 [20:15<01:49,  2.33s/it]INFO:httpx:HTTP Request: POST https://api.openai.com/v1/chat/completions \"HTTP/1.1 200 OK\"\n",
      " 94%|█████████▍| 702/748 [20:16<01:23,  1.82s/it]INFO:httpx:HTTP Request: POST https://api.openai.com/v1/chat/completions \"HTTP/1.1 200 OK\"\n",
      " 94%|█████████▍| 703/748 [20:17<01:15,  1.67s/it]INFO:httpx:HTTP Request: POST https://api.openai.com/v1/chat/completions \"HTTP/1.1 200 OK\"\n",
      " 94%|█████████▍| 704/748 [20:19<01:17,  1.77s/it]INFO:httpx:HTTP Request: POST https://api.openai.com/v1/chat/completions \"HTTP/1.1 200 OK\"\n",
      " 94%|█████████▍| 705/748 [20:21<01:14,  1.73s/it]INFO:httpx:HTTP Request: POST https://api.openai.com/v1/chat/completions \"HTTP/1.1 200 OK\"\n",
      " 94%|█████████▍| 706/748 [20:22<01:03,  1.50s/it]INFO:httpx:HTTP Request: POST https://api.openai.com/v1/chat/completions \"HTTP/1.1 200 OK\"\n",
      " 95%|█████████▍| 707/748 [20:23<00:54,  1.33s/it]INFO:httpx:HTTP Request: POST https://api.openai.com/v1/chat/completions \"HTTP/1.1 200 OK\"\n",
      " 95%|█████████▍| 708/748 [20:24<00:48,  1.20s/it]INFO:httpx:HTTP Request: POST https://api.openai.com/v1/chat/completions \"HTTP/1.1 200 OK\"\n",
      " 95%|█████████▍| 709/748 [20:25<00:42,  1.09s/it]INFO:httpx:HTTP Request: POST https://api.openai.com/v1/chat/completions \"HTTP/1.1 200 OK\"\n",
      " 95%|█████████▍| 710/748 [20:26<00:45,  1.19s/it]INFO:httpx:HTTP Request: POST https://api.openai.com/v1/chat/completions \"HTTP/1.1 200 OK\"\n",
      " 95%|█████████▌| 711/748 [20:27<00:46,  1.26s/it]INFO:httpx:HTTP Request: POST https://api.openai.com/v1/chat/completions \"HTTP/1.1 200 OK\"\n",
      " 95%|█████████▌| 712/748 [20:28<00:40,  1.13s/it]INFO:httpx:HTTP Request: POST https://api.openai.com/v1/chat/completions \"HTTP/1.1 200 OK\"\n",
      " 95%|█████████▌| 713/748 [20:30<00:49,  1.41s/it]INFO:httpx:HTTP Request: POST https://api.openai.com/v1/chat/completions \"HTTP/1.1 200 OK\"\n",
      " 95%|█████████▌| 714/748 [20:32<00:51,  1.50s/it]INFO:httpx:HTTP Request: POST https://api.openai.com/v1/chat/completions \"HTTP/1.1 200 OK\"\n",
      " 96%|█████████▌| 715/748 [20:34<00:51,  1.57s/it]INFO:httpx:HTTP Request: POST https://api.openai.com/v1/chat/completions \"HTTP/1.1 200 OK\"\n",
      " 96%|█████████▌| 716/748 [20:40<01:33,  2.92s/it]INFO:httpx:HTTP Request: POST https://api.openai.com/v1/chat/completions \"HTTP/1.1 200 OK\"\n",
      " 96%|█████████▌| 717/748 [20:42<01:19,  2.56s/it]INFO:httpx:HTTP Request: POST https://api.openai.com/v1/chat/completions \"HTTP/1.1 200 OK\"\n",
      " 96%|█████████▌| 718/748 [20:42<01:01,  2.06s/it]INFO:httpx:HTTP Request: POST https://api.openai.com/v1/chat/completions \"HTTP/1.1 200 OK\"\n",
      " 96%|█████████▌| 719/748 [20:44<00:57,  2.00s/it]INFO:httpx:HTTP Request: POST https://api.openai.com/v1/chat/completions \"HTTP/1.1 200 OK\"\n",
      " 96%|█████████▋| 720/748 [20:45<00:43,  1.57s/it]INFO:httpx:HTTP Request: POST https://api.openai.com/v1/chat/completions \"HTTP/1.1 200 OK\"\n",
      " 96%|█████████▋| 721/748 [20:45<00:33,  1.25s/it]INFO:httpx:HTTP Request: POST https://api.openai.com/v1/chat/completions \"HTTP/1.1 200 OK\"\n",
      " 97%|█████████▋| 722/748 [20:47<00:32,  1.27s/it]INFO:httpx:HTTP Request: POST https://api.openai.com/v1/chat/completions \"HTTP/1.1 200 OK\"\n",
      " 97%|█████████▋| 723/748 [20:48<00:30,  1.23s/it]INFO:httpx:HTTP Request: POST https://api.openai.com/v1/chat/completions \"HTTP/1.1 200 OK\"\n",
      " 97%|█████████▋| 724/748 [20:49<00:31,  1.33s/it]INFO:httpx:HTTP Request: POST https://api.openai.com/v1/chat/completions \"HTTP/1.1 200 OK\"\n",
      " 97%|█████████▋| 725/748 [20:50<00:26,  1.15s/it]INFO:httpx:HTTP Request: POST https://api.openai.com/v1/chat/completions \"HTTP/1.1 200 OK\"\n",
      " 97%|█████████▋| 726/748 [20:51<00:23,  1.05s/it]INFO:httpx:HTTP Request: POST https://api.openai.com/v1/chat/completions \"HTTP/1.1 200 OK\"\n",
      " 97%|█████████▋| 727/748 [20:52<00:24,  1.15s/it]INFO:httpx:HTTP Request: POST https://api.openai.com/v1/chat/completions \"HTTP/1.1 200 OK\"\n",
      " 97%|█████████▋| 728/748 [20:53<00:21,  1.05s/it]INFO:httpx:HTTP Request: POST https://api.openai.com/v1/chat/completions \"HTTP/1.1 200 OK\"\n",
      " 97%|█████████▋| 729/748 [20:54<00:19,  1.03s/it]INFO:httpx:HTTP Request: POST https://api.openai.com/v1/chat/completions \"HTTP/1.1 200 OK\"\n",
      " 98%|█████████▊| 730/748 [20:56<00:21,  1.22s/it]INFO:httpx:HTTP Request: POST https://api.openai.com/v1/chat/completions \"HTTP/1.1 200 OK\"\n",
      " 98%|█████████▊| 731/748 [20:57<00:20,  1.18s/it]INFO:httpx:HTTP Request: POST https://api.openai.com/v1/chat/completions \"HTTP/1.1 200 OK\"\n",
      " 98%|█████████▊| 732/748 [20:58<00:18,  1.17s/it]INFO:httpx:HTTP Request: POST https://api.openai.com/v1/chat/completions \"HTTP/1.1 200 OK\"\n",
      " 98%|█████████▊| 733/748 [21:00<00:21,  1.43s/it]INFO:httpx:HTTP Request: POST https://api.openai.com/v1/chat/completions \"HTTP/1.1 200 OK\"\n",
      " 98%|█████████▊| 734/748 [21:01<00:18,  1.31s/it]INFO:httpx:HTTP Request: POST https://api.openai.com/v1/chat/completions \"HTTP/1.1 200 OK\"\n",
      " 98%|█████████▊| 735/748 [21:03<00:17,  1.37s/it]INFO:httpx:HTTP Request: POST https://api.openai.com/v1/chat/completions \"HTTP/1.1 200 OK\"\n",
      " 98%|█████████▊| 736/748 [21:04<00:16,  1.37s/it]INFO:httpx:HTTP Request: POST https://api.openai.com/v1/chat/completions \"HTTP/1.1 200 OK\"\n",
      " 99%|█████████▊| 737/748 [21:05<00:15,  1.38s/it]INFO:httpx:HTTP Request: POST https://api.openai.com/v1/chat/completions \"HTTP/1.1 200 OK\"\n",
      " 99%|█████████▊| 738/748 [21:07<00:13,  1.32s/it]INFO:httpx:HTTP Request: POST https://api.openai.com/v1/chat/completions \"HTTP/1.1 200 OK\"\n",
      " 99%|█████████▉| 739/748 [21:08<00:12,  1.36s/it]INFO:httpx:HTTP Request: POST https://api.openai.com/v1/chat/completions \"HTTP/1.1 200 OK\"\n",
      " 99%|█████████▉| 740/748 [21:09<00:10,  1.30s/it]INFO:httpx:HTTP Request: POST https://api.openai.com/v1/chat/completions \"HTTP/1.1 200 OK\"\n",
      " 99%|█████████▉| 741/748 [21:10<00:08,  1.16s/it]INFO:httpx:HTTP Request: POST https://api.openai.com/v1/chat/completions \"HTTP/1.1 200 OK\"\n",
      " 99%|█████████▉| 742/748 [21:10<00:05,  1.04it/s]INFO:httpx:HTTP Request: POST https://api.openai.com/v1/chat/completions \"HTTP/1.1 200 OK\"\n",
      " 99%|█████████▉| 743/748 [21:12<00:05,  1.02s/it]INFO:httpx:HTTP Request: POST https://api.openai.com/v1/chat/completions \"HTTP/1.1 200 OK\"\n",
      " 99%|█████████▉| 744/748 [21:14<00:05,  1.32s/it]INFO:httpx:HTTP Request: POST https://api.openai.com/v1/chat/completions \"HTTP/1.1 200 OK\"\n",
      "100%|█████████▉| 745/748 [21:14<00:03,  1.18s/it]INFO:httpx:HTTP Request: POST https://api.openai.com/v1/chat/completions \"HTTP/1.1 200 OK\"\n",
      "100%|█████████▉| 746/748 [21:16<00:02,  1.14s/it]INFO:httpx:HTTP Request: POST https://api.openai.com/v1/chat/completions \"HTTP/1.1 200 OK\"\n",
      "100%|█████████▉| 747/748 [21:17<00:01,  1.16s/it]INFO:httpx:HTTP Request: POST https://api.openai.com/v1/chat/completions \"HTTP/1.1 200 OK\"\n",
      "100%|██████████| 748/748 [21:18<00:00,  1.71s/it]\n"
     ]
    }
   ],
   "execution_count": 45
  },
  {
   "metadata": {
    "ExecuteTime": {
     "end_time": "2024-12-07T14:48:36.205512Z",
     "start_time": "2024-12-07T14:48:36.202689Z"
    }
   },
   "cell_type": "code",
   "source": [
    "for s_orig, s in zip(samples_to_grade, result_samples_to_grade):\n",
    "    s['original_key_points'] = s_orig['original_key_points']"
   ],
   "id": "8bac4799d8644624",
   "outputs": [],
   "execution_count": 64
  },
  {
   "metadata": {
    "ExecuteTime": {
     "end_time": "2024-12-07T14:48:44.792571Z",
     "start_time": "2024-12-07T14:48:44.743992Z"
    }
   },
   "cell_type": "code",
   "source": [
    "with open('result_samples_to_grade.json', 'w') as f:\n",
    "    json.dump(result_samples_to_grade, f)"
   ],
   "id": "e7fde097b6ba446",
   "outputs": [],
   "execution_count": 68
  },
  {
   "metadata": {
    "ExecuteTime": {
     "end_time": "2024-12-07T14:56:37.448333Z",
     "start_time": "2024-12-07T14:56:37.446051Z"
    }
   },
   "cell_type": "code",
   "source": "result_samples_to_grade[0]",
   "id": "fb0e7a900144e5b3",
   "outputs": [
    {
     "data": {
      "text/plain": [
       "{'chapter': 'Introduction to Test Before Loops\\n\\nThere are two commonly used test before loops in the iteration (or repetition) category of control structures. They are: while and for. This module covers the: while.\\n\\nUnderstanding Iteration in General - while\\n\\nThe concept of iteration is connected to possibly wanting to repeat an action. Like all control structures we ask a question to control the execution of the loop. The term loop comes from the circular looping motion that occurs when using flowcharting. The basic form of the while loop is as follows:\\n\\n```initialization of the flag\\nwhile the answer to the question is true then do\\nsome statements or action\\nsome statements or action\\nsome statements or action\\nupdate the flag\\n```\\n\\nIn almost all languages the question (called a test expression) is a Boolean expression. The Boolean data type has two values – true and false. Let\\'s rewrite the structure to consider this:\\n\\n```initialization of the flag\\nwhile the expression is true then do\\nsome statements or action\\nsome statements or action\\nsome statements or action\\nupdate the flag\\n```\\n\\nWithin the while control structure there are four attributes to a properly working loop. They are:\\n\\n• Initializing the flag\\n• Test expression\\n• Action or actions\\n• Update of the flag\\n\\nThe initialization of the flag is not technically part of the control structure, but a necessary item to occur before the loop is started. The English phrasing is, \"While the expression is true, do the following actions\". This is looping on the true. When the test expression is false, you stop the loop and go on with the next item in the program. Notice, because this is a test before loop the action might not happen. It is called a test before loop because the test comes before the action. It is also sometimes called a pre-test loop, meaning the test is pre (or Latin for before) the action and update.\\n\\nHuman Example of the while Loop\\n\\nConsider the following one-way conversation from a mother to her child.\\n\\nChild: The child says nothing, but mother knows the child had Cheerios for breakfast and history tells us that the child most likely spilled some Cheerios on the floor.\\n\\nMother says: \"While it is true that you see (As long as you can see) a Cheerio on floor, pick it up and put it in the garbage.\"\\n\\nNote: All of the elements are present to determine the action (or flow) that the child will be doing (in this case repeating). Because the question (can you see a Cheerios) has only two possible answers (true or false) the action will continue while there are Cheerios on the floor. Either the child 1) never picks up a Cheerio because they never spilled any or 2) picks up a Cheerio and keeps picking up Cheerios one at a time while he can see a Cheerio on the floor (that is until they are all picked up).\\n\\nThe while Structure within C++\\n\\nSyntax\\n\\nThe syntax for the while control structure within the C++ programming language is:\\n\\n```statement;        // This statement initializes the flag;\\nwhile (expression)\\n{\\nstatement;\\nstatement;\\nstatement;\\nstatement;    // This statement updates the flag;\\n}\\n```\\n\\nThe test expression is within the parentheses, but this is not a function call. The parentheses are part of the control structure. Additionally, there is not a semicolon after the parenthesis following the expression.\\n\\nAn Example\\n\\n```C++ source code: while\\nloop_response = \\'y\\';\\nwhile (loop_response == \\'y\\')\\n{\\ncout << \"\\\\nWhat is your age? \";\\ncin >> age_user;\\ncout << \"\\\\nWhat is your friend\\'s age? \";\\ncin >> age_friend;\\ncout >> \"\\\\nTogether your ages add up to: \";\\ncout >> (age_user + age_friend);\\ncout << \"\\\\nDo you want to do it again? y or n \";\\ncin >> loop_response;\\n}\\n```\\n\\nThe four attributes of a test before loop are present. The initialization of the flag. The test is the equality relational comparison of the value in the flag variable to the lower case character of y. The action part consists of the 6 lines that prompt for data and then displays the total of the two ages. The update of the flag is the displaying the question and getting the answer for the variable loop_response.\\n\\nThis type of loop control is called an event controlled loop. The flag updating is an event where someone decides if they want the loop to execute again.\\n\\nUsing indentation with the alignment of the loop actions and flag update is normal industry practice within the C++ community.\\n\\nInfinite Loops\\n\\nAt this point it\\'s worth mentioning that good programming always provides for a method to insure that the loop question will eventually be false so that the loop will stop executing and the program continues with the next line of code. However, if this does not happen then the program is in an infinite loop. Infinite loops are a bad thing. Consider the following code:\\n\\n```C++ source code: infinite loop\\nloop_response = \\'y\\';\\nwhile (loop_response == \\'y\\')\\n{\\ncout << \"\\\\nWhat is your age? \";\\ncin >> age_user;\\ncout << \"\\\\nWhat is your friend\\'s age? \";\\ncin >> age_friend;\\ncout >> \"\\\\nTogether your ages add up to: \";\\ncout >> (age_user + age_friend);\\n}\\n```\\n\\nThe programmer assigned a value to the flag before the loop which is correct. However, he forgot to update the flag. Every time the test expression is asked it will always be true. Thus, an infinite loop because the programmer did not provide a way to exit the loop (he forgot to update the flag). Consider the following code:\\n\\n```C++ source code: infinite loop\\nloop_response = \\'y\\';\\nwhile (loop_response = \\'y\\')\\n{\\ncout << \"\\\\nWhat is your age? \";\\ncin >> age_user;\\ncout << \"\\\\nWhat is your friend\\'s age? \";\\ncin >> age_friend;\\ncout >> \"\\\\nTogether your ages add up to: \";\\ncout >> (age_user + age_friend);\\ncout << \"\\\\nDo you want to do it again? y or n \";\\ncin >> loop_response;\\n}\\n```\\n\\nNo matter what the user replies during the flag update, the test expression does not do a relational comparison but does an assignment. It assigns \\'y\\' to the variable and asks if \\'y\\' is true? Since all non-zero values are treated as representing true within the Boolean concepts of the C++ programming language, the answer to the test expression is true. Viola, you have an infinite loop.\\n\\n```C++ source code: infinite loop\\nloop_response = \\'y\\';\\nwhile (loop_response == \\'y\\');\\n{\\ncout << \"\\\\nWhat is your age? \";\\ncin >> age_user;\\ncout << \"\\\\nWhat is your friend\\'s age? \";\\ncin >> age_friend;\\ncout >> \"\\\\nTogether your ages add up to: \";\\ncout >> (age_user + age_friend);\\ncout << \"\\\\nDo you want to do it again? y or n \";\\ncin >> loop_response;\\n}\\n```\\n\\nThe undesirable semi-colon on the end of while line causes the action of the while loop to be the \"nothingness\" between the closing parenthesis and the semi-colon. The program will infinitely loop because there is no action (that is no action and no update). If this is the first item in your program it will appear to start but there will be no output.\\n\\nCounting Loops\\n\\nThe examples above are for an event controlled loop. The flag updating is an event where someone decides if they want the loop to execute again. Often the initialization sets the flag so that the loop will execute at least once.\\n\\nAnother common usage of the while loop is as a counting loop. Consider:\\n\\n```C++ source code: while loop that is counting\\ncounter = 0;\\nwhile (counter < 5)\\n{\\ncout << \"\\\\nI love ice cream!\";\\ncounter++;\\n}\\n```\\n\\nThe variable counter is said to be controlling the loop. It is set to zero (called initialization) before entering the while loop structure and as long as it is less than 5 (five); the loop action will be executed. But part of the loop action uses the increment operator to increase counter\\'s value by one. After executing the loop five times (once for counter\\'s values of: 0, 1, 2, 3 and 4) the expression will be false and the next line of code in the program will execute. A counting loop is designed to execute the action (which could be more than one statement) a set of given number of times. In our example, the message is displayed five times on the monitor. It is accomplished my making sure all four attributes of the while control structure are present and working properly. The attributes are:\\n\\n• Initializing the flag\\n• Test expression\\n• Action or actions\\n• Update of the flag\\n\\nMissing an attribute might cause an infinite loop or give undesired results (does not work properly).\\n\\nInfinite Loops\\n\\nConsider:\\n\\n```C++ source code: infinite loop\\ncounter = 0;\\nwhile (counter < 5)\\n{\\ncout << \"\\\\nI love ice cream!\";\\n}\\n```\\n\\nMissing the flag update usually causes an infinite loop.\\n\\nVariations on Counting\\n\\nIn the following example, the integer variable age is said to be controlling the loop (that is the flag). We can assume that age has a value provided earlier in the program. Because the while structure is a test before loop; it is possible that the person’s age is 0 (zero) and the first time we test the expression it will be false and the action part of the loop would never be executed.\\n\\n```C++ source code: while as a counting loop\\nwhile (0 < age)\\n{\\ncout << \"\\\\nI love candy!\";\\nage--;\\n}\\n```\\n\\nConsider the following variation assuming that age and counter are both integer data type and that age has a value:\\n\\n```C++ source code: while as a counting loop\\ncounter = 0;\\nwhile (counter < age)\\n{\\ncout << \"\\\\nI love corn chips!\";\\ncounter++;\\n}\\n```\\n\\nThis loop is a counting loop similar to our first counting loop example. The only difference is instead of using a literal constant (in other words 5) in our expression, we used the variable age (and thus the value stored in age) to determine how many times to execute the loop. However, unlike our first counting loop example which will always execute exactly 5 times; it is possible that the person’s age is 0 (zero) and the first time we test the expression it will be false and the action part of the loop would never be executed.\\n\\nDefinitions\\n\\nWhile\\nA test before iteration control structure available in C++.\\nLoop Attributes\\nItems associated with iteration or looping control structures.\\nInitialize Item\\nAn attribute of iteration control structures.\\nMight not Happen\\nIndicating that test before loops might not execute the action.\\nEvent Controlled\\nUsing user input to control a loop.\\nCounting Controlled\\nUsing a variable to count up or down to control a loop.\\n\\n15.03: Practice 14 Test Before Loops\\n\\nLearning Objectives\\n\\nWith 100% accuracy during a: memory building activity, exercises, lab assignment, problems, or timed quiz/exam; the student is expected to:\\n\\nDefine the terms on the definitions as listed in the modules associated with this chapter.\\n\\nIdentify which selection control structures are test before iteration.\\n\\nBe able to write pseudo code or flowcharting for the while control structure.\\n\\nBe able to write C++ source code for the while control structure.\\n\\nLink to: MBA 14\\n\\nExercises\\n\\n```Questions\\n1. (T or F) `x = x - 1; `and `x-=1;` and `x--;` and `--x;`all accomplish decrement.\\n2. Given: `int y = 26;` and `int z;` what values will y and z have after: `z = y++;`\\n3. Given: `double x = 4.44;` and int y; what values will x and y have after: `y = --x;`\\n4. As an expression: `10 / ++(money * 4)`is this ok? Why or why not?\\nAnswers\\n1. True\\n2. y is 27 and z is 26\\n3. x is 3.44 and y is 3 (Note: truncation of 3.44 to 3 upon demotion to interger data type)\\n4. Not ok. Error, the item incremented must have Lvalue attributes, usually a variable.\\nBecause of the parentheses, it is an expression not a variable.\\n```\\n\\nLab Assignment\\n\\nCreating a Folder or Sub-Folder for Chapter 14 Files\\n\\nDepending on your compiler/IDE, you should decide where to download and store source code files for processing. Prudence dictates that you create these folders as needed prior to downloading source code files. A suggested sub-folder for the Bloodshed Dev-C++ 5 compiler/IDE might be named:\\n\\n• Chapter_14 within the folder named: Cpp_Source_Code_Files\\n\\nIf you have not done so, please create the folder(s) and/or sub-folder(s) as appropriate.\\n\\nDownload the Lab Files\\n\\nDownload and store the following file(s) to your storage device in the appropriate folder(s). You may need to right click on the link and select \"Save Target As\" in order to download the file.\\n\\nDownload from Connexions: Lab_14_Pseudocode.txt\\n\\nDetailed Lab Instructions\\n\\nRead and follow the directions below carefully, and perform the steps in the order listed.\\n\\n• Create a source code file from the Lab_14_Pseudocode.txt file. Name it: Lab_14.cpp\\n• Build (compile and run) your program.\\n• After you have successfully written this program, if you are taking this course for college credit, follow the instructions from your professor/instructor for submitting it for grading.\\n\\nProblems\\n\\nProblem 14a - Instructions\\n\\nFlowchart the following pseudocode:\\n\\n```Psuedocode:\\nAssign counter a value of zero\\nWhile counter is less than 5\\nDisplay \"I love cookies!\"\\nIncrement counter\\nEndwhile\\n```',\n",
       " 'question': 'What is the easiest way to make a while loop that never stops executing?',\n",
       " 'key_points': ['the easiest example is while (1 == 1), which is always true',\n",
       "  'an even easier example is while True, which is always true'],\n",
       " 'closed_book': True,\n",
       " 'answer_in_chapter': False,\n",
       " 'misleading_question': False,\n",
       " 'difficulty': 'easy',\n",
       " 'domain': 'computer_science',\n",
       " 'path_to_chapter': 'textbooks/eng/Computer_Science/Programming_and_Computation_Fundamentals/Programming_Fundamentals_-_A_Modular_Structured_Approach_using_C_(Busbee)/15%3A_Test_Before_Loops/15.02%3A_While_Loop.txt',\n",
       " 'key_points_mask': ['_', 'B', 'C'],\n",
       " 'answer': 'One way to create a while loop that never stops executing is by using `while (1 == 1)`, as this condition is always true. An even simpler example is `while True`, which is inherently always true and thus results in an infinite loop.',\n",
       " 'original_key_points': ['explain that while loop will never stop executing if the condition is always satisfied',\n",
       "  'the easiest example is while (1 == 1), which is always true',\n",
       "  'an even easier example is while True, which is always true']}"
      ]
     },
     "execution_count": 72,
     "metadata": {},
     "output_type": "execute_result"
    }
   ],
   "execution_count": 72
  },
  {
   "metadata": {
    "ExecuteTime": {
     "end_time": "2024-12-07T14:49:33.570876Z",
     "start_time": "2024-12-07T14:49:30.094830Z"
    }
   },
   "cell_type": "code",
   "source": [
    "def grader_prompt(question: str, key_points: list, key_point_labels: list, answer: str) -> str:\n",
    "    key_point_repr = [f\"{label}: {p}\" for label, p in zip(key_point_labels, key_points)]\n",
    "\n",
    "    return f\"\"\"\n",
    "    You are the grader AI, your job is to review student answer and determine which key points in contains.\n",
    "\n",
    "    You are given the following key points: {'\\n'.join(key_point_repr)}\n",
    "\n",
    "    Those are the key points to answer the question: {question}\n",
    "\n",
    "    Here is the student's answer: {answer}\n",
    "\n",
    "    Return the list of the key points that are mentioned in the answer in the following format: [A, C, ..]\n",
    "    \"\"\"\n",
    "steps = 0\n",
    "for s in result_samples_to_grade:\n",
    "    key_points = s['original_key_points']\n",
    "    key_points_labels = list(abcd[:len(key_points)])\n",
    "    real_labels = s['key_points_mask']\n",
    "\n",
    "    print(key_points_labels, real_labels)\n",
    "\n",
    "    g_prompt = grader_prompt(s['question'], key_points, key_points_labels, s['answer'])\n",
    "\n",
    "    response = ask_openai(g_prompt)\n",
    "\n",
    "    print(g_prompt)\n",
    "\n",
    "    print(response)\n",
    "\n",
    "    print('=' * 20)\n",
    "\n",
    "    steps += 1\n",
    "    if steps > 5:\n",
    "        break\n"
   ],
   "id": "c353db3845983a40",
   "outputs": [
    {
     "name": "stdout",
     "output_type": "stream",
     "text": [
      "['A', 'B', 'C'] ['_', 'B', 'C']\n"
     ]
    },
    {
     "name": "stderr",
     "output_type": "stream",
     "text": [
      "INFO:httpx:HTTP Request: POST https://api.openai.com/v1/chat/completions \"HTTP/1.1 200 OK\"\n"
     ]
    },
    {
     "name": "stdout",
     "output_type": "stream",
     "text": [
      "\n",
      "    You are the grader AI, your job is to review student answer and determine which key points in contains.\n",
      "\n",
      "    You are given the following key points: A: explain that while loop will never stop executing if the condition is always satisfied\n",
      "B: the easiest example is while (1 == 1), which is always true\n",
      "C: an even easier example is while True, which is always true\n",
      "\n",
      "    Those are the key points to answer the question: What is the easiest way to make a while loop that never stops executing?\n",
      "\n",
      "    Here is the student's answer: One way to create a while loop that never stops executing is by using `while (1 == 1)`, as this condition is always true. An even simpler example is `while True`, which is inherently always true and thus results in an infinite loop.\n",
      "\n",
      "    Return the list of the key points that are mentioned in the answer in the following format: [A, C, ..]\n",
      "    \n",
      "[A, B, C]\n",
      "====================\n",
      "['A', 'B', 'C'] ['A', '_', 'C']\n"
     ]
    },
    {
     "name": "stderr",
     "output_type": "stream",
     "text": [
      "INFO:httpx:HTTP Request: POST https://api.openai.com/v1/chat/completions \"HTTP/1.1 200 OK\"\n"
     ]
    },
    {
     "name": "stdout",
     "output_type": "stream",
     "text": [
      "\n",
      "    You are the grader AI, your job is to review student answer and determine which key points in contains.\n",
      "\n",
      "    You are given the following key points: A: explain that while loop will never stop executing if the condition is always satisfied\n",
      "B: the easiest example is while (1 == 1), which is always true\n",
      "C: an even easier example is while True, which is always true\n",
      "\n",
      "    Those are the key points to answer the question: What is the easiest way to make a while loop that never stops executing?\n",
      "\n",
      "    Here is the student's answer: A while loop will never stop executing if the condition is always satisfied. An even easier example of a loop that never stops is using `while True`, which is always true.\n",
      "\n",
      "    Return the list of the key points that are mentioned in the answer in the following format: [A, C, ..]\n",
      "    \n",
      "[A, C]\n",
      "====================\n",
      "['A', 'B', 'C'] ['A', 'B', '_']\n"
     ]
    },
    {
     "name": "stderr",
     "output_type": "stream",
     "text": [
      "INFO:httpx:HTTP Request: POST https://api.openai.com/v1/chat/completions \"HTTP/1.1 200 OK\"\n"
     ]
    },
    {
     "name": "stdout",
     "output_type": "stream",
     "text": [
      "\n",
      "    You are the grader AI, your job is to review student answer and determine which key points in contains.\n",
      "\n",
      "    You are given the following key points: A: explain that while loop will never stop executing if the condition is always satisfied\n",
      "B: the easiest example is while (1 == 1), which is always true\n",
      "C: an even easier example is while True, which is always true\n",
      "\n",
      "    Those are the key points to answer the question: What is the easiest way to make a while loop that never stops executing?\n",
      "\n",
      "    Here is the student's answer: To create a while loop that never stops executing, ensure the condition is always satisfied. The simplest example is `while (1 == 1)`, which is perpetually true.\n",
      "\n",
      "    Return the list of the key points that are mentioned in the answer in the following format: [A, C, ..]\n",
      "    \n",
      "[A, B]\n",
      "====================\n",
      "['A', 'B'] ['_', 'B']\n"
     ]
    },
    {
     "name": "stderr",
     "output_type": "stream",
     "text": [
      "INFO:httpx:HTTP Request: POST https://api.openai.com/v1/chat/completions \"HTTP/1.1 200 OK\"\n"
     ]
    },
    {
     "name": "stdout",
     "output_type": "stream",
     "text": [
      "\n",
      "    You are the grader AI, your job is to review student answer and determine which key points in contains.\n",
      "\n",
      "    You are given the following key points: A: Arrays are implemented as contiguous blocks of memory.\n",
      "B: Arrays do not depend on complicated data structures.\n",
      "\n",
      "    Those are the key points to answer the question: Does the underlying implementation of arrays in C++ have any underlying data stucture?\n",
      "\n",
      "    Here is the student's answer: The implementation of arrays in C++ does not rely on any complicated data structures.\n",
      "\n",
      "    Return the list of the key points that are mentioned in the answer in the following format: [A, C, ..]\n",
      "    \n",
      "[B]\n",
      "====================\n",
      "['A', 'B'] ['A', '_']\n"
     ]
    },
    {
     "name": "stderr",
     "output_type": "stream",
     "text": [
      "INFO:httpx:HTTP Request: POST https://api.openai.com/v1/chat/completions \"HTTP/1.1 200 OK\"\n"
     ]
    },
    {
     "name": "stdout",
     "output_type": "stream",
     "text": [
      "\n",
      "    You are the grader AI, your job is to review student answer and determine which key points in contains.\n",
      "\n",
      "    You are given the following key points: A: Arrays are implemented as contiguous blocks of memory.\n",
      "B: Arrays do not depend on complicated data structures.\n",
      "\n",
      "    Those are the key points to answer the question: Does the underlying implementation of arrays in C++ have any underlying data stucture?\n",
      "\n",
      "    Here is the student's answer: The underlying implementation of arrays in C++ consists of contiguous blocks of memory.\n",
      "\n",
      "    Return the list of the key points that are mentioned in the answer in the following format: [A, C, ..]\n",
      "    \n",
      "[A]\n",
      "====================\n",
      "['A', 'B'] ['_', 'B']\n"
     ]
    },
    {
     "name": "stderr",
     "output_type": "stream",
     "text": [
      "INFO:httpx:HTTP Request: POST https://api.openai.com/v1/chat/completions \"HTTP/1.1 200 OK\"\n"
     ]
    },
    {
     "name": "stdout",
     "output_type": "stream",
     "text": [
      "\n",
      "    You are the grader AI, your job is to review student answer and determine which key points in contains.\n",
      "\n",
      "    You are given the following key points: A: Discuss the data redundancy and inconsistency\n",
      "B: Discuss the data isolation, integrity problems, and security issues.\n",
      "\n",
      "    Those are the key points to answer the question: What are the disadvantages of file-based systems?\n",
      "\n",
      "    Here is the student's answer: File-based systems often suffer from data isolation issues, meaning the data is stored in separate files, making it challenging to access, share, or integrate data from different sources. This isolation can lead to problems with data integrity, where maintaining accurate and consistent data across files becomes difficult due to the lack of centralized control. Furthermore, these systems face security issues, as they typically do not provide comprehensive mechanisms for data protection, leading to potential vulnerabilities and unauthorized access.\n",
      "\n",
      "    Return the list of the key points that are mentioned in the answer in the following format: [A, C, ..]\n",
      "    \n",
      "The student's answer mentions the following key points: B (Discuss the data isolation, integrity problems, and security issues).\n",
      "\n",
      "Therefore, the list of key points that are mentioned in the answer is: [B]\n",
      "====================\n"
     ]
    }
   ],
   "execution_count": 70
  }
 ],
 "metadata": {
  "kernelspec": {
   "display_name": "Python 3",
   "language": "python",
   "name": "python3"
  },
  "language_info": {
   "codemirror_mode": {
    "name": "ipython",
    "version": 2
   },
   "file_extension": ".py",
   "mimetype": "text/x-python",
   "name": "python",
   "nbconvert_exporter": "python",
   "pygments_lexer": "ipython2",
   "version": "2.7.6"
  }
 },
 "nbformat": 4,
 "nbformat_minor": 5
}
